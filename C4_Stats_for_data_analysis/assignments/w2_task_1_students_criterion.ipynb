{
 "cells": [
  {
   "cell_type": "markdown",
   "id": "subjective-definition",
   "metadata": {},
   "source": [
    "## Критерии Стьюдента"
   ]
  },
  {
   "cell_type": "code",
   "execution_count": 1,
   "id": "gorgeous-evidence",
   "metadata": {},
   "outputs": [
    {
     "name": "stdout",
     "output_type": "stream",
     "text": [
      "Populating the interactive namespace from numpy and matplotlib\n"
     ]
    }
   ],
   "source": [
    "import numpy as np\n",
    "import pandas as pd\n",
    "import sklearn\n",
    "from sklearn.model_selection import train_test_split\n",
    "from sklearn.linear_model import LinearRegression\n",
    "from sklearn.ensemble import RandomForestRegressor\n",
    "import scipy\n",
    "import statsmodels\n",
    "from statsmodels.stats.weightstats import *\n",
    "%pylab inline"
   ]
  },
  {
   "cell_type": "markdown",
   "id": "lesser-slovenia",
   "metadata": {},
   "source": [
    "**1.** Уровень кальция в крови здоровых молодых женщин равен в среднем 9.5 милиграммам на децилитр и имеет характерное стандартное отклонение 0.4 мг/дл. В сельской больнице Гватемалы для 160 здоровых беременных женщин при первом обращении для ведения беременности был измерен уровень кальция; среднее значение составило 9.57 мг/дл. Можно ли утверждать, что средний уровень кальция в этой популяции отличается от 9.5?\n",
    "Посчитайте достигаемый уровень значимости. Поскольку известны только среднее и дисперсия, а не сама выборка, нельзя использовать стандартные функции критериев — нужно реализовать формулу достигаемого уровня значимости самостоятельно.\n",
    "\n",
    "Округлите ответ до четырёх знаков после десятичной точки."
   ]
  },
  {
   "cell_type": "markdown",
   "id": "burning-string",
   "metadata": {},
   "source": [
    "### Z-критерий\n",
    "$$ Z(X^n) = \\frac {\\bar X - \\mu_0 }{\\sigma / \\sqrt n} $$\n",
    "\n",
    "### Гипотеза:\n",
    "$$H_1: \\mu \\ne \\mu_0 \\Rightarrow p =2(1-F_{N(0,1)}(|z|))$$"
   ]
  },
  {
   "cell_type": "code",
   "execution_count": 2,
   "id": "primary-guidance",
   "metadata": {},
   "outputs": [
    {
     "name": "stdout",
     "output_type": "stream",
     "text": [
      "p-value: 0.0269\n"
     ]
    }
   ],
   "source": [
    "X_mean = 9.57\n",
    "mu_0 = 9.5\n",
    "sigma = 0.4\n",
    "n = 160\n",
    "Z = (X_mean - mu_0) / (sigma / n**0.5)\n",
    "p = 2 * (1 - scipy.stats.norm.cdf(Z))\n",
    "print(f\"p-value: {round(p, 4)}\")"
   ]
  },
  {
   "cell_type": "markdown",
   "id": "vital-somewhere",
   "metadata": {},
   "source": [
    "**Вывод:** Уровень значимости гипотезы $H_1$ о неравенстве средних < 0.05 $\\rightarrow$ нулевая гипотеза о равенстве средниз отвергается на уровне значимости 0.05"
   ]
  },
  {
   "cell_type": "markdown",
   "id": "miniature-bulgaria",
   "metadata": {},
   "source": [
    "**2.** Имеются данные о стоимости и размерах 53940 бриллиантов:"
   ]
  },
  {
   "cell_type": "code",
   "execution_count": 3,
   "id": "sized-kelly",
   "metadata": {},
   "outputs": [
    {
     "data": {
      "text/html": [
       "<div>\n",
       "<style scoped>\n",
       "    .dataframe tbody tr th:only-of-type {\n",
       "        vertical-align: middle;\n",
       "    }\n",
       "\n",
       "    .dataframe tbody tr th {\n",
       "        vertical-align: top;\n",
       "    }\n",
       "\n",
       "    .dataframe thead th {\n",
       "        text-align: right;\n",
       "    }\n",
       "</style>\n",
       "<table border=\"1\" class=\"dataframe\">\n",
       "  <thead>\n",
       "    <tr style=\"text-align: right;\">\n",
       "      <th></th>\n",
       "      <th>carat</th>\n",
       "      <th>depth</th>\n",
       "      <th>table</th>\n",
       "      <th>price</th>\n",
       "      <th>x</th>\n",
       "      <th>y</th>\n",
       "      <th>z</th>\n",
       "    </tr>\n",
       "  </thead>\n",
       "  <tbody>\n",
       "    <tr>\n",
       "      <th>0</th>\n",
       "      <td>0.23</td>\n",
       "      <td>61.5</td>\n",
       "      <td>55.0</td>\n",
       "      <td>326</td>\n",
       "      <td>3.95</td>\n",
       "      <td>3.98</td>\n",
       "      <td>2.43</td>\n",
       "    </tr>\n",
       "    <tr>\n",
       "      <th>1</th>\n",
       "      <td>0.21</td>\n",
       "      <td>59.8</td>\n",
       "      <td>61.0</td>\n",
       "      <td>326</td>\n",
       "      <td>3.89</td>\n",
       "      <td>3.84</td>\n",
       "      <td>2.31</td>\n",
       "    </tr>\n",
       "    <tr>\n",
       "      <th>2</th>\n",
       "      <td>0.23</td>\n",
       "      <td>56.9</td>\n",
       "      <td>65.0</td>\n",
       "      <td>327</td>\n",
       "      <td>4.05</td>\n",
       "      <td>4.07</td>\n",
       "      <td>2.31</td>\n",
       "    </tr>\n",
       "    <tr>\n",
       "      <th>3</th>\n",
       "      <td>0.29</td>\n",
       "      <td>62.4</td>\n",
       "      <td>58.0</td>\n",
       "      <td>334</td>\n",
       "      <td>4.20</td>\n",
       "      <td>4.23</td>\n",
       "      <td>2.63</td>\n",
       "    </tr>\n",
       "    <tr>\n",
       "      <th>4</th>\n",
       "      <td>0.31</td>\n",
       "      <td>63.3</td>\n",
       "      <td>58.0</td>\n",
       "      <td>335</td>\n",
       "      <td>4.34</td>\n",
       "      <td>4.35</td>\n",
       "      <td>2.75</td>\n",
       "    </tr>\n",
       "  </tbody>\n",
       "</table>\n",
       "</div>"
      ],
      "text/plain": [
       "   carat  depth  table  price     x     y     z\n",
       "0   0.23   61.5   55.0    326  3.95  3.98  2.43\n",
       "1   0.21   59.8   61.0    326  3.89  3.84  2.31\n",
       "2   0.23   56.9   65.0    327  4.05  4.07  2.31\n",
       "3   0.29   62.4   58.0    334  4.20  4.23  2.63\n",
       "4   0.31   63.3   58.0    335  4.34  4.35  2.75"
      ]
     },
     "execution_count": 3,
     "metadata": {},
     "output_type": "execute_result"
    }
   ],
   "source": [
    "data = pd.read_csv('data\\diamonds.txt', sep='\\t')\n",
    "data.head()"
   ]
  },
  {
   "cell_type": "markdown",
   "id": "ranking-insider",
   "metadata": {},
   "source": [
    "Отделите 25% случайных наблюдений в тестовую выборку с помощью функции sklearn.cross_validation.train_test_split (зафиксируйте random state = 1). На обучающей выборке настройте две регрессионные модели:\n",
    "\n",
    "* линейную регрессию с помощью LinearRegression без параметров \n",
    "* случайный лес из 10 деревьев с помощью RandomForestRegressor с random_state=1.\n",
    "\n",
    "Какая из моделей лучше предсказывает цену бриллиантов? Сделайте предсказания на тестовой выборке, посчитайте модули отклонений предсказаний от истинных цен. Проверьте гипотезу об одинаковом среднем качестве предсказаний, вычислите достигаемый уровень значимости. Отвергается ли гипотеза об одинаковом качестве моделей против двусторонней альтернативы на уровне значимости $\\alpha=0.05$?"
   ]
  },
  {
   "cell_type": "code",
   "execution_count": 4,
   "id": "isolated-formation",
   "metadata": {},
   "outputs": [],
   "source": [
    "y = data.price\n",
    "X = data.drop('price', axis=1)"
   ]
  },
  {
   "cell_type": "code",
   "execution_count": 5,
   "id": "dominican-stamp",
   "metadata": {},
   "outputs": [],
   "source": [
    "X_train, X_test, y_train, y_test = train_test_split(X, y, test_size=0.25, random_state=1)"
   ]
  },
  {
   "cell_type": "code",
   "execution_count": 6,
   "id": "designing-daily",
   "metadata": {},
   "outputs": [],
   "source": [
    "lr = LinearRegression()\n",
    "rf = RandomForestRegressor(n_estimators = 10, random_state=1)"
   ]
  },
  {
   "cell_type": "code",
   "execution_count": 7,
   "id": "skilled-creation",
   "metadata": {},
   "outputs": [],
   "source": [
    "lr.fit(X_train, y_train)\n",
    "rf.fit(X_train, y_train)\n",
    "lr_pred = lr.predict(X_test)\n",
    "rf_pred = rf.predict(X_test)"
   ]
  },
  {
   "cell_type": "code",
   "execution_count": 8,
   "id": "assured-enforcement",
   "metadata": {},
   "outputs": [],
   "source": [
    "lr_pred_error = np.abs(y_test - lr_pred)\n",
    "rf_pred_error = np.abs(y_test - rf_pred)"
   ]
  },
  {
   "cell_type": "code",
   "execution_count": 9,
   "id": "furnished-parish",
   "metadata": {
    "scrolled": true
   },
   "outputs": [
    {
     "name": "stdout",
     "output_type": "stream",
     "text": [
      "Среднее абсолютное отклонение для линейной регрессии: 890.3764004285584\n",
      "для случайного леса: 802.9205172724115\n"
     ]
    }
   ],
   "source": [
    "lfpe_mean = lr_pred_error.mean()\n",
    "rfpe_mean = rf_pred_error.mean()\n",
    "print(f\"Среднее абсолютное отклонение для линейной регрессии: {lfpe_mean}\\n\\\n",
    "для случайного леса: {rfpe_mean}\")"
   ]
  },
  {
   "cell_type": "code",
   "execution_count": 10,
   "id": "intended-spokesman",
   "metadata": {},
   "outputs": [
    {
     "name": "stdout",
     "output_type": "stream",
     "text": [
      "p-value = 1.6551745751479057e-38\n"
     ]
    }
   ],
   "source": [
    "p_value = stats.ttest_rel(lr_pred_error, rf_pred_error).pvalue\n",
    "print(f'p-value = {p_value}')"
   ]
  },
  {
   "cell_type": "markdown",
   "id": "bizarre-funeral",
   "metadata": {},
   "source": [
    "**Вывод:** Уровень значимости гипотезы $H_1$ < 0.05 $\\rightarrow$ нулевая гипотеза об одинаковом среднем качестве предсказаний отвергается"
   ]
  },
  {
   "cell_type": "markdown",
   "id": "altered-republic",
   "metadata": {},
   "source": [
    "**3.** В предыдущей задаче посчитайте 95% доверительный интервал для разности средних абсолютных ошибок предсказаний регрессии и случайного леса. Чему равна его ближайшая к нулю граница? Округлите до десятков (поскольку случайный лес может давать немного разные предсказания в зависимости от версий библиотек, мы просим вас так сильно округлить, чтобы полученное значение наверняка совпало с нашим)."
   ]
  },
  {
   "cell_type": "code",
   "execution_count": 11,
   "id": "continuous-gothic",
   "metadata": {},
   "outputs": [
    {
     "name": "stdout",
     "output_type": "stream",
     "text": [
      "95% confidence interval: [74.28724532595253, 100.6245209863411]\n"
     ]
    }
   ],
   "source": [
    "print(f'95% confidence interval: {[*DescrStatsW(lr_pred_error - rf_pred_error).tconfint_mean()]}')"
   ]
  }
 ],
 "metadata": {
  "kernelspec": {
   "display_name": "Python 3",
   "language": "python",
   "name": "python3"
  },
  "language_info": {
   "codemirror_mode": {
    "name": "ipython",
    "version": 3
   },
   "file_extension": ".py",
   "mimetype": "text/x-python",
   "name": "python",
   "nbconvert_exporter": "python",
   "pygments_lexer": "ipython3",
   "version": "3.9.0"
  }
 },
 "nbformat": 4,
 "nbformat_minor": 5
}
