{
 "cells": [
  {
   "cell_type": "markdown",
   "id": "answering-jamaica",
   "metadata": {},
   "source": [
    "## Доверительные интервалы для среднего"
   ]
  },
  {
   "cell_type": "markdown",
   "id": "placed-milwaukee",
   "metadata": {},
   "source": [
    "**1.** Для 61 большого города в Англии и Уэльсе известны средняя годовая смертность на 100000 населения (по данным 1958–1964) и концентрация кальция в питьевой воде (в частях на миллион). Чем выше концентрация кальция, тем жёстче вода. Города дополнительно поделены на северные и южные.\n",
    "\n",
    "Постройте 95% доверительный интервал для средней годовой смертности в больших городах. Чему равна его нижняя граница? Округлите ответ до 4 знаков после десятичной точки. "
   ]
  },
  {
   "cell_type": "markdown",
   "id": "greenhouse-stations",
   "metadata": {},
   "source": [
    "> Будьте осторожны при использовании метода std()! Дело в том, что у объекта numpy он по умолчанию вычисляется как $\\sqrt{\\frac1{n}\\sum\\limits_{i=1}^n\\left(X_i-\\bar{X}\\right)^2}$, а у объекта pandas — как\n",
    "$\\sqrt{\\frac1{n-1}\\sum\\limits_{i=1}^n\\left(X_i-\\bar{X}\\right)^2}$ \n",
    ">\n",
    ">Нас интересует только второй вариант, несмещённая оценка стандартного отклонения.\n",
    ">\n",
    ">Чтобы не думать всё время о том, правильно ли вычисляется в вашем случае std(), можно всегда использовать std(ddof=1) (ddof — difference in degrees of freedom), тогда нормировка всегда будет на n-1."
   ]
  },
  {
   "cell_type": "code",
   "execution_count": 1,
   "id": "exempt-branch",
   "metadata": {},
   "outputs": [],
   "source": [
    "import numpy as np\n",
    "import pandas as pd\n",
    "from statsmodels.stats.weightstats import _tconfint_generic"
   ]
  },
  {
   "cell_type": "code",
   "execution_count": 2,
   "id": "color-evaluation",
   "metadata": {},
   "outputs": [],
   "source": [
    "data = pd.read_csv('data/water.txt', sep='\\t')"
   ]
  },
  {
   "cell_type": "code",
   "execution_count": 3,
   "id": "assured-leather",
   "metadata": {},
   "outputs": [
    {
     "data": {
      "text/html": [
       "<div>\n",
       "<style scoped>\n",
       "    .dataframe tbody tr th:only-of-type {\n",
       "        vertical-align: middle;\n",
       "    }\n",
       "\n",
       "    .dataframe tbody tr th {\n",
       "        vertical-align: top;\n",
       "    }\n",
       "\n",
       "    .dataframe thead th {\n",
       "        text-align: right;\n",
       "    }\n",
       "</style>\n",
       "<table border=\"1\" class=\"dataframe\">\n",
       "  <thead>\n",
       "    <tr style=\"text-align: right;\">\n",
       "      <th></th>\n",
       "      <th>location</th>\n",
       "      <th>town</th>\n",
       "      <th>mortality</th>\n",
       "      <th>hardness</th>\n",
       "    </tr>\n",
       "  </thead>\n",
       "  <tbody>\n",
       "    <tr>\n",
       "      <th>0</th>\n",
       "      <td>South</td>\n",
       "      <td>Bath</td>\n",
       "      <td>1247</td>\n",
       "      <td>105</td>\n",
       "    </tr>\n",
       "    <tr>\n",
       "      <th>1</th>\n",
       "      <td>North</td>\n",
       "      <td>Birkenhead</td>\n",
       "      <td>1668</td>\n",
       "      <td>17</td>\n",
       "    </tr>\n",
       "    <tr>\n",
       "      <th>2</th>\n",
       "      <td>South</td>\n",
       "      <td>Birmingham</td>\n",
       "      <td>1466</td>\n",
       "      <td>5</td>\n",
       "    </tr>\n",
       "    <tr>\n",
       "      <th>3</th>\n",
       "      <td>North</td>\n",
       "      <td>Blackburn</td>\n",
       "      <td>1800</td>\n",
       "      <td>14</td>\n",
       "    </tr>\n",
       "    <tr>\n",
       "      <th>4</th>\n",
       "      <td>North</td>\n",
       "      <td>Blackpool</td>\n",
       "      <td>1609</td>\n",
       "      <td>18</td>\n",
       "    </tr>\n",
       "  </tbody>\n",
       "</table>\n",
       "</div>"
      ],
      "text/plain": [
       "  location        town  mortality  hardness\n",
       "0    South        Bath       1247       105\n",
       "1    North  Birkenhead       1668        17\n",
       "2    South  Birmingham       1466         5\n",
       "3    North   Blackburn       1800        14\n",
       "4    North   Blackpool       1609        18"
      ]
     },
     "execution_count": 3,
     "metadata": {},
     "output_type": "execute_result"
    }
   ],
   "source": [
    "data.head()"
   ]
  },
  {
   "cell_type": "code",
   "execution_count": 4,
   "id": "institutional-ministry",
   "metadata": {},
   "outputs": [
    {
     "name": "stdout",
     "output_type": "stream",
     "text": [
      "95% t-confidence interval for the mean mortality: [1476.0833, 1572.2117]\n"
     ]
    }
   ],
   "source": [
    "tconfint_morality = _tconfint_generic(\n",
    "    data['mortality'].mean(),\n",
    "    data['mortality'].std(ddof=1) / np.sqrt(len(data['mortality'])),\n",
    "    len(data['mortality'])-1, 0.05, 'two-sided')\n",
    "tconfint_morality = [round(x, 4) for x in tconfint_morality]\n",
    "print(f'95% t-confidence interval for the mean mortality: {tconfint_morality}')"
   ]
  },
  {
   "cell_type": "markdown",
   "id": "sorted-apartment",
   "metadata": {},
   "source": [
    "**2.** На данных из предыдущего вопроса постройте 95% доверительный интервал для средней годовой смертности по всем южным городам. Чему равна его верхняя граница? Округлите ответ до 4 знаков после десятичной точки."
   ]
  },
  {
   "cell_type": "code",
   "execution_count": 5,
   "id": "centered-breast",
   "metadata": {
    "scrolled": true
   },
   "outputs": [
    {
     "name": "stdout",
     "output_type": "stream",
     "text": [
      "95% t-confidence interval for the mean mortality in South cities: [1320.1517, 1433.4636]\n"
     ]
    }
   ],
   "source": [
    "tconfint_morality_south = _tconfint_generic(\n",
    "    data[data.location == 'South'].mortality.mean(),\n",
    "    data[data.location == 'South'].mortality.std(ddof=1) / np.sqrt(len(data[data.location == 'South'])),\n",
    "    len(data[data.location == 'South']) - 1, 0.05, 'two-sided')\n",
    "tconfint_morality_south  = [round(x, 4) for x in tconfint_morality_south]\n",
    "print(f'95% t-confidence interval for the mean mortality in South cities: {tconfint_morality_south}')"
   ]
  },
  {
   "cell_type": "markdown",
   "id": "formal-trout",
   "metadata": {},
   "source": [
    "**3.** На тех же данных постройте 95% доверительный интервал для средней годовой смертности по всем северным городам. Пересекается ли этот интервал с предыдущим? Как вы думаете, какой из этого можно сделать вывод? "
   ]
  },
  {
   "cell_type": "code",
   "execution_count": 6,
   "id": "developmental-prescription",
   "metadata": {
    "scrolled": true
   },
   "outputs": [
    {
     "name": "stdout",
     "output_type": "stream",
     "text": [
      "95% t-confidence interval for the mean mortality in North cities: [1586.5605, 1680.6395]\n"
     ]
    }
   ],
   "source": [
    "tconfint_morality_north = _tconfint_generic(\n",
    "    data[data.location == 'North'].mortality.mean(),\n",
    "    data[data.location == 'North'].mortality.std(ddof=1) / np.sqrt(len(data[data.location == 'North'])),\n",
    "    len(data[data.location == 'North']) - 1, 0.05, 'two-sided')\n",
    "tconfint_morality_north = [round(x, 4) for x in tconfint_morality_north]\n",
    "print(f'95% t-confidence interval for the mean mortality in North cities: {tconfint_morality_north}')"
   ]
  },
  {
   "cell_type": "markdown",
   "id": "electric-flood",
   "metadata": {},
   "source": [
    "**Вывод:** \n",
    "Интервалы не пересекаются; видимо, средняя смертность на севере и на юге существенно разная  "
   ]
  },
  {
   "cell_type": "code",
   "execution_count": 7,
   "id": "binary-carol",
   "metadata": {
    "scrolled": true
   },
   "outputs": [
    {
     "name": "stdout",
     "output_type": "stream",
     "text": [
      "95% t-confidence interval for the mean hardness of water\n",
      "in South cities: [53.4672, 86.0713]\n",
      "in North cities: [21.4225, 39.3775]\n"
     ]
    }
   ],
   "source": [
    "tconfint_hardness_south = _tconfint_generic(\n",
    "    data[data.location == 'South'].hardness.mean(),\n",
    "    data[data.location == 'South'].hardness.std(ddof=1) / np.sqrt(len(data[data.location == 'South'])),\n",
    "    len(data[data.location == 'South']) - 1, 0.05, 'two-sided')\n",
    "tconfint_hardness_south = [round(x, 4) for x in tconfint_hardness_south]\n",
    "\n",
    "tconfint_hardness_north = _tconfint_generic(\n",
    "    data[data.location == 'North'].hardness.mean(),\n",
    "    data[data.location == 'North'].hardness.std(ddof=1) / np.sqrt(len(data[data.location == 'North'])),\n",
    "    len(data[data.location == 'North']) - 1, 0.05, 'two-sided')\n",
    "tconfint_hardness_north = [round(x, 4) for x in tconfint_hardness_north]\n",
    "print(f'95% t-confidence interval for the mean hardness of water\\n'\\\n",
    "      f'in South cities: {tconfint_hardness_south}\\n'\\\n",
    "      f'in North cities: {tconfint_hardness_north}')"
   ]
  },
  {
   "cell_type": "markdown",
   "id": "promotional-messaging",
   "metadata": {},
   "source": [
    "**4.** Вспомним формулу доверительного интервала для среднего нормально распределённой случайной величины с дисперсией $\\sigma^2$:\n",
    "\n",
    "$$\\bar{X}_n\\pm z_{1-\\frac{\\alpha}{2}} \\frac{\\sigma}{\\sqrt{n}}$$\n",
    "При $\\sigma=1$ какой нужен объём выборки, чтобы на уровне доверия 95% оценить среднее с точностью $\\pm0.1$?"
   ]
  },
  {
   "cell_type": "code",
   "execution_count": 8,
   "id": "systematic-boulder",
   "metadata": {},
   "outputs": [
    {
     "name": "stdout",
     "output_type": "stream",
     "text": [
      "n >= 385.0\n"
     ]
    }
   ],
   "source": [
    "from scipy import stats\n",
    "print(f'n >= {np.ceil((stats.norm.ppf(1-0.05/2) / 0.1)**2)}')"
   ]
  },
  {
   "cell_type": "markdown",
   "id": "fixed-playback",
   "metadata": {},
   "source": [
    "**5.** Объём выборки, необходимый для построения доверительного интервала заданной ширины:\n",
    "* увеличивается с ростом дисперсии выборки\n",
    "* увеличивается с уменьшением требуемой ширины\n",
    "* уменьшается с ростом $\\alpha$"
   ]
  },
  {
   "cell_type": "markdown",
   "id": "developing-surname",
   "metadata": {},
   "source": [
    "## Доверительные интервалы для долей"
   ]
  },
  {
   "cell_type": "markdown",
   "id": "ethical-attempt",
   "metadata": {},
   "source": [
    "**1.** Большая часть млекопитающих неспособны во взрослом возрасте переваривать лактозу, содержащуюся в молоке. У людей за расщепление лактозы отвечает фермент лактаза, кодируемый геном LCT. У людей с вариантом 13910T этого гена лактаза продолжает функционировать на протяжении всей жизни. Распределение этого варианта гена сильно варьируется в различных генетических популяциях.\n",
    "\n",
    "Из 50 исследованных представителей народа майя вариант 13910T был обнаружен у одного. Постройте нормальный 95% доверительный интервал для доли носителей варианта 13910T в популяции майя. Чему равна его нижняя граница? Округлите ответ до 4 знаков после десятичной точки."
   ]
  },
  {
   "cell_type": "code",
   "execution_count": 9,
   "id": "conditional-november",
   "metadata": {},
   "outputs": [
    {
     "name": "stdout",
     "output_type": "stream",
     "text": [
      "95% normal-confidence interval: (-0.0188, 0.0588)\n"
     ]
    }
   ],
   "source": [
    "from statsmodels.stats.proportion import proportion_confint\n",
    "\n",
    "alpha = 0.05\n",
    "count = 1\n",
    "nobs = 50\n",
    "\n",
    "# Стандартная функция scipy почему-то обрезает отрицательные значения\n",
    "# stats.proportion.proportion_confint(1, 50, method = 'normal')\n",
    "\n",
    "q_ = count * 1. / nobs\n",
    "alpha_2 = 0.5 * alpha\n",
    "\n",
    "std_ = np.sqrt(q_ * (1 - q_) / nobs)\n",
    "dist = stats.norm.isf(alpha / 2.) * std_\n",
    "ci_low = q_ - dist\n",
    "ci_upp = q_ + dist\n",
    "\n",
    "print(f'95% normal-confidence interval: {round(ci_low, 4),round(ci_upp, 4)}')"
   ]
  },
  {
   "cell_type": "markdown",
   "id": "superior-greene",
   "metadata": {},
   "source": [
    "**2.** В условиях предыдущей задачи постройте 95% доверительный интервал Уилсона для доли носителей варианта 13910T в популяции майя. Чему равна его нижняя граница? Округлите ответ до 4 знаков после десятичной точки.  "
   ]
  },
  {
   "cell_type": "code",
   "execution_count": 10,
   "id": "acoustic-chuck",
   "metadata": {},
   "outputs": [
    {
     "name": "stdout",
     "output_type": "stream",
     "text": [
      "95% wilson-confidence interval: [0.0035 0.105 ]\n"
     ]
    }
   ],
   "source": [
    "wils_confint = np.round(proportion_confint(1, 50, method = 'wilson'), 4)\n",
    "print(f'95% wilson-confidence interval: {wils_confint}')"
   ]
  },
  {
   "cell_type": "markdown",
   "id": "peaceful-template",
   "metadata": {},
   "source": [
    "**3.** Какой из двух построенных доверительных интервалов выглядит более вменяемым, учитывая, что параметр, для которого строится оценка, меняется от 0 до 1?\n",
    "* Уилсона\n",
    "> Нормальный интервал выходит за границы области определения параметра, это выглядит странно"
   ]
  },
  {
   "cell_type": "markdown",
   "id": "comparative-stylus",
   "metadata": {},
   "source": [
    "**3.** Пусть в популяции майя действительно 2% носителей варианта 13910T, как в выборке, которую мы исследовали. Какой объём выборки нужен, чтобы с помощью нормального интервала оценить долю носителей гена 13910T с точностью $\\pm0.01$ на уровне доверия 95%?"
   ]
  },
  {
   "cell_type": "code",
   "execution_count": 11,
   "id": "assisted-sweden",
   "metadata": {},
   "outputs": [
    {
     "name": "stdout",
     "output_type": "stream",
     "text": [
      "Объём выборки n >=: 753.0\n"
     ]
    }
   ],
   "source": [
    "from statsmodels.stats.proportion import samplesize_confint_proportion\n",
    "min_n = np.ceil(samplesize_confint_proportion(1.0/50, 0.01, method='normal'))\n",
    "print(f'Объём выборки n >=: {min_n}')"
   ]
  },
  {
   "cell_type": "markdown",
   "id": "under-request",
   "metadata": {},
   "source": [
    "**4.** Постройте график зависимости объёма выборки, необходимого для оценки для доли носителей гена 13910T с точностью $\\pm0.01$ на уровне доверия 95%, от неизвестного параметра $p$. Посмотрите, при каком значении $p$ нужно больше всего испытуемых. Как вы думаете, насколько вероятно, что выборка, которую мы анализируем, взята из случайной величины с этим значением параметра?\n",
    "\n",
    "Как бы вы не ответили на последний вопрос, рассмотреть объём выборки, необходимый при таком $p$, всё равно полезно — это даёт максимально пессимистичную оценку необходимого объёма выборки.\n",
    "\n",
    "Какой объём выборки нужен в худшем случае, чтобы с помощью нормального интервала оценить долю носителей гена 13910T с точностью $\\pm0.01$ на уровне доверия 95%?  "
   ]
  },
  {
   "cell_type": "code",
   "execution_count": 12,
   "id": "young-kazakhstan",
   "metadata": {},
   "outputs": [
    {
     "data": {
      "text/plain": [
       "Text(0, 0.5, 'n')"
      ]
     },
     "execution_count": 12,
     "metadata": {},
     "output_type": "execute_result"
    },
    {
     "data": {
      "image/png": "[encoded data removed]",
      "text/plain": [
       "<Figure size 432x288 with 1 Axes>"
      ]
     },
     "metadata": {
      "needs_background": "light"
     },
     "output_type": "display_data"
    }
   ],
   "source": [
    "import matplotlib.pyplot as plt\n",
    "\n",
    "p = np.arange(0.01, 1, 0.01)\n",
    "n_p = samplesize_confint_proportion(p, 0.01, method='normal')\n",
    "plt.plot(p, n_p)\n",
    "plt.xlabel('p', fontsize=14)\n",
    "plt.ylabel('n', fontsize=14)"
   ]
  },
  {
   "cell_type": "code",
   "execution_count": 13,
   "id": "contemporary-driver",
   "metadata": {},
   "outputs": [
    {
     "name": "stdout",
     "output_type": "stream",
     "text": [
      "Объём выборки в худшем случае n >=: 9604.0\n"
     ]
    }
   ],
   "source": [
    "worst_n = np.ceil(samplesize_confint_proportion(0.5, 0.01, method='normal'))\n",
    "print(f'Объём выборки в худшем случае n >=: {worst_n}')"
   ]
  }
 ],
 "metadata": {
  "kernelspec": {
   "display_name": "Python 3",
   "language": "python",
   "name": "python3"
  },
  "language_info": {
   "codemirror_mode": {
    "name": "ipython",
    "version": 3
   },
   "file_extension": ".py",
   "mimetype": "text/x-python",
   "name": "python",
   "nbconvert_exporter": "python",
   "pygments_lexer": "ipython3",
   "version": "3.9.0"
  }
 },
 "nbformat": 4,
 "nbformat_minor": 5
}
