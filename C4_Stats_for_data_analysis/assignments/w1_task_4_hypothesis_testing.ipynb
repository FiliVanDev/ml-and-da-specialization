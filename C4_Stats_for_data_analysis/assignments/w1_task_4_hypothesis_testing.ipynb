{
 "cells": [
  {
   "cell_type": "markdown",
   "id": "presidential-designation",
   "metadata": {},
   "source": [
    "## Практика проверки гипотез"
   ]
  },
  {
   "cell_type": "code",
   "execution_count": 1,
   "id": "announced-november",
   "metadata": {},
   "outputs": [
    {
     "name": "stdout",
     "output_type": "stream",
     "text": [
      "Populating the interactive namespace from numpy and matplotlib\n"
     ]
    }
   ],
   "source": [
    "import numpy as np\n",
    "from scipy import stats\n",
    "import scipy\n",
    "%pylab inline"
   ]
  },
  {
   "cell_type": "markdown",
   "id": "capital-midnight",
   "metadata": {},
   "source": [
    "**1.** По данным опроса, 75% работников ресторанов утверждают, что испытывают на работе существенный стресс, оказывающий негативное влияние на их личную жизнь. Крупная ресторанная сеть опрашивает 100 своих работников, чтобы выяснить, отличается ли уровень стресса работников в их ресторанах от среднего. 67 из 100 работников отметили высокий уровень стресса. \n",
    "\n",
    "Посчитайте достигаемый уровень значимости, округлите ответ до четырёх знаков после десятичной точки."
   ]
  },
  {
   "cell_type": "code",
   "execution_count": 2,
   "id": "fewer-pantyhose",
   "metadata": {},
   "outputs": [
    {
     "data": {
      "image/png": "[encoded data removed]",
      "text/plain": [
       "<Figure size 432x288 with 1 Axes>"
      ]
     },
     "metadata": {
      "needs_background": "light"
     },
     "output_type": "display_data"
    }
   ],
   "source": [
    "# Посмотрим на такое распределение\n",
    "# Гипотеза H0 - доля недовольных 75%\n",
    "n = 100\n",
    "F_H0 = stats.binom(n, 0.75)\n",
    "\n",
    "x = np.linspace(0,100,101)\n",
    "\n",
    "pylab.bar(x, F_H0.pmf(x), align = 'center')\n",
    "xlim(55, 90.5) \n",
    "pylab.show()"
   ]
  },
  {
   "cell_type": "code",
   "execution_count": 3,
   "id": "documentary-behalf",
   "metadata": {},
   "outputs": [
    {
     "data": {
      "image/png": "[encoded data removed]",
      "text/plain": [
       "<Figure size 432x288 with 1 Axes>"
      ]
     },
     "metadata": {
      "needs_background": "light"
     },
     "output_type": "display_data"
    }
   ],
   "source": [
    "# Гипотеза H1 - доля недовольных 68% или <\n",
    "pylab.bar(x, F_H0.pmf(x), align = 'center')\n",
    "pylab.bar(np.linspace(0,67,68), F_H0.pmf(np.linspace(0,67,68)), align = 'center', color='red')\n",
    "xlim(55, 90.5)\n",
    "pylab.show()"
   ]
  },
  {
   "cell_type": "code",
   "execution_count": 4,
   "id": "demanding-token",
   "metadata": {},
   "outputs": [
    {
     "name": "stdout",
     "output_type": "stream",
     "text": [
      "p-value гипотезы H1 = 0.0822\n"
     ]
    }
   ],
   "source": [
    "# p-value гипотезы H1\n",
    "p_value_1 = round(stats.binom_test(67, 100, 0.75, alternative = 'two-sided'), 4)\n",
    "print(f'p-value гипотезы H1 = {p_value_1}')"
   ]
  },
  {
   "cell_type": "markdown",
   "id": "juvenile-exploration",
   "metadata": {},
   "source": [
    "Вывод: Уровень значимости > 0.05 гипотеза $H_0$ не отвергается"
   ]
  },
  {
   "cell_type": "markdown",
   "id": "limiting-retirement",
   "metadata": {},
   "source": [
    "**2.** Представим теперь, что в другой ресторанной сети только 22 из 50 работников испытывают существенный стресс. Гипотеза о том, что 22/50 соответствует 75% по всей популяции, методом, который вы использовали в предыдущей задаче, отвергается. Чем это может объясняться? Выберите все возможные варианты.\n",
    "\n",
    "- Эта сеть менее популярна, поэтому в её ресторанах меньше поток посетителей; отсюда меньший уровень стресса у работников\n",
    "- Сотрудники чрезмерно оптимистично отвечали на вопрос, потому что опрос не был анонимным\n",
    "- Условия работы в этой сети лучше, чем в среднем "
   ]
  },
  {
   "cell_type": "markdown",
   "id": "medium-large",
   "metadata": {},
   "source": [
    "**3.** The Wage Tract — заповедник в округе Тома, Джорджия, США, деревья в котором не затронуты деятельностью человека со времён первых поселенцев. Для участка заповедника размером 200х200 м имеется информация о координатах сосен (sn — координата в направлении север-юг, we — в направлении запад-восток, обе от 0 до 200).\n",
    "Проверим, можно ли пространственное распределение сосен считать равномерным, или они растут кластерами.\n",
    "\n",
    "Загрузите данные, поделите участок на 5х5 одинаковых квадратов размера 40x40 м, посчитайте количество сосен в каждом квадрате (чтобы получить такой же результат, как у нас, используйте функцию scipy.stats.binned_statistic_2d)."
   ]
  },
  {
   "cell_type": "code",
   "execution_count": 5,
   "id": "enclosed-hospital",
   "metadata": {},
   "outputs": [],
   "source": [
    "import pandas as pd\n",
    "\n",
    "data = pd.read_csv('data\\pines.txt', sep='\\t')\n",
    "sn = data.sn.values\n",
    "we = data.we.values"
   ]
  },
  {
   "cell_type": "code",
   "execution_count": 6,
   "id": "decent-example",
   "metadata": {},
   "outputs": [
    {
     "data": {
      "text/plain": [
       "array([[18., 26., 29., 25., 20.],\n",
       "       [14., 12., 22., 34., 25.],\n",
       "       [12., 24., 15., 50., 37.],\n",
       "       [ 8., 19., 31., 50.,  7.],\n",
       "       [ 7.,  8., 37., 27., 27.]])"
      ]
     },
     "execution_count": 6,
     "metadata": {},
     "output_type": "execute_result"
    }
   ],
   "source": [
    "data_stat = stats.binned_statistic_2d(sn, we, None, 'count', bins=5).statistic\n",
    "data_stat"
   ]
  },
  {
   "cell_type": "markdown",
   "id": "specialized-overview",
   "metadata": {},
   "source": [
    "Если сосны действительно растут равномерно, какое среднее ожидаемое количество сосен в каждом квадрате? В правильном ответе два знака после десятичной точки."
   ]
  },
  {
   "cell_type": "code",
   "execution_count": 7,
   "id": "binary-invasion",
   "metadata": {},
   "outputs": [
    {
     "name": "stdout",
     "output_type": "stream",
     "text": [
      "Среднеевзвешенное значение сосен в каждом квадрате при равмномерном распределении: 23.36\n"
     ]
    }
   ],
   "source": [
    "exp_mean_trees = np.sum(data_stat)/25\n",
    "print(f'Среднеевзвешенное значение сосен в каждом квадрате при равмномерном распределении: {exp_mean_trees}')"
   ]
  },
  {
   "cell_type": "markdown",
   "id": "elegant-regard",
   "metadata": {},
   "source": [
    "**4.** Чтобы сравнить распределение сосен с равномерным, посчитайте значение статистики хи-квадрат для полученных 5х5 квадратов. Округлите ответ до двух знаков после десятичной точки."
   ]
  },
  {
   "cell_type": "markdown",
   "id": "authentic-barcelona",
   "metadata": {},
   "source": [
    "Статистика критерия хи-квадрат: $$\\chi^2=\\sum_{i=1}^K \\frac{\\left(n_i- np_i\\right)^2}{np_i}$$\n",
    "При справедливости нулевой гипотезы имеет распределение хи-квадрат с числом степеней свободы $K-1-m$, где $m$ - число параметров распределения, оцененных по выборке."
   ]
  },
  {
   "cell_type": "code",
   "execution_count": 8,
   "id": "alpine-value",
   "metadata": {},
   "outputs": [],
   "source": [
    "expext_data_stat = np.array([[exp_mean_trees for i in range(5)] for j in range(5)])"
   ]
  },
  {
   "cell_type": "code",
   "execution_count": 9,
   "id": "conservative-heating",
   "metadata": {
    "scrolled": false
   },
   "outputs": [
    {
     "name": "stdout",
     "output_type": "stream",
     "text": [
      "Статистика критерия хи-квадрат: 150.59\n"
     ]
    }
   ],
   "source": [
    "print(f'Статистика критерия хи-квадрат: {round(stats.chisquare(data_stat, expext_data_stat, ddof = 0, axis=None).statistic, 2)}')"
   ]
  },
  {
   "cell_type": "markdown",
   "id": "chief-bleeding",
   "metadata": {},
   "source": [
    "**5.** Насколько велико это значение? Если нулевая гипотеза справедлива, с какой вероятностью его можно было получить случайно? \n",
    "\n",
    "Нулевое распределение статистики — хи-квадрат с $25-1=24$ степенями свободы (поскольку у равномерного распределения, с которым мы сравниваем данные, нет ни одного оцениваемого по выборке параметра, число степеней свободы $K-1$, где $K$ — количество интервалов).\n",
    "\n",
    "Посчитайте достигаемый уровень значимости.  \n",
    "\n",
    "Если вы используете функцию scipy.stats.chi2.cdf, в качестве значения параметра df нужно взять 24 (это число степеней свободы); если функцию scipy.stats.chisquare  — параметр ddof нужно брать равным 0 (это как раз количество параметров теоретического распределения, оцениваемых по выборке).\n",
    "\n",
    "Отвергается ли гипотеза равномерности на уровне значимости 0.05?"
   ]
  },
  {
   "cell_type": "code",
   "execution_count": 10,
   "id": "french-brooklyn",
   "metadata": {},
   "outputs": [
    {
     "name": "stdout",
     "output_type": "stream",
     "text": [
      "Уровень значимости критерия хи-квадрат: 2.574669774967279e-20\n"
     ]
    }
   ],
   "source": [
    "print(f'Уровень значимости критерия хи-квадрат: {stats.chisquare(data_stat, expext_data_stat, ddof = 0, axis=None).pvalue}')"
   ]
  }
 ],
 "metadata": {
  "kernelspec": {
   "display_name": "Python 3",
   "language": "python",
   "name": "python3"
  },
  "language_info": {
   "codemirror_mode": {
    "name": "ipython",
    "version": 3
   },
   "file_extension": ".py",
   "mimetype": "text/x-python",
   "name": "python",
   "nbconvert_exporter": "python",
   "pygments_lexer": "ipython3",
   "version": "3.9.0"
  }
 },
 "nbformat": 4,
 "nbformat_minor": 5
}
