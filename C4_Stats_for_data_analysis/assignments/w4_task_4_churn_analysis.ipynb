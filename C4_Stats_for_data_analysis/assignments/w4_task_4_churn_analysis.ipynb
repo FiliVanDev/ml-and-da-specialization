{
 "cells": [
  {
   "cell_type": "markdown",
   "id": "hawaiian-workstation",
   "metadata": {},
   "source": [
    "## Анализ эффективности удержания"
   ]
  },
  {
   "cell_type": "markdown",
   "id": "present-farmer",
   "metadata": {},
   "source": [
    "**1.** В этом задании вам предлагается проанализировать данные одной из американских телекоммуникационных компаний  о пользователях, которые потенциально могут уйти.\n",
    "\n",
    "Измерены следующие признаки:\n",
    "* state — штат США\n",
    "* account_length — длительность использования аккаунта\n",
    "* area_code — деление пользователей на псевдорегионы, использующееся в телекоме\n",
    "* intl_plan — подключена ли у пользователя услуга международного общения\n",
    "* vmail_plan — подключена ли у пользователя услуга голосовых сообщений\n",
    "* vmail_message — количество голосых сообщений, который пользователь отправил / принял\n",
    "* day_calls — сколько пользователь совершил дневных звонков\n",
    "* day_mins — сколько пользователь проговорил минут в течение дня\n",
    "* day_charge — сколько пользователь заплатил за свою дневную активность\n",
    "* eve_calls, eve_mins, eve_charge — аналогичные метрики относительно вечерней активности\n",
    "* night_calls, night_mins, night_charge — аналогичные метрики относительно ночной активности\n",
    "* intl_calls, intl_mins, intl_charge — аналогичные метрики относительно международного общения\n",
    "* custserv_calls — сколько раз пользователь позвонил в службу поддержки\n",
    "* treatment — номер стратегии, которая применялись для удержания абонентов (0, 2 = два разных типа воздействия, 1 = контрольная группа)\n",
    "* mes_estim — оценка интенсивности пользования интернет мессенджерами\n",
    "* churn — результат оттока: перестал ли абонент пользоваться услугами оператора"
   ]
  },
  {
   "cell_type": "code",
   "execution_count": 1,
   "id": "thrown-rwanda",
   "metadata": {},
   "outputs": [],
   "source": [
    "import warnings\n",
    "warnings.filterwarnings('ignore')"
   ]
  },
  {
   "cell_type": "code",
   "execution_count": 2,
   "id": "toxic-boost",
   "metadata": {},
   "outputs": [],
   "source": [
    "import scipy \n",
    "import numpy as np\n",
    "import pandas as pd\n",
    "from statsmodels.stats.weightstats import *\n",
    "from statsmodels.stats.proportion import proportion_confint\n",
    "import statsmodels.stats.multitest as smm\n",
    "import matplotlib.pyplot as plt\n",
    "from statsmodels.sandbox.stats.multicomp import multipletests "
   ]
  },
  {
   "cell_type": "code",
   "execution_count": 3,
   "id": "automated-bradford",
   "metadata": {
    "scrolled": false
   },
   "outputs": [
    {
     "data": {
      "text/html": [
       "<div>\n",
       "<style scoped>\n",
       "    .dataframe tbody tr th:only-of-type {\n",
       "        vertical-align: middle;\n",
       "    }\n",
       "\n",
       "    .dataframe tbody tr th {\n",
       "        vertical-align: top;\n",
       "    }\n",
       "\n",
       "    .dataframe thead th {\n",
       "        text-align: right;\n",
       "    }\n",
       "</style>\n",
       "<table border=\"1\" class=\"dataframe\">\n",
       "  <thead>\n",
       "    <tr style=\"text-align: right;\">\n",
       "      <th></th>\n",
       "      <th>Unnamed: 0</th>\n",
       "      <th>state</th>\n",
       "      <th>account_length</th>\n",
       "      <th>area_code</th>\n",
       "      <th>intl_plan</th>\n",
       "      <th>vmail_plan</th>\n",
       "      <th>vmail_message</th>\n",
       "      <th>day_mins</th>\n",
       "      <th>day_calls</th>\n",
       "      <th>day_charge</th>\n",
       "      <th>...</th>\n",
       "      <th>night_mins</th>\n",
       "      <th>night_calls</th>\n",
       "      <th>night_charge</th>\n",
       "      <th>intl_mins</th>\n",
       "      <th>intl_calls</th>\n",
       "      <th>intl_charge</th>\n",
       "      <th>custserv_calls</th>\n",
       "      <th>treatment</th>\n",
       "      <th>mes_estim</th>\n",
       "      <th>churn</th>\n",
       "    </tr>\n",
       "  </thead>\n",
       "  <tbody>\n",
       "    <tr>\n",
       "      <th>0</th>\n",
       "      <td>0</td>\n",
       "      <td>KS</td>\n",
       "      <td>128</td>\n",
       "      <td>415</td>\n",
       "      <td>no</td>\n",
       "      <td>yes</td>\n",
       "      <td>25</td>\n",
       "      <td>265.1</td>\n",
       "      <td>110</td>\n",
       "      <td>45.07</td>\n",
       "      <td>...</td>\n",
       "      <td>244.7</td>\n",
       "      <td>91</td>\n",
       "      <td>11.01</td>\n",
       "      <td>10.0</td>\n",
       "      <td>3</td>\n",
       "      <td>2.70</td>\n",
       "      <td>1</td>\n",
       "      <td>1</td>\n",
       "      <td>0.65</td>\n",
       "      <td>False.</td>\n",
       "    </tr>\n",
       "    <tr>\n",
       "      <th>1</th>\n",
       "      <td>1</td>\n",
       "      <td>OH</td>\n",
       "      <td>107</td>\n",
       "      <td>415</td>\n",
       "      <td>no</td>\n",
       "      <td>yes</td>\n",
       "      <td>26</td>\n",
       "      <td>161.6</td>\n",
       "      <td>123</td>\n",
       "      <td>27.47</td>\n",
       "      <td>...</td>\n",
       "      <td>254.4</td>\n",
       "      <td>103</td>\n",
       "      <td>11.45</td>\n",
       "      <td>13.7</td>\n",
       "      <td>3</td>\n",
       "      <td>3.70</td>\n",
       "      <td>1</td>\n",
       "      <td>0</td>\n",
       "      <td>0.55</td>\n",
       "      <td>False.</td>\n",
       "    </tr>\n",
       "    <tr>\n",
       "      <th>2</th>\n",
       "      <td>2</td>\n",
       "      <td>NJ</td>\n",
       "      <td>137</td>\n",
       "      <td>415</td>\n",
       "      <td>no</td>\n",
       "      <td>no</td>\n",
       "      <td>0</td>\n",
       "      <td>243.4</td>\n",
       "      <td>114</td>\n",
       "      <td>41.38</td>\n",
       "      <td>...</td>\n",
       "      <td>162.6</td>\n",
       "      <td>104</td>\n",
       "      <td>7.32</td>\n",
       "      <td>12.2</td>\n",
       "      <td>5</td>\n",
       "      <td>3.29</td>\n",
       "      <td>0</td>\n",
       "      <td>0</td>\n",
       "      <td>0.72</td>\n",
       "      <td>False.</td>\n",
       "    </tr>\n",
       "    <tr>\n",
       "      <th>3</th>\n",
       "      <td>3</td>\n",
       "      <td>OH</td>\n",
       "      <td>84</td>\n",
       "      <td>408</td>\n",
       "      <td>yes</td>\n",
       "      <td>no</td>\n",
       "      <td>0</td>\n",
       "      <td>299.4</td>\n",
       "      <td>71</td>\n",
       "      <td>50.90</td>\n",
       "      <td>...</td>\n",
       "      <td>196.9</td>\n",
       "      <td>89</td>\n",
       "      <td>8.86</td>\n",
       "      <td>6.6</td>\n",
       "      <td>7</td>\n",
       "      <td>1.78</td>\n",
       "      <td>2</td>\n",
       "      <td>1</td>\n",
       "      <td>0.28</td>\n",
       "      <td>False.</td>\n",
       "    </tr>\n",
       "    <tr>\n",
       "      <th>4</th>\n",
       "      <td>4</td>\n",
       "      <td>OK</td>\n",
       "      <td>75</td>\n",
       "      <td>415</td>\n",
       "      <td>yes</td>\n",
       "      <td>no</td>\n",
       "      <td>0</td>\n",
       "      <td>166.7</td>\n",
       "      <td>113</td>\n",
       "      <td>28.34</td>\n",
       "      <td>...</td>\n",
       "      <td>186.9</td>\n",
       "      <td>121</td>\n",
       "      <td>8.41</td>\n",
       "      <td>10.1</td>\n",
       "      <td>3</td>\n",
       "      <td>2.73</td>\n",
       "      <td>3</td>\n",
       "      <td>2</td>\n",
       "      <td>0.45</td>\n",
       "      <td>False.</td>\n",
       "    </tr>\n",
       "  </tbody>\n",
       "</table>\n",
       "<p>5 rows × 23 columns</p>\n",
       "</div>"
      ],
      "text/plain": [
       "   Unnamed: 0 state  account_length  area_code intl_plan vmail_plan  \\\n",
       "0           0    KS             128        415        no        yes   \n",
       "1           1    OH             107        415        no        yes   \n",
       "2           2    NJ             137        415        no         no   \n",
       "3           3    OH              84        408       yes         no   \n",
       "4           4    OK              75        415       yes         no   \n",
       "\n",
       "   vmail_message  day_mins  day_calls  day_charge  ...  night_mins  \\\n",
       "0             25     265.1        110       45.07  ...       244.7   \n",
       "1             26     161.6        123       27.47  ...       254.4   \n",
       "2              0     243.4        114       41.38  ...       162.6   \n",
       "3              0     299.4         71       50.90  ...       196.9   \n",
       "4              0     166.7        113       28.34  ...       186.9   \n",
       "\n",
       "   night_calls  night_charge  intl_mins  intl_calls  intl_charge  \\\n",
       "0           91         11.01       10.0           3         2.70   \n",
       "1          103         11.45       13.7           3         3.70   \n",
       "2          104          7.32       12.2           5         3.29   \n",
       "3           89          8.86        6.6           7         1.78   \n",
       "4          121          8.41       10.1           3         2.73   \n",
       "\n",
       "   custserv_calls  treatment  mes_estim   churn  \n",
       "0               1          1       0.65  False.  \n",
       "1               1          0       0.55  False.  \n",
       "2               0          0       0.72  False.  \n",
       "3               2          1       0.28  False.  \n",
       "4               3          2       0.45  False.  \n",
       "\n",
       "[5 rows x 23 columns]"
      ]
     },
     "execution_count": 3,
     "metadata": {},
     "output_type": "execute_result"
    }
   ],
   "source": [
    "data = pd.read_csv('data/churn_analysis.csv', header=0)\n",
    "data.head()"
   ]
  },
  {
   "cell_type": "code",
   "execution_count": 4,
   "id": "sapphire-texas",
   "metadata": {},
   "outputs": [],
   "source": [
    "data['churn'] = data['churn'].apply(lambda x: 1 if x=='True.' else 0)"
   ]
  },
  {
   "cell_type": "markdown",
   "id": "powered-distributor",
   "metadata": {},
   "source": [
    "Давайте рассмотрим всех пользователей из контрольной группы (treatment = 1). Для таких пользователей мы хотим проверить гипотезу о том, что штат абонента не влияет на то, перестанет ли абонент пользоваться услугами оператора. \n",
    "\n",
    "Для этого мы воспользуемся критерием хи-квадрат.  Постройте таблицы сопряженности между каждой из всех 1275 возможных неупорядоченных пар штатов и значением признака churn.  \n",
    "\n",
    "Сколько  достигаемых уровней значимости оказались меньше, чем $\\alpha=0.05$?"
   ]
  },
  {
   "cell_type": "code",
   "execution_count": 5,
   "id": "potential-functionality",
   "metadata": {},
   "outputs": [],
   "source": [
    "control_group = data[data.loc[:, 'treatment']==1]"
   ]
  },
  {
   "cell_type": "code",
   "execution_count": 6,
   "id": "right-advocate",
   "metadata": {},
   "outputs": [],
   "source": [
    "states = control_group['state'].unique()\n",
    "control_states = pd.pivot_table(\n",
    "    control_group,\n",
    "    values=[\"treatment\"],\n",
    "    index=[\"state\"],\n",
    "    columns=[\"churn\"],\n",
    "    fill_value = 0,\n",
    "    aggfunc='count')"
   ]
  },
  {
   "cell_type": "code",
   "execution_count": 7,
   "id": "korean-franchise",
   "metadata": {},
   "outputs": [
    {
     "name": "stdout",
     "output_type": "stream",
     "text": [
      "Количество ячеек таблицы, с числом значений < 5: 34\n",
      "Процент ячеек от общего числа:33.333333333333336%\n"
     ]
    }
   ],
   "source": [
    "cell_less_5_count = np.sum(control_states < 5)[1]\n",
    "print(f'Количество ячеек таблицы, с числом значений < 5: {cell_less_5_count}')\n",
    "print(f'Процент ячеек от общего числа:\\\n",
    "{cell_less_5_count * 100 / (control_states.shape[0] * control_states.shape[1])}%')"
   ]
  },
  {
   "cell_type": "code",
   "execution_count": 8,
   "id": "capable-destruction",
   "metadata": {},
   "outputs": [
    {
     "data": {
      "text/plain": [
       "(3.158685185185184, 0.07552398753331192)"
      ]
     },
     "execution_count": 8,
     "metadata": {},
     "output_type": "execute_result"
    }
   ],
   "source": [
    "scipy.stats.chi2_contingency(control_states.loc[['KS','OH'],:], correction=False)[0:2]"
   ]
  },
  {
   "cell_type": "code",
   "execution_count": 9,
   "id": "simplified-plymouth",
   "metadata": {},
   "outputs": [],
   "source": [
    "chi_data = []\n",
    "\n",
    "for i, lhs_column in enumerate(states):\n",
    "    for j, rhs_column in enumerate(states):\n",
    "        if i >= j:\n",
    "            continue\n",
    "        \n",
    "        statistic, p = scipy.stats.chi2_contingency(\n",
    "            control_states.loc[[lhs_column, rhs_column],:],\n",
    "            correction=False)[0:2]\n",
    "        reject = True if p < 0.05 else False\n",
    "        chi_data.append([lhs_column, rhs_column, statistic, p, reject])"
   ]
  },
  {
   "cell_type": "code",
   "execution_count": 10,
   "id": "annual-december",
   "metadata": {},
   "outputs": [],
   "source": [
    "chi_data = pd.DataFrame(chi_data)\n",
    "chi_data.columns = ['state_A', 'state_B', 'chi2', 'p', 'reject']"
   ]
  },
  {
   "cell_type": "code",
   "execution_count": 11,
   "id": "impressed-chick",
   "metadata": {},
   "outputs": [
    {
     "data": {
      "text/html": [
       "<div>\n",
       "<style scoped>\n",
       "    .dataframe tbody tr th:only-of-type {\n",
       "        vertical-align: middle;\n",
       "    }\n",
       "\n",
       "    .dataframe tbody tr th {\n",
       "        vertical-align: top;\n",
       "    }\n",
       "\n",
       "    .dataframe thead th {\n",
       "        text-align: right;\n",
       "    }\n",
       "</style>\n",
       "<table border=\"1\" class=\"dataframe\">\n",
       "  <thead>\n",
       "    <tr style=\"text-align: right;\">\n",
       "      <th></th>\n",
       "      <th>state_A</th>\n",
       "      <th>state_B</th>\n",
       "      <th>chi2</th>\n",
       "      <th>p</th>\n",
       "      <th>reject</th>\n",
       "    </tr>\n",
       "  </thead>\n",
       "  <tbody>\n",
       "    <tr>\n",
       "      <th>0</th>\n",
       "      <td>KS</td>\n",
       "      <td>OH</td>\n",
       "      <td>3.158685</td>\n",
       "      <td>0.075524</td>\n",
       "      <td>False</td>\n",
       "    </tr>\n",
       "    <tr>\n",
       "      <th>1</th>\n",
       "      <td>KS</td>\n",
       "      <td>LA</td>\n",
       "      <td>5.090909</td>\n",
       "      <td>0.024052</td>\n",
       "      <td>True</td>\n",
       "    </tr>\n",
       "    <tr>\n",
       "      <th>2</th>\n",
       "      <td>KS</td>\n",
       "      <td>IA</td>\n",
       "      <td>1.156511</td>\n",
       "      <td>0.282190</td>\n",
       "      <td>False</td>\n",
       "    </tr>\n",
       "    <tr>\n",
       "      <th>3</th>\n",
       "      <td>KS</td>\n",
       "      <td>VT</td>\n",
       "      <td>0.250435</td>\n",
       "      <td>0.616769</td>\n",
       "      <td>False</td>\n",
       "    </tr>\n",
       "    <tr>\n",
       "      <th>4</th>\n",
       "      <td>KS</td>\n",
       "      <td>CO</td>\n",
       "      <td>0.171113</td>\n",
       "      <td>0.679125</td>\n",
       "      <td>False</td>\n",
       "    </tr>\n",
       "  </tbody>\n",
       "</table>\n",
       "</div>"
      ],
      "text/plain": [
       "  state_A state_B      chi2         p  reject\n",
       "0      KS      OH  3.158685  0.075524   False\n",
       "1      KS      LA  5.090909  0.024052    True\n",
       "2      KS      IA  1.156511  0.282190   False\n",
       "3      KS      VT  0.250435  0.616769   False\n",
       "4      KS      CO  0.171113  0.679125   False"
      ]
     },
     "execution_count": 11,
     "metadata": {},
     "output_type": "execute_result"
    }
   ],
   "source": [
    "chi_data.head()"
   ]
  },
  {
   "cell_type": "code",
   "execution_count": 12,
   "id": "growing-newton",
   "metadata": {
    "scrolled": true
   },
   "outputs": [
    {
     "name": "stdout",
     "output_type": "stream",
     "text": [
      "Количество пар штатов для которых достигаемый уровень значимости < 0.5: 34\n"
     ]
    }
   ],
   "source": [
    "print(f'Количество пар штатов для которых \\\n",
    "достигаемый уровень значимости < 0.5: \\\n",
    "{chi_data.reject.sum()}')"
   ]
  },
  {
   "cell_type": "markdown",
   "id": "equal-cherry",
   "metadata": {},
   "source": [
    "**2.** Какие проблемы Вы видите в построении анализа  из первого вопроса? Отметьте все верные утверждения. "
   ]
  },
  {
   "cell_type": "markdown",
   "id": "cultural-fountain",
   "metadata": {},
   "source": [
    "* Интерпретация числа достигаемых уровней значимости,  меньших $\\alpha=0.05$, некорректна,  поскольку не сделана поправка на множественную проверку гипотез.\n",
    "* Применение критерия xи-квадрат для этих данных не обосновано, потому что не выполняются условия, при которых этот критерий дает правильные результаты. "
   ]
  },
  {
   "cell_type": "markdown",
   "id": "opening-optimization",
   "metadata": {},
   "source": [
    "**3.** В основе критерия xи-квадрат лежит предположение о том, что если верна нулевая гипотеза, то дискретное биномиальное распределение данных по клеткам в  таблице сопряженности  может быть аппроксимировано с помощью непрерывного распределения xи-квадрат.  Однако точность такой аппроксимации существенно зависит от суммарного количества наблюдений и их распределения в этой таблице (отсюда и ограничения при использовании критерия xи-квадрат).\n",
    "\n",
    "Одним из способов коррекции точности аппроксимации является поправка Йетса на непрерывность.  Эта поправка заключается в  вычитании константы 0.5  из каждого модуля разности наблюденного  $O_i$ и ожидаемого  $E_i$ значений, то есть, статистика с такой поправкой выглядит так: \n",
    "$$\\chi _{\\text{Yates}}^{2}=\\sum _{i=1}^{N}{(|O_{i}-E_{i}|-0.5)^{2} \\over E_{i}}.$$\n",
    "\n",
    "Такая поправка, как несложно догадаться по формуле, как правило, уменьшает  значение статистики  $\\chi^{2}$, то есть увеличивает достигаемый уровень значимости.\n",
    "\n",
    "Эта поправка обычно используется для таблиц сопряженности размером 2x2  и для небольшого количества наблюдений. Такая поправка, однако, не является серебрянной пулей, и часто критикуется за то, что статистический критерий при ее использовании становится слишком консервативным, то есть часто не отвергает нулевую гипотезу там, где она неверна (совершает ошибку II рода). \n",
    "\n",
    "Полезно знать, что эта поправка часто включена по  умолчанию (например, в функции scipy.stats.chi2_contingency) и понимать ее влияние на оценку достигаемого уровня значимости. \n",
    "\n",
    "Проведите те же самые сравнения, что и в вопросе №1, только с включенной коррекцией и сравните полученные результаты, отметив все верные варианты.\n"
   ]
  },
  {
   "cell_type": "code",
   "execution_count": 13,
   "id": "serial-colombia",
   "metadata": {},
   "outputs": [],
   "source": [
    "chi_corr_data = []\n",
    "\n",
    "for i, lhs_column in enumerate(states):\n",
    "    for j, rhs_column in enumerate(states):\n",
    "        if i >= j:\n",
    "            continue\n",
    "        \n",
    "        statistic, p = scipy.stats.chi2_contingency(\n",
    "            control_states.loc[[lhs_column, rhs_column],:],\n",
    "            correction=True)[0:2]\n",
    "        reject = True if p < 0.05 else False\n",
    "        chi_corr_data.append([statistic, p, reject])"
   ]
  },
  {
   "cell_type": "code",
   "execution_count": 14,
   "id": "prescribed-touch",
   "metadata": {},
   "outputs": [],
   "source": [
    "chi_data[['chi2_corr','p_corr', 'reject_corr']] = chi_corr_data"
   ]
  },
  {
   "cell_type": "code",
   "execution_count": 15,
   "id": "commercial-copying",
   "metadata": {},
   "outputs": [
    {
     "data": {
      "text/html": [
       "<div>\n",
       "<style scoped>\n",
       "    .dataframe tbody tr th:only-of-type {\n",
       "        vertical-align: middle;\n",
       "    }\n",
       "\n",
       "    .dataframe tbody tr th {\n",
       "        vertical-align: top;\n",
       "    }\n",
       "\n",
       "    .dataframe thead th {\n",
       "        text-align: right;\n",
       "    }\n",
       "</style>\n",
       "<table border=\"1\" class=\"dataframe\">\n",
       "  <thead>\n",
       "    <tr style=\"text-align: right;\">\n",
       "      <th></th>\n",
       "      <th>state_A</th>\n",
       "      <th>state_B</th>\n",
       "      <th>chi2</th>\n",
       "      <th>p</th>\n",
       "      <th>reject</th>\n",
       "      <th>chi2_corr</th>\n",
       "      <th>p_corr</th>\n",
       "      <th>reject_corr</th>\n",
       "    </tr>\n",
       "  </thead>\n",
       "  <tbody>\n",
       "    <tr>\n",
       "      <th>0</th>\n",
       "      <td>KS</td>\n",
       "      <td>OH</td>\n",
       "      <td>3.158685</td>\n",
       "      <td>0.075524</td>\n",
       "      <td>False</td>\n",
       "      <td>1.983196</td>\n",
       "      <td>0.159054</td>\n",
       "      <td>False</td>\n",
       "    </tr>\n",
       "    <tr>\n",
       "      <th>1</th>\n",
       "      <td>KS</td>\n",
       "      <td>LA</td>\n",
       "      <td>5.090909</td>\n",
       "      <td>0.024052</td>\n",
       "      <td>True</td>\n",
       "      <td>3.336219</td>\n",
       "      <td>0.067770</td>\n",
       "      <td>False</td>\n",
       "    </tr>\n",
       "    <tr>\n",
       "      <th>2</th>\n",
       "      <td>KS</td>\n",
       "      <td>IA</td>\n",
       "      <td>1.156511</td>\n",
       "      <td>0.282190</td>\n",
       "      <td>False</td>\n",
       "      <td>0.468339</td>\n",
       "      <td>0.493752</td>\n",
       "      <td>False</td>\n",
       "    </tr>\n",
       "    <tr>\n",
       "      <th>3</th>\n",
       "      <td>KS</td>\n",
       "      <td>VT</td>\n",
       "      <td>0.250435</td>\n",
       "      <td>0.616769</td>\n",
       "      <td>False</td>\n",
       "      <td>0.027826</td>\n",
       "      <td>0.867518</td>\n",
       "      <td>False</td>\n",
       "    </tr>\n",
       "    <tr>\n",
       "      <th>4</th>\n",
       "      <td>KS</td>\n",
       "      <td>CO</td>\n",
       "      <td>0.171113</td>\n",
       "      <td>0.679125</td>\n",
       "      <td>False</td>\n",
       "      <td>0.006155</td>\n",
       "      <td>0.937468</td>\n",
       "      <td>False</td>\n",
       "    </tr>\n",
       "  </tbody>\n",
       "</table>\n",
       "</div>"
      ],
      "text/plain": [
       "  state_A state_B      chi2         p  reject  chi2_corr    p_corr  \\\n",
       "0      KS      OH  3.158685  0.075524   False   1.983196  0.159054   \n",
       "1      KS      LA  5.090909  0.024052    True   3.336219  0.067770   \n",
       "2      KS      IA  1.156511  0.282190   False   0.468339  0.493752   \n",
       "3      KS      VT  0.250435  0.616769   False   0.027826  0.867518   \n",
       "4      KS      CO  0.171113  0.679125   False   0.006155  0.937468   \n",
       "\n",
       "   reject_corr  \n",
       "0        False  \n",
       "1        False  \n",
       "2        False  \n",
       "3        False  \n",
       "4        False  "
      ]
     },
     "execution_count": 15,
     "metadata": {},
     "output_type": "execute_result"
    }
   ],
   "source": [
    "chi_data.head()"
   ]
  },
  {
   "cell_type": "markdown",
   "id": "applicable-article",
   "metadata": {},
   "source": [
    "**Вывод:** \n",
    "1. Количество достигаемых уровней значимости, меньших, чем 0.05, в точности равно нулю. То есть поправка увеличила достигаемые уровни значимости настолько, что больше ни одно из значений  достигаемого уровня значимости не попадает в диапазон от 0 до 0.05."
   ]
  },
  {
   "cell_type": "code",
   "execution_count": 16,
   "id": "coupled-style",
   "metadata": {
    "scrolled": true
   },
   "outputs": [
    {
     "data": {
      "text/plain": [
       "0"
      ]
     },
     "execution_count": 16,
     "metadata": {},
     "output_type": "execute_result"
    }
   ],
   "source": [
    "chi_data['reject_corr'].sum()"
   ]
  },
  {
   "cell_type": "markdown",
   "id": "complex-utilization",
   "metadata": {},
   "source": [
    "2. Поправка Йетса на непрерывность всегда увеличивает значение  достигаемого уровня значимости, поэтому все получившиеся значения  достигаемого уровня значимости строго больше  или равны таковым значениям при отсутствии этой поправки. - **неверно**"
   ]
  },
  {
   "cell_type": "code",
   "execution_count": 17,
   "id": "european-halifax",
   "metadata": {},
   "outputs": [
    {
     "data": {
      "text/plain": [
       "192"
      ]
     },
     "execution_count": 17,
     "metadata": {},
     "output_type": "execute_result"
    }
   ],
   "source": [
    "np.sum(chi_data['p'] > chi_data['p_corr'])"
   ]
  },
  {
   "cell_type": "markdown",
   "id": "latin-carolina",
   "metadata": {},
   "source": [
    "3. Количество  достигаемых уровней значимости, меньших, чем 0.05, почти не изменилось, нельзя сказать, что введенная  поправка сильно поменяла достигаемые уровни значимости. - **неверно**"
   ]
  },
  {
   "cell_type": "code",
   "execution_count": 18,
   "id": "annoying-punch",
   "metadata": {},
   "outputs": [
    {
     "data": {
      "text/plain": [
       "34"
      ]
     },
     "execution_count": 18,
     "metadata": {},
     "output_type": "execute_result"
    }
   ],
   "source": [
    "chi_data['reject'].sum()"
   ]
  },
  {
   "cell_type": "markdown",
   "id": "biological-transsexual",
   "metadata": {},
   "source": [
    "4. Достигаемые уровни значимости на наших данных,  полученные с помощью критерия xи-квадрат с поправкой Йетса,  в среднем получаются больше, чем соответствующие значения  без поправки."
   ]
  },
  {
   "cell_type": "code",
   "execution_count": 19,
   "id": "boring-access",
   "metadata": {},
   "outputs": [
    {
     "data": {
      "text/plain": [
       "1054"
      ]
     },
     "execution_count": 19,
     "metadata": {},
     "output_type": "execute_result"
    }
   ],
   "source": [
    "np.sum(chi_data['p'] < chi_data['p_corr'])"
   ]
  },
  {
   "cell_type": "markdown",
   "id": "interim-faculty",
   "metadata": {},
   "source": [
    "**4.** Что если у нас мало данных,  мы не хотим использовать аппроксимацию дискретного распределения непрерывным и использовать сомнительную поправку,  предположения  критерия xи-квадрат не выполняются, а проверить гипотезу о том, что данные принадлежат одному распределению, нужно?\n",
    "\n",
    "В таком случае прибегают к так называемому точному критерию Фишера. Этот  критерий не использует приближений и в точности вычисляет значение достигаемого уровня значимости используя комбинаторный подход.\n",
    "\n",
    "Пусть у нас есть таблица сопряженности 2x2:\n",
    "\n",
    " $  $  |$Группа 1$|$Группа 2$|$\\Sigma$\n",
    "-----|--------|--------|--------|\n",
    "$Воздействие 1$|$a$|$b$|$a + b$|\n",
    "$Воздействие 2$|$c$|$d$|$c + d$|\n",
    "$\\Sigma$| $a + c$|$b + d$|$n = a + b + c + d$|\n",
    "\n",
    "Тогда вероятность получить именно такие $a, b, c, d$ при фиксированных значениях сумм по строкам и по столбцам) задается выражением\n",
    "\n",
    "$$p={\\frac {\\displaystyle {{a+b} \\choose {a}}\\displaystyle {{c+d} \\choose {c}}}{\\displaystyle {{n} \\choose {a+c}}}}={ \\dfrac {(a+b)!~(c+d)!~(a+c)!~(b+d)!}{a!~~b!~~c!~~d!~~n!}}.$$\n",
    "\n",
    "В числителе этой дроби стоит суммарное количество способов выбрать $a$ и $c$ из $a+b$ и $c+d$ соответственно. А в знаменателе — количество способов выбрать число объектов, равное сумме элементов первого столбца $a+c$ из общего количества рассматриваемых объектов $n$.\n",
    "\n",
    "Чтобы посчитать достигаемый уровень значимости критерия Фишера, нужно перебрать все возможные значения $a, b, c, d$ в клетках этой таблицы так, чтобы построковые и постолбцовые суммы не изменились. Для каждого такого набора $a, b, c, d$ нужно вычислить значение  $p_i$ по формуле выше и просуммировать все такие значения  $p_i$, которые меньше или равны  $p$, которое мы вычислили по наблюдаемым значениям $a, b, c, d$.\n",
    "\n",
    "Понятно, что такой критерий вычислительно неудобен в силу большого количества факториалов в формуле выше. То есть даже при небольших выборках для вычисления значения этого критерия приходится оперировать очень большими числами. Поэтому данным критерием пользуются обычно только для таблиц 2x2, но сам критерий никак не ограничен количеством строк и столбцов, и его можно построить для любой таблицы $n\\times m$.\n",
    "\n",
    "Посчитайте для каждой пары штатов, как и в первом задании, достигаемый уровень значимости с помощью точного критерия Фишера и сравните получившиеся значения с двумя другими подходами, описанными выше.\n",
    "\n",
    "Точный критерий Фишера удобно вычислять с помощью функции scipy.stats.fisher_exact которая принимает на вход таблицу сопряженности 2x2. "
   ]
  },
  {
   "cell_type": "code",
   "execution_count": 20,
   "id": "apparent-scientist",
   "metadata": {},
   "outputs": [],
   "source": [
    "fisher_data = []\n",
    "\n",
    "for i, lhs_column in enumerate(states):\n",
    "    for j, rhs_column in enumerate(states):\n",
    "        if i >= j:\n",
    "            continue\n",
    "        \n",
    "        statistic, p = scipy.stats.fisher_exact(\n",
    "            control_states.loc[[lhs_column, rhs_column],:])[0:2]\n",
    "        reject = True if p < 0.05 else False\n",
    "        fisher_data.append([p, reject])"
   ]
  },
  {
   "cell_type": "code",
   "execution_count": 21,
   "id": "european-affect",
   "metadata": {},
   "outputs": [],
   "source": [
    "chi_data[['p_fisher', 'reject_fisher']] = fisher_data"
   ]
  },
  {
   "cell_type": "code",
   "execution_count": 22,
   "id": "simplified-provision",
   "metadata": {},
   "outputs": [
    {
     "data": {
      "text/html": [
       "<div>\n",
       "<style scoped>\n",
       "    .dataframe tbody tr th:only-of-type {\n",
       "        vertical-align: middle;\n",
       "    }\n",
       "\n",
       "    .dataframe tbody tr th {\n",
       "        vertical-align: top;\n",
       "    }\n",
       "\n",
       "    .dataframe thead th {\n",
       "        text-align: right;\n",
       "    }\n",
       "</style>\n",
       "<table border=\"1\" class=\"dataframe\">\n",
       "  <thead>\n",
       "    <tr style=\"text-align: right;\">\n",
       "      <th></th>\n",
       "      <th>state_A</th>\n",
       "      <th>state_B</th>\n",
       "      <th>chi2</th>\n",
       "      <th>p</th>\n",
       "      <th>reject</th>\n",
       "      <th>chi2_corr</th>\n",
       "      <th>p_corr</th>\n",
       "      <th>reject_corr</th>\n",
       "      <th>p_fisher</th>\n",
       "      <th>reject_fisher</th>\n",
       "    </tr>\n",
       "  </thead>\n",
       "  <tbody>\n",
       "    <tr>\n",
       "      <th>0</th>\n",
       "      <td>KS</td>\n",
       "      <td>OH</td>\n",
       "      <td>3.158685</td>\n",
       "      <td>0.075524</td>\n",
       "      <td>False</td>\n",
       "      <td>1.983196</td>\n",
       "      <td>0.159054</td>\n",
       "      <td>False</td>\n",
       "      <td>0.138333</td>\n",
       "      <td>False</td>\n",
       "    </tr>\n",
       "    <tr>\n",
       "      <th>1</th>\n",
       "      <td>KS</td>\n",
       "      <td>LA</td>\n",
       "      <td>5.090909</td>\n",
       "      <td>0.024052</td>\n",
       "      <td>True</td>\n",
       "      <td>3.336219</td>\n",
       "      <td>0.067770</td>\n",
       "      <td>False</td>\n",
       "      <td>0.032840</td>\n",
       "      <td>True</td>\n",
       "    </tr>\n",
       "    <tr>\n",
       "      <th>2</th>\n",
       "      <td>KS</td>\n",
       "      <td>IA</td>\n",
       "      <td>1.156511</td>\n",
       "      <td>0.282190</td>\n",
       "      <td>False</td>\n",
       "      <td>0.468339</td>\n",
       "      <td>0.493752</td>\n",
       "      <td>False</td>\n",
       "      <td>0.440083</td>\n",
       "      <td>False</td>\n",
       "    </tr>\n",
       "    <tr>\n",
       "      <th>3</th>\n",
       "      <td>KS</td>\n",
       "      <td>VT</td>\n",
       "      <td>0.250435</td>\n",
       "      <td>0.616769</td>\n",
       "      <td>False</td>\n",
       "      <td>0.027826</td>\n",
       "      <td>0.867518</td>\n",
       "      <td>False</td>\n",
       "      <td>0.743389</td>\n",
       "      <td>False</td>\n",
       "    </tr>\n",
       "    <tr>\n",
       "      <th>4</th>\n",
       "      <td>KS</td>\n",
       "      <td>CO</td>\n",
       "      <td>0.171113</td>\n",
       "      <td>0.679125</td>\n",
       "      <td>False</td>\n",
       "      <td>0.006155</td>\n",
       "      <td>0.937468</td>\n",
       "      <td>False</td>\n",
       "      <td>0.747108</td>\n",
       "      <td>False</td>\n",
       "    </tr>\n",
       "  </tbody>\n",
       "</table>\n",
       "</div>"
      ],
      "text/plain": [
       "  state_A state_B      chi2         p  reject  chi2_corr    p_corr  \\\n",
       "0      KS      OH  3.158685  0.075524   False   1.983196  0.159054   \n",
       "1      KS      LA  5.090909  0.024052    True   3.336219  0.067770   \n",
       "2      KS      IA  1.156511  0.282190   False   0.468339  0.493752   \n",
       "3      KS      VT  0.250435  0.616769   False   0.027826  0.867518   \n",
       "4      KS      CO  0.171113  0.679125   False   0.006155  0.937468   \n",
       "\n",
       "   reject_corr  p_fisher  reject_fisher  \n",
       "0        False  0.138333          False  \n",
       "1        False  0.032840           True  \n",
       "2        False  0.440083          False  \n",
       "3        False  0.743389          False  \n",
       "4        False  0.747108          False  "
      ]
     },
     "execution_count": 22,
     "metadata": {},
     "output_type": "execute_result"
    }
   ],
   "source": [
    "chi_data.head()"
   ]
  },
  {
   "cell_type": "markdown",
   "id": "unlimited-circular",
   "metadata": {},
   "source": [
    "**Вывод:**\n",
    "1. Точный критерий Фишера всегда лучше, чем критерий xи-квадрат, потому что не использует аппроксимацию дискретного распределения непрерывным. Однако при увеличении размера выборки его преимущества по сравнению с критерем xи-квадрат уменьшаются, в пределе достигая нуля.\n",
    "2. Точный критерий Фишера на наших данных дает значения достигаемого уровня значимости в среднем большие, чем xи-квадрат без поправки"
   ]
  },
  {
   "cell_type": "code",
   "execution_count": 23,
   "id": "settled-victim",
   "metadata": {},
   "outputs": [
    {
     "data": {
      "text/plain": [
       "2"
      ]
     },
     "execution_count": 23,
     "metadata": {},
     "output_type": "execute_result"
    }
   ],
   "source": [
    "np.sum(chi_data['p'] > chi_data['p_fisher'])"
   ]
  },
  {
   "cell_type": "markdown",
   "id": "nearby-latin",
   "metadata": {},
   "source": [
    "3. Точный критерий Фишера на наших данных дает значения достигаемого уровня значимости в среднем меньшие, чем xи-квадрат с поправкой Йетса"
   ]
  },
  {
   "cell_type": "code",
   "execution_count": 24,
   "id": "established-radar",
   "metadata": {},
   "outputs": [
    {
     "data": {
      "text/plain": [
       "767"
      ]
     },
     "execution_count": 24,
     "metadata": {},
     "output_type": "execute_result"
    }
   ],
   "source": [
    "np.sum(chi_data['p_corr'] > chi_data['p_fisher'])"
   ]
  },
  {
   "cell_type": "markdown",
   "id": "bacterial-hygiene",
   "metadata": {},
   "source": [
    "**5.** Давайте попробуем применить полученные знания о разных видах корреляции и ее применимости на практике. \n",
    "\n",
    "Рассмотрим пару признаков day_calls и  mes_estim. Посчитайте корреляцию Пирсона между этими признаками на всех данных, ее значимость. \n",
    "\n",
    "Отметьте все верные утверждения. "
   ]
  },
  {
   "cell_type": "code",
   "execution_count": 25,
   "id": "bigger-referral",
   "metadata": {},
   "outputs": [
    {
     "name": "stdout",
     "output_type": "stream",
     "text": [
      "Коэффициент корреляции: -0.05179435058757252\n",
      "p-value: 0.0027798836869732313\n"
     ]
    }
   ],
   "source": [
    "pears_r, p_pears = stats.pearsonr(data['day_calls'],\n",
    "                                  data['mes_estim'])\n",
    "print(f'Коэффициент корреляции: {pears_r}')\n",
    "print(f'p-value: {p_pears}')"
   ]
  },
  {
   "cell_type": "markdown",
   "id": "subtle-length",
   "metadata": {},
   "source": [
    "**Вывод:**\n",
    "1. Корреляция Пирсона имеет отрицательный знак, и отличие корреляции от нуля на уровне доверия 0.05 значимо. "
   ]
  },
  {
   "cell_type": "markdown",
   "id": "latin-bahrain",
   "metadata": {},
   "source": [
    "**6.** Еще раз рассмотрим пару признаков day_calls и  mes_estim. Посчитайте корреляцию Спирмена между этими признаками на всех данных, ее значимость.\n",
    "\n",
    "Отметьте все верные утверждения. "
   ]
  },
  {
   "cell_type": "code",
   "execution_count": 26,
   "id": "hawaiian-trailer",
   "metadata": {
    "scrolled": true
   },
   "outputs": [
    {
     "name": "stdout",
     "output_type": "stream",
     "text": [
      "Коэффициент корреляции: 0.043349880533927444\n",
      "p-value: 0.012317367189170543\n"
     ]
    }
   ],
   "source": [
    "spear_r, spear_p =stats.spearmanr(data['day_calls'],\n",
    "                                      data['mes_estim'])\n",
    "print(f'Коэффициент корреляции: {spear_r}')\n",
    "print(f'p-value: {spear_p}')"
   ]
  },
  {
   "cell_type": "markdown",
   "id": "scenic-shock",
   "metadata": {},
   "source": [
    "**Вывод:**\n",
    "1. Корреляция Спирмена имеет положительный знак, и отличие корреляции от нуля на уровне доверия 0.05 значимо. "
   ]
  },
  {
   "cell_type": "markdown",
   "id": "driving-factor",
   "metadata": {},
   "source": [
    "**7.** Как можно интерпретировать полученные значения коэффициентов корреляции и достигаемые уровни значимости при проверки гипотез о равенстве нулю этих коэффициентов?"
   ]
  },
  {
   "cell_type": "code",
   "execution_count": 27,
   "id": "generic-commitment",
   "metadata": {},
   "outputs": [
    {
     "data": {
      "image/png": "[encoded data removed]",
      "text/plain": [
       "<Figure size 864x576 with 2 Axes>"
      ]
     },
     "metadata": {
      "needs_background": "light"
     },
     "output_type": "display_data"
    }
   ],
   "source": [
    "plt.figure(figsize=(12,8))\n",
    "plt.subplot(2,2,1)\n",
    "\n",
    "stats.probplot(data['day_calls'], dist=\"norm\", plot=plt)\n",
    "plt.subplot(2,2,2)\n",
    "stats.probplot(data['mes_estim'], dist=\"norm\", plot=plt)\n",
    "plt.show()"
   ]
  },
  {
   "cell_type": "markdown",
   "id": "pleased-syria",
   "metadata": {},
   "source": [
    "**Вывод:**\n",
    "1. Посчитанные корреляции и их значимости говорят лишь о том, что необходимо взглянуть на данные глазами и попытаться понять, что приводит к таким (противоречивым?) результатам."
   ]
  },
  {
   "cell_type": "markdown",
   "id": "legislative-schedule",
   "metadata": {},
   "source": [
    "**8.** Посчитайте значение коэффицента корреляции Крамера между двумя признаками:  штатом (state) и оттоком пользователей (churn) для всех пользователей, которые находились в контрольной группе (treatment=1).  Что можно сказать о достигаемом уровне значимости при проверке гипотезы о равенство нулю этого коэффициента?"
   ]
  },
  {
   "cell_type": "code",
   "execution_count": 28,
   "id": "nearby-bunny",
   "metadata": {
    "scrolled": true
   },
   "outputs": [
    {
     "name": "stdout",
     "output_type": "stream",
     "text": [
      "V-Cramer statistic is: 0.2004\n",
      "V-Cramer p-value: 0.7098\n"
     ]
    }
   ],
   "source": [
    "def v_Cramer_correlation(table):\n",
    "    chi_stat = stats.chi2_contingency(table)\n",
    "    k_min = np.min(table.shape)\n",
    "    n = np.sum(table)\n",
    "    return np.sqrt(chi_stat[0]/(n*(k_min-1))), chi_stat[1]\n",
    "\n",
    "v_cramer, p_cramer = v_Cramer_correlation(control_states.values)\n",
    "print(f'V-Cramer statistic is: {np.round(v_cramer, 4)}') \n",
    "print(f'V-Cramer p-value: {np.round(p_cramer, 4)}') "
   ]
  },
  {
   "cell_type": "markdown",
   "id": "agricultural-estonia",
   "metadata": {},
   "source": [
    "**Вывод:**\n",
    "1. Для вычисления коэффициента Крамера используется значение статистики xи-квадрат, на которую мы не можем положиться применительно к нашим данным. "
   ]
  },
  {
   "cell_type": "markdown",
   "id": "primary-momentum",
   "metadata": {},
   "source": [
    "**9.** Вы прослушали большой курс и к текущему моменту обладете достаточными знаниями, чтобы попытаться самостоятельно выбрать нужный метод / инструмент / статистический критерий и сделать правильное заключение. \n",
    "\n",
    "В этой части задания вам нужно будет самостоятельно решить, с помощью каких методов можно провести анализ эффективности удержания (churn) с помощью раличных методов (treatment = 0, treatment = 2) относительно контрольной группы пользователей (treatment = 1). \n",
    "\n",
    "Что можно сказать об этих двух методах (treatment = 0, treatment = 2)? Одинаковы ли они с точки зрения эффективности? Каким бы методом вы бы посоветовали воспользоваться компании?\n",
    "\n",
    "Не забудьте про поправку на множественную проверку!  И не пользуйтесь односторонними альтернативами, поскольку вы не знаете, к каким действительно последствиям приводят тестируемые методы  (treatment = 0, treatment = 2) !"
   ]
  },
  {
   "cell_type": "markdown",
   "id": "figured-modern",
   "metadata": {},
   "source": [
    "**Для анализа эффективности применим Z-критерий для разности долей (независимые выборки):**"
   ]
  },
  {
   "cell_type": "code",
   "execution_count": 29,
   "id": "electoral-selection",
   "metadata": {},
   "outputs": [],
   "source": [
    "treatment_0 = data[data.loc[:, 'treatment']==0]['churn']\n",
    "treatment_1 = control_group['churn']\n",
    "treatment_2 = data[data.loc[:, 'treatment']==2]['churn']"
   ]
  },
  {
   "cell_type": "code",
   "execution_count": 30,
   "id": "inappropriate-shoot",
   "metadata": {},
   "outputs": [],
   "source": [
    "conf_interval_control = proportion_confint(sum(treatment_1), \n",
    "                                            data.shape[0],\n",
    "                                            method = 'wilson')\n",
    "conf_interval_treatment_0 = proportion_confint(sum(treatment_0), \n",
    "                                            data.shape[0],\n",
    "                                            method = 'wilson')\n",
    "conf_interval_treatment_2 = proportion_confint(sum(treatment_2), \n",
    "                                            data.shape[0],\n",
    "                                            method = 'wilson')"
   ]
  },
  {
   "cell_type": "code",
   "execution_count": 31,
   "id": "aboriginal-fraction",
   "metadata": {},
   "outputs": [
    {
     "name": "stdout",
     "output_type": "stream",
     "text": [
      "95% доверительный интервал для оттока в контрольой группе: (0.046832593769958165, 0.06220508851455855)\n",
      "95% доверительный интервал для оттока в группе 0: (0.04264529311470613, 0.057401851150481804)\n",
      "95% доверительный интервал для оттока в группе 2: (0.03515191803549811, 0.04871225779489799)\n"
     ]
    }
   ],
   "source": [
    "print(f'95% доверительный интервал для оттока в контрольой группе: {conf_interval_control}')\n",
    "print(f'95% доверительный интервал для оттока в группе 0: {conf_interval_treatment_0}')\n",
    "print(f'95% доверительный интервал для оттока в группе 2: {conf_interval_treatment_2}')"
   ]
  },
  {
   "cell_type": "code",
   "execution_count": 32,
   "id": "stretch-functionality",
   "metadata": {},
   "outputs": [],
   "source": [
    "def proportions_diff_confint_ind(sample1, sample2, alpha = 0.05):    \n",
    "    z = scipy.stats.norm.ppf(1 - alpha / 2.)\n",
    "    \n",
    "    p1 = float(sum(sample1)) / len(sample1)\n",
    "    p2 = float(sum(sample2)) / len(sample2)\n",
    "    \n",
    "    left_boundary = (p1 - p2) - z * np.sqrt(p1 * (1 - p1)/ len(sample1) + p2 * (1 - p2)/ len(sample2))\n",
    "    right_boundary = (p1 - p2) + z * np.sqrt(p1 * (1 - p1)/ len(sample1) + p2 * (1 - p2)/ len(sample2))\n",
    "    \n",
    "    return (left_boundary, right_boundary)\n",
    "\n",
    "def proportions_diff_z_stat_ind(sample1, sample2):\n",
    "    n1 = len(sample1)\n",
    "    n2 = len(sample2)\n",
    "    \n",
    "    p1 = float(sum(sample1)) / n1\n",
    "    p2 = float(sum(sample2)) / n2 \n",
    "    P = float(p1*n1 + p2*n2) / (n1 + n2)\n",
    "    \n",
    "    return (p1 - p2) / np.sqrt(P * (1 - P) * (1. / n1 + 1. / n2))\n",
    "\n",
    "def proportions_diff_z_test(z_stat, alternative = 'two-sided'):\n",
    "    if alternative not in ('two-sided', 'less', 'greater'):\n",
    "        raise ValueError(\"alternative not recognized\\n\"\n",
    "                         \"should be 'two-sided', 'less' or 'greater'\")\n",
    "    \n",
    "    if alternative == 'two-sided':\n",
    "        return 2 * (1 - scipy.stats.norm.cdf(np.abs(z_stat)))\n",
    "    \n",
    "    if alternative == 'less':\n",
    "        return scipy.stats.norm.cdf(z_stat)\n",
    "\n",
    "    if alternative == 'greater':\n",
    "        return 1 - scipy.stats.norm.cdf(z_stat)"
   ]
  },
  {
   "cell_type": "code",
   "execution_count": 33,
   "id": "italian-stable",
   "metadata": {},
   "outputs": [
    {
     "name": "stdout",
     "output_type": "stream",
     "text": [
      "95% доверительный интервал для разностей долей оттока в группе 0 и контрольой группе: [-0.0485  0.0116]\n",
      "95% доверительный интервал для разностей долей оттока в группе 2 и контрольой группе: [-0.0683 -0.0096]\n",
      "95% доверительный интервал для разностей долей оттока в группе 2 и группе 0: [-0.0489  0.0078]\n"
     ]
    }
   ],
   "source": [
    "print(f'95% доверительный интервал для разностей долей \\\n",
    "оттока в группе 0 и контрольой группе: \\\n",
    "{np.round(proportions_diff_confint_ind(treatment_0, treatment_1), 4)}')\n",
    "print(f'95% доверительный интервал для разностей долей \\\n",
    "оттока в группе 2 и контрольой группе: \\\n",
    "{np.round(proportions_diff_confint_ind(treatment_2, treatment_1), 4)}')\n",
    "print(f'95% доверительный интервал для разностей долей \\\n",
    "оттока в группе 2 и группе 0: \\\n",
    "{np.round(proportions_diff_confint_ind(treatment_2, treatment_0), 4)}')"
   ]
  },
  {
   "cell_type": "code",
   "execution_count": 34,
   "id": "provincial-florida",
   "metadata": {},
   "outputs": [
    {
     "name": "stdout",
     "output_type": "stream",
     "text": [
      "Достигаемый уровень значимости для разностей долей оттока в группе 0 и контрольой группе: 0.2283\n",
      "Достигаемый уровень значимости для разностей долей оттока в группе 2 и контрольой группе: 0.0093\n",
      "Достигаемый уровень значимости для разностей долей оттока в группе 2 и группе 0: 0.1564\n"
     ]
    }
   ],
   "source": [
    "p_0_1 = np.round(\n",
    "    proportions_diff_z_test(\n",
    "        proportions_diff_z_stat_ind(treatment_0,\n",
    "                                    treatment_1)),\n",
    "    4)\n",
    "p_2_1 = np.round(\n",
    "    proportions_diff_z_test(\n",
    "        proportions_diff_z_stat_ind(treatment_2,\n",
    "                                    treatment_1)),\n",
    "    4) \n",
    "p_2_0 = np.round(\n",
    "    proportions_diff_z_test(\n",
    "        proportions_diff_z_stat_ind(treatment_0,\n",
    "                                    treatment_2)),\n",
    "    4)\n",
    "\n",
    "print(f'Достигаемый уровень значимости для разностей долей \\\n",
    "оттока в группе 0 и контрольой группе: \\\n",
    "{p_0_1}')\n",
    "print(f'Достигаемый уровень значимости для разностей долей \\\n",
    "оттока в группе 2 и контрольой группе: \\\n",
    "{p_2_1}')\n",
    "print(f'Достигаемый уровень значимости для разностей долей \\\n",
    "оттока в группе 2 и группе 0: \\\n",
    "{p_2_0}')"
   ]
  },
  {
   "cell_type": "markdown",
   "id": "respected-reviewer",
   "metadata": {},
   "source": [
    "**Вывод:**\n",
    "1. treatment = 2 статистически значимо отличается от контрольной  группы treatment = 1\n",
    "2. Отличие  между  treatment = 0 и treatment = 2 относительно влияния на уровень churn статистически незначимо. "
   ]
  }
 ],
 "metadata": {
  "kernelspec": {
   "display_name": "Python 3",
   "language": "python",
   "name": "python3"
  },
  "language_info": {
   "codemirror_mode": {
    "name": "ipython",
    "version": 3
   },
   "file_extension": ".py",
   "mimetype": "text/x-python",
   "name": "python",
   "nbconvert_exporter": "python",
   "pygments_lexer": "ipython3",
   "version": "3.9.0"
  }
 },
 "nbformat": 4,
 "nbformat_minor": 5
}
