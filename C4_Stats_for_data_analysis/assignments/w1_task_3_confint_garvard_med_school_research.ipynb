{
 "cells": [
  {
   "cell_type": "markdown",
   "id": "manufactured-holiday",
   "metadata": {},
   "source": [
    "## Доверительные интервалы"
   ]
  },
  {
   "cell_type": "markdown",
   "id": "curious-surname",
   "metadata": {},
   "source": [
    "**1.** В пятилетнем рандомизированном исследовании Гарвардской медицинской школы 11037 испытуемых через день принимали аспирин, а ещё 11034 — плацебо. Исследование было слепым, то есть, испытуемые не знали, что именно они принимают.\n",
    "\n",
    "За 5 лет инфаркт случился у 104 испытуемых, принимавших аспирин, и у 189 принимавших плацебо. \n",
    "\n",
    "Оцените, насколько вероятность инфаркта снижается при приёме аспирина. Округлите ответ до четырёх знаков после десятичной точки."
   ]
  },
  {
   "cell_type": "code",
   "execution_count": 1,
   "id": "cellular-symbol",
   "metadata": {},
   "outputs": [],
   "source": [
    "import numpy as np\n",
    "\n",
    "import scipy\n",
    "from statsmodels.stats.weightstats import *\n",
    "from statsmodels.stats.proportion import proportion_confint"
   ]
  },
  {
   "cell_type": "code",
   "execution_count": 2,
   "id": "fewer-enlargement",
   "metadata": {
    "scrolled": true
   },
   "outputs": [
    {
     "name": "stdout",
     "output_type": "stream",
     "text": [
      "Вероятность инфаркта при приёме аспирина снижается на 0.0077\n"
     ]
    }
   ],
   "source": [
    "n1 = 11037\n",
    "t1 = 104\n",
    "n2 = 11034\n",
    "t2 = 189\n",
    "\n",
    "p1 = t1 / n1\n",
    "p2 = t2 / n2\n",
    "print(f'Вероятность инфаркта при приёме аспирина снижается на {np.round(p2 - p1 , 4)}')"
   ]
  },
  {
   "cell_type": "markdown",
   "id": "antique-principle",
   "metadata": {},
   "source": [
    "**2.** Постройте теперь 95% доверительный интервал для снижения вероятности инфаркта при приёме аспирина. Чему равна его верхняя граница? Округлите ответ до четырёх знаков после десятичной точки.  "
   ]
  },
  {
   "cell_type": "markdown",
   "id": "tropical-equality",
   "metadata": {},
   "source": [
    "### Доверительный интервал для разности долей (независимые выборки)\n",
    "\n",
    "Suc | $X_1$ | $X_2$  \n",
    "--- | --- | ----|\n",
    "  1  | $a$ | $b$ \n",
    "  0  | $c$ | $d$ \n",
    "  $\\sum$ | $n_1$| $n_2$\n",
    "  \n",
    "$$ \\hat{p}_1 = \\frac{a}{n_1}$$\n",
    "\n",
    "$$ \\hat{p}_2 = \\frac{b}{n_2}$$\n",
    "\n",
    "\n",
    "$$\\text{Доверительный интервал для }p_1 - p_2\\colon \\;\\; \\hat{p}_1 - \\hat{p}_2 \\pm z_{1-\\frac{\\alpha}{2}}\\sqrt{\\frac{\\hat{p}_1(1 - \\hat{p}_1)}{n_1} + \\frac{\\hat{p}_2(1 - \\hat{p}_2)}{n_2}}$$"
   ]
  },
  {
   "cell_type": "code",
   "execution_count": 3,
   "id": "delayed-baseball",
   "metadata": {},
   "outputs": [],
   "source": [
    "alpha = 0.05\n",
    "z = scipy.stats.norm.ppf(1 - alpha / 2.)   \n",
    "\n",
    "left_boundary = (p2 - p1) - z * np.sqrt(p2 * (1 - p2)/ n2 + p1 * (1 - p1)/ n1)\n",
    "right_boundary = (p2 - p1) + z * np.sqrt(p2 * (1 - p2)/ n2 + p1 * (1 - p1)/ n1)"
   ]
  },
  {
   "cell_type": "code",
   "execution_count": 4,
   "id": "isolated-humidity",
   "metadata": {
    "scrolled": true
   },
   "outputs": [
    {
     "name": "stdout",
     "output_type": "stream",
     "text": [
      "Confidence interval: [0.0047, 0.0107]\n"
     ]
    }
   ],
   "source": [
    "print(f'Confidence interval: {[round(left_boundary, 4), round(right_boundary, 4)]}')"
   ]
  },
  {
   "cell_type": "markdown",
   "id": "creative-automation",
   "metadata": {},
   "source": [
    "**3.** Продолжим анализировать данные эксперимента Гарвардской медицинской школы. \n",
    "\n",
    "Для бернуллиевских случайных величин $X\\sim Ber(p)$ часто вычисляют величину $\\frac{p}{1-p}$, которая называется шансами (odds). Чтобы оценить шансы по выборке, вместо $p$ нужно подставить $\\hat{p}$. Например, шансы инфаркта в контрольной группе, принимавшей плацебо, можно оценить как \n",
    "\n",
    "$$ \\frac{\\frac{189}{11034}}{1-\\frac{189}{11034}} = \\frac{189}{11034-189}\\approx 0.0174 $$\n",
    "\n",
    "Оцените, во сколько раз понижаются шансы инфаркта при регулярном приёме аспирина. Округлите ответ до четырёх знаков после десятичной точки. "
   ]
  },
  {
   "cell_type": "code",
   "execution_count": 5,
   "id": "thirty-clock",
   "metadata": {},
   "outputs": [
    {
     "name": "stdout",
     "output_type": "stream",
     "text": [
      "Шансы инфаркта при регулярном приёме аспирина снижаются на 1.8321\n"
     ]
    }
   ],
   "source": [
    "print(f'Шансы инфаркта при регулярном приёме аспирина снижаются на {round((p2/(1-p2)) / (p1/(1-p1)),4)}')"
   ]
  },
  {
   "cell_type": "markdown",
   "id": "surprised-necessity",
   "metadata": {},
   "source": [
    "**4.** Величина, которую вы оценили в предыдущем вопросе, называется отношением шансов. Постройте для отношения шансов 95% доверительный интервал с помощью бутстрепа. Чему равна его нижняя граница? Округлите ответ до 4 знаков после десятичной точки.\n",
    "\n",
    "Чтобы получить в точности такой же доверительный интервал, как у нас:\n",
    "\n",
    "- составьте векторы исходов в контрольной и тестовой выборках так, чтобы в начале шли все единицы, а потом все нули;\n",
    "- установите random seed=0;\n",
    "- сделайте по 1000 псевдовыборок из каждой группы пациентов с помощью функции get_bootstrap_samples."
   ]
  },
  {
   "cell_type": "code",
   "execution_count": 6,
   "id": "experienced-chambers",
   "metadata": {},
   "outputs": [],
   "source": [
    "def get_bootstrap_samples(data, n_samples):\n",
    "    indices = np.random.randint(0, len(data), (n_samples, len(data)))\n",
    "    samples = data[indices]\n",
    "    return samples\n",
    "\n",
    "def stat_intervals(stat, alpha):\n",
    "    boundaries = np.percentile(stat, [100 * alpha / 2., 100 * (1 - alpha / 2.)])\n",
    "    return boundaries"
   ]
  },
  {
   "cell_type": "code",
   "execution_count": 7,
   "id": "copyrighted-saver",
   "metadata": {},
   "outputs": [],
   "source": [
    "np.random.seed(0)\n",
    "\n",
    "group1 = np.append(np.ones(t1), np.zeros(n1-t1))\n",
    "group2 = np.append(np.ones(t2), np.zeros(n2-t2))"
   ]
  },
  {
   "cell_type": "code",
   "execution_count": 8,
   "id": "polyphonic-examination",
   "metadata": {},
   "outputs": [],
   "source": [
    "def odds(group):\n",
    "    p = group.sum() / group.shape[0]\n",
    "    return p / (1 - p)\n",
    "odds1 = np.array(list(map(odds, get_bootstrap_samples(group1, 1000))))\n",
    "odds2 = np.array(list(map(odds, get_bootstrap_samples(group2, 1000))))"
   ]
  },
  {
   "cell_type": "code",
   "execution_count": 9,
   "id": "clear-willow",
   "metadata": {},
   "outputs": [
    {
     "name": "stdout",
     "output_type": "stream",
     "text": [
      "Сonfidence interval for the odds ratio: [1.4442 2.3432]\n"
     ]
    }
   ],
   "source": [
    "print(f'Сonfidence interval for the odds ratio: {np.round(stat_intervals(odds2/odds1, 0.05), 4)}')"
   ]
  },
  {
   "cell_type": "markdown",
   "id": "prospective-reducing",
   "metadata": {},
   "source": [
    "Давайте уточним правило трёх сигм. Утверждение: 99.7% вероятностной массы случайной величины $X\\sim N\\left(\\mu,\\sigma^2\\right)$ лежит в интервале $\\mu\\pm c \\cdot \\sigma$. Чему равно точное значение константы $c$? Округлите ответ до четырёх знаков после десятичной точки.  "
   ]
  },
  {
   "cell_type": "code",
   "execution_count": 10,
   "id": "selective-priest",
   "metadata": {},
   "outputs": [
    {
     "name": "stdout",
     "output_type": "stream",
     "text": [
      "c = z_coef (critical value from the normal distribution) with 99.7% confidence level = 2.9677\n"
     ]
    }
   ],
   "source": [
    "print(f'c = z_coef (critical value from the normal distribution) with 99.7% confidence level = {np.round(scipy.stats.norm.isf(0.003/2), 4) }')"
   ]
  }
 ],
 "metadata": {
  "kernelspec": {
   "display_name": "Python 3",
   "language": "python",
   "name": "python3"
  },
  "language_info": {
   "codemirror_mode": {
    "name": "ipython",
    "version": 3
   },
   "file_extension": ".py",
   "mimetype": "text/x-python",
   "name": "python",
   "nbconvert_exporter": "python",
   "pygments_lexer": "ipython3",
   "version": "3.9.0"
  }
 },
 "nbformat": 4,
 "nbformat_minor": 5
}
