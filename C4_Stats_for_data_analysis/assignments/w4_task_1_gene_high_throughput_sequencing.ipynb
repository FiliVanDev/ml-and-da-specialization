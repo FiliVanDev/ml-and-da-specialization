{
 "cells": [
  {
   "cell_type": "markdown",
   "id": "renewable-congress",
   "metadata": {},
   "source": [
    "## Дифференциально экспрессированные гены\n",
    "---\n",
    "*Обнаружение статистически значимых отличий в уровнях экспрессии генов больных раком*"
   ]
  },
  {
   "cell_type": "markdown",
   "id": "incident-supervision",
   "metadata": {},
   "source": [
    "### Описание используемых данных\n",
    "\n",
    "Данные для этой задачи взяты из исследования, проведенного в Stanford School of Medicine. В исследовании была предпринята попытка выявить набор  генов, которые позволили  бы более точно диагностировать возникновение рака груди на самых ранних стадиях.\n",
    "\n",
    "В эксперименте принимали участие 24 человек, у которых не было рака груди (normal), 25 человек, у которых это заболевание было диагностировано на ранней стадии (early neoplasia), и 23 человека с сильно выраженными симптомами (cancer).\n",
    "![1](img/w4_task_1.png)\n",
    "Ученые провели секвенирование биологического материала испытуемых, чтобы понять, какие из этих генов наиболее активны в клетках больных людей. \n",
    "\n",
    "**Секвенирование** — это определение степени активности генов в анализируемом образце с помощью подсчёта количества соответствующей каждому гену РНК.\n",
    "\n",
    "В данных для этого задания вы найдете именно эту количественную меру активности каждого из 15748 генов у каждого из 72 человек, принимавших участие в эксперименте.\n",
    "\n",
    "Вам нужно будет определить те гены, активность которых у людей в разных стадиях заболевания отличается статистически значимо.\n",
    "\n",
    "Кроме того, вам нужно будет оценить не только статистическую, но и практическую значимость этих результатов, которая часто используется в подобных исследованиях.\n",
    "\n",
    "Диагноз человека содержится в столбце под названием \"Diagnosis\"."
   ]
  },
  {
   "cell_type": "markdown",
   "id": "daily-algorithm",
   "metadata": {},
   "source": [
    "### Практическая значимость изменения\n",
    "Цель исследований — найти гены, средняя экспрессия которых отличается не только статистически значимо, но и достаточно сильно. В экспрессионных исследованиях для этого часто используется метрика, которая называется **fold change** (кратность изменения). Определяется она следующим образом:\n",
    "\n",
    "$$ \\begin{equation*}\n",
    "F_c(C,T) = \n",
    " \\begin{cases}\n",
    "   \\frac{T}{C} &T>C\\\\\n",
    "   -\\frac{C}{T} &T<C\n",
    " \\end{cases}\n",
    "\\end{equation*} $$\n",
    " \n",
    "\n",
    "где  $C$, $T$ — средние значения экспрессии гена в control и treatment группах соответственно. По сути, fold change показывает, во сколько раз отличаются средние двух выборок."
   ]
  },
  {
   "cell_type": "code",
   "execution_count": 1,
   "id": "understanding-leonard",
   "metadata": {},
   "outputs": [],
   "source": [
    "import warnings\n",
    "warnings.filterwarnings('ignore')"
   ]
  },
  {
   "cell_type": "code",
   "execution_count": 2,
   "id": "polished-prize",
   "metadata": {},
   "outputs": [],
   "source": [
    "import scipy \n",
    "import numpy as np\n",
    "import pandas as pd\n",
    "from statsmodels.stats.weightstats import *\n",
    "import statsmodels.stats.multitest as smm"
   ]
  },
  {
   "cell_type": "code",
   "execution_count": 3,
   "id": "amber-appendix",
   "metadata": {},
   "outputs": [
    {
     "data": {
      "text/html": [
       "<div>\n",
       "<style scoped>\n",
       "    .dataframe tbody tr th:only-of-type {\n",
       "        vertical-align: middle;\n",
       "    }\n",
       "\n",
       "    .dataframe tbody tr th {\n",
       "        vertical-align: top;\n",
       "    }\n",
       "\n",
       "    .dataframe thead th {\n",
       "        text-align: right;\n",
       "    }\n",
       "</style>\n",
       "<table border=\"1\" class=\"dataframe\">\n",
       "  <thead>\n",
       "    <tr style=\"text-align: right;\">\n",
       "      <th></th>\n",
       "      <th>Patient_id</th>\n",
       "      <th>Diagnosis</th>\n",
       "      <th>LOC643837</th>\n",
       "      <th>LOC100130417</th>\n",
       "      <th>SAMD11</th>\n",
       "      <th>NOC2L</th>\n",
       "      <th>KLHL17</th>\n",
       "      <th>PLEKHN1</th>\n",
       "      <th>C1orf170</th>\n",
       "      <th>HES4</th>\n",
       "      <th>...</th>\n",
       "      <th>CLIC2</th>\n",
       "      <th>RPS4Y1</th>\n",
       "      <th>ZFY</th>\n",
       "      <th>PRKY</th>\n",
       "      <th>USP9Y</th>\n",
       "      <th>DDX3Y</th>\n",
       "      <th>CD24</th>\n",
       "      <th>CYorf15B</th>\n",
       "      <th>KDM5D</th>\n",
       "      <th>EIF1AY</th>\n",
       "    </tr>\n",
       "  </thead>\n",
       "  <tbody>\n",
       "    <tr>\n",
       "      <th>0</th>\n",
       "      <td>STT5425_Breast_001_normal</td>\n",
       "      <td>normal</td>\n",
       "      <td>1.257614</td>\n",
       "      <td>2.408148</td>\n",
       "      <td>13.368622</td>\n",
       "      <td>9.494779</td>\n",
       "      <td>20.880435</td>\n",
       "      <td>12.722017</td>\n",
       "      <td>9.494779</td>\n",
       "      <td>54.349694</td>\n",
       "      <td>...</td>\n",
       "      <td>4.761250</td>\n",
       "      <td>1.257614</td>\n",
       "      <td>1.257614</td>\n",
       "      <td>1.257614</td>\n",
       "      <td>1.257614</td>\n",
       "      <td>1.257614</td>\n",
       "      <td>23.268694</td>\n",
       "      <td>1.257614</td>\n",
       "      <td>1.257614</td>\n",
       "      <td>1.257614</td>\n",
       "    </tr>\n",
       "    <tr>\n",
       "      <th>1</th>\n",
       "      <td>STT5427_Breast_023_normal</td>\n",
       "      <td>normal</td>\n",
       "      <td>4.567931</td>\n",
       "      <td>16.602734</td>\n",
       "      <td>42.477752</td>\n",
       "      <td>25.562376</td>\n",
       "      <td>23.221137</td>\n",
       "      <td>11.622386</td>\n",
       "      <td>14.330573</td>\n",
       "      <td>72.445474</td>\n",
       "      <td>...</td>\n",
       "      <td>6.871902</td>\n",
       "      <td>1.815112</td>\n",
       "      <td>1.815112</td>\n",
       "      <td>1.815112</td>\n",
       "      <td>1.815112</td>\n",
       "      <td>1.815112</td>\n",
       "      <td>10.427023</td>\n",
       "      <td>1.815112</td>\n",
       "      <td>1.815112</td>\n",
       "      <td>1.815112</td>\n",
       "    </tr>\n",
       "    <tr>\n",
       "      <th>2</th>\n",
       "      <td>STT5430_Breast_002_normal</td>\n",
       "      <td>normal</td>\n",
       "      <td>2.077597</td>\n",
       "      <td>3.978294</td>\n",
       "      <td>12.863214</td>\n",
       "      <td>13.728915</td>\n",
       "      <td>14.543176</td>\n",
       "      <td>14.141907</td>\n",
       "      <td>6.232790</td>\n",
       "      <td>57.011005</td>\n",
       "      <td>...</td>\n",
       "      <td>7.096343</td>\n",
       "      <td>2.077597</td>\n",
       "      <td>2.077597</td>\n",
       "      <td>2.077597</td>\n",
       "      <td>2.077597</td>\n",
       "      <td>2.077597</td>\n",
       "      <td>22.344226</td>\n",
       "      <td>2.077597</td>\n",
       "      <td>2.077597</td>\n",
       "      <td>2.077597</td>\n",
       "    </tr>\n",
       "    <tr>\n",
       "      <th>3</th>\n",
       "      <td>STT5439_Breast_003_normal</td>\n",
       "      <td>normal</td>\n",
       "      <td>2.066576</td>\n",
       "      <td>8.520713</td>\n",
       "      <td>14.466035</td>\n",
       "      <td>7.823932</td>\n",
       "      <td>8.520713</td>\n",
       "      <td>2.066576</td>\n",
       "      <td>10.870009</td>\n",
       "      <td>53.292034</td>\n",
       "      <td>...</td>\n",
       "      <td>5.200770</td>\n",
       "      <td>2.066576</td>\n",
       "      <td>2.066576</td>\n",
       "      <td>2.066576</td>\n",
       "      <td>2.066576</td>\n",
       "      <td>2.066576</td>\n",
       "      <td>49.295538</td>\n",
       "      <td>2.066576</td>\n",
       "      <td>2.066576</td>\n",
       "      <td>2.066576</td>\n",
       "    </tr>\n",
       "    <tr>\n",
       "      <th>4</th>\n",
       "      <td>STT5441_Breast_004_normal</td>\n",
       "      <td>normal</td>\n",
       "      <td>2.613616</td>\n",
       "      <td>3.434965</td>\n",
       "      <td>12.682222</td>\n",
       "      <td>10.543189</td>\n",
       "      <td>26.688686</td>\n",
       "      <td>12.484822</td>\n",
       "      <td>1.364917</td>\n",
       "      <td>67.140393</td>\n",
       "      <td>...</td>\n",
       "      <td>11.227770</td>\n",
       "      <td>1.364917</td>\n",
       "      <td>1.364917</td>\n",
       "      <td>1.364917</td>\n",
       "      <td>1.364917</td>\n",
       "      <td>1.364917</td>\n",
       "      <td>23.627911</td>\n",
       "      <td>1.364917</td>\n",
       "      <td>1.364917</td>\n",
       "      <td>1.364917</td>\n",
       "    </tr>\n",
       "  </tbody>\n",
       "</table>\n",
       "<p>5 rows × 15750 columns</p>\n",
       "</div>"
      ],
      "text/plain": [
       "                  Patient_id Diagnosis  LOC643837  LOC100130417     SAMD11  \\\n",
       "0  STT5425_Breast_001_normal    normal   1.257614      2.408148  13.368622   \n",
       "1  STT5427_Breast_023_normal    normal   4.567931     16.602734  42.477752   \n",
       "2  STT5430_Breast_002_normal    normal   2.077597      3.978294  12.863214   \n",
       "3  STT5439_Breast_003_normal    normal   2.066576      8.520713  14.466035   \n",
       "4  STT5441_Breast_004_normal    normal   2.613616      3.434965  12.682222   \n",
       "\n",
       "       NOC2L     KLHL17    PLEKHN1   C1orf170       HES4  ...      CLIC2  \\\n",
       "0   9.494779  20.880435  12.722017   9.494779  54.349694  ...   4.761250   \n",
       "1  25.562376  23.221137  11.622386  14.330573  72.445474  ...   6.871902   \n",
       "2  13.728915  14.543176  14.141907   6.232790  57.011005  ...   7.096343   \n",
       "3   7.823932   8.520713   2.066576  10.870009  53.292034  ...   5.200770   \n",
       "4  10.543189  26.688686  12.484822   1.364917  67.140393  ...  11.227770   \n",
       "\n",
       "     RPS4Y1       ZFY      PRKY     USP9Y     DDX3Y       CD24  CYorf15B  \\\n",
       "0  1.257614  1.257614  1.257614  1.257614  1.257614  23.268694  1.257614   \n",
       "1  1.815112  1.815112  1.815112  1.815112  1.815112  10.427023  1.815112   \n",
       "2  2.077597  2.077597  2.077597  2.077597  2.077597  22.344226  2.077597   \n",
       "3  2.066576  2.066576  2.066576  2.066576  2.066576  49.295538  2.066576   \n",
       "4  1.364917  1.364917  1.364917  1.364917  1.364917  23.627911  1.364917   \n",
       "\n",
       "      KDM5D    EIF1AY  \n",
       "0  1.257614  1.257614  \n",
       "1  1.815112  1.815112  \n",
       "2  2.077597  2.077597  \n",
       "3  2.066576  2.066576  \n",
       "4  1.364917  1.364917  \n",
       "\n",
       "[5 rows x 15750 columns]"
      ]
     },
     "execution_count": 3,
     "metadata": {},
     "output_type": "execute_result"
    }
   ],
   "source": [
    "data = pd.read_csv('data/gene_high_throughput_sequencing.csv', header=0)\n",
    "data.head()"
   ]
  },
  {
   "cell_type": "code",
   "execution_count": 4,
   "id": "pointed-solution",
   "metadata": {},
   "outputs": [
    {
     "data": {
      "text/plain": [
       "True"
      ]
     },
     "execution_count": 4,
     "metadata": {},
     "output_type": "execute_result"
    }
   ],
   "source": [
    "data.shape == data.dropna().shape # пропусков в данных нет"
   ]
  },
  {
   "cell_type": "markdown",
   "id": "raised-median",
   "metadata": {},
   "source": [
    "### Часть 1: применение t-критерия Стьюдента\n",
    "В первой части вам нужно будет применить критерий Стьюдента для проверки гипотезы о равенстве средних в двух независимых выборках. Применить критерий для каждого гена нужно будет дважды:\n",
    "\n",
    "* для групп **normal (control)** и **early neoplasia (treatment)**\n",
    "* для групп **early neoplasia (control)** и **cancer (treatment)**\n",
    "\n",
    "В качестве ответа в этой части задания необходимо указать количество статистически значимых отличий, которые вы нашли с помощью t-критерия Стьюдента, то есть число генов, у которых p-value этого теста оказался меньше, чем уровень значимости. "
   ]
  },
  {
   "cell_type": "markdown",
   "id": "painted-nickname",
   "metadata": {},
   "source": [
    "**1.** Разделим данные групп:"
   ]
  },
  {
   "cell_type": "code",
   "execution_count": 5,
   "id": "certified-script",
   "metadata": {},
   "outputs": [],
   "source": [
    "normal = data.loc[data.loc[:, 'Diagnosis'] == 'normal', :]\n",
    "early_neoplasia = data.loc[data.loc[:, 'Diagnosis'] == 'early neoplasia', :]\n",
    "cancer = data.loc[data.loc[:, 'Diagnosis'] == 'cancer', :]"
   ]
  },
  {
   "cell_type": "markdown",
   "id": "dressed-updating",
   "metadata": {},
   "source": [
    "**2.** Сформируем отдельный Data Frame с уровнями значимости t-критерия Стьюдента для пар групп для каждого гена и заполним:"
   ]
  },
  {
   "cell_type": "code",
   "execution_count": 6,
   "id": "mechanical-designer",
   "metadata": {},
   "outputs": [],
   "source": [
    "gens_list = data.columns[2:]\n",
    "ttest_p = pd.DataFrame(\n",
    "    index=['normal vs early neoplasia',\n",
    "           'early neoplasia vs cancer'],\n",
    "    columns=gens_list)"
   ]
  },
  {
   "cell_type": "code",
   "execution_count": 7,
   "id": "married-divide",
   "metadata": {},
   "outputs": [
    {
     "name": "stdout",
     "output_type": "stream",
     "text": [
      "Wall time: 16.9 s\n"
     ]
    }
   ],
   "source": [
    "%%time\n",
    "for gen in gens_list:\n",
    "    ttest_p.loc['normal vs early neoplasia', gen] = scipy.stats.ttest_ind(\n",
    "        normal[gen], \n",
    "        early_neoplasia[gen],\n",
    "        equal_var = False).pvalue\n",
    "    ttest_p.loc['early neoplasia vs cancer', gen] = scipy.stats.ttest_ind(\n",
    "        early_neoplasia[gen],\n",
    "        cancer[gen],\n",
    "        equal_var = False).pvalue"
   ]
  },
  {
   "cell_type": "code",
   "execution_count": 8,
   "id": "flying-speech",
   "metadata": {},
   "outputs": [
    {
     "data": {
      "text/html": [
       "<div>\n",
       "<style scoped>\n",
       "    .dataframe tbody tr th:only-of-type {\n",
       "        vertical-align: middle;\n",
       "    }\n",
       "\n",
       "    .dataframe tbody tr th {\n",
       "        vertical-align: top;\n",
       "    }\n",
       "\n",
       "    .dataframe thead th {\n",
       "        text-align: right;\n",
       "    }\n",
       "</style>\n",
       "<table border=\"1\" class=\"dataframe\">\n",
       "  <thead>\n",
       "    <tr style=\"text-align: right;\">\n",
       "      <th></th>\n",
       "      <th>LOC643837</th>\n",
       "      <th>LOC100130417</th>\n",
       "      <th>SAMD11</th>\n",
       "      <th>NOC2L</th>\n",
       "      <th>KLHL17</th>\n",
       "      <th>PLEKHN1</th>\n",
       "      <th>C1orf170</th>\n",
       "      <th>HES4</th>\n",
       "      <th>ISG15</th>\n",
       "      <th>AGRN</th>\n",
       "      <th>...</th>\n",
       "      <th>CLIC2</th>\n",
       "      <th>RPS4Y1</th>\n",
       "      <th>ZFY</th>\n",
       "      <th>PRKY</th>\n",
       "      <th>USP9Y</th>\n",
       "      <th>DDX3Y</th>\n",
       "      <th>CD24</th>\n",
       "      <th>CYorf15B</th>\n",
       "      <th>KDM5D</th>\n",
       "      <th>EIF1AY</th>\n",
       "    </tr>\n",
       "  </thead>\n",
       "  <tbody>\n",
       "    <tr>\n",
       "      <th>normal vs early neoplasia</th>\n",
       "      <td>0.690766</td>\n",
       "      <td>3.17853e-05</td>\n",
       "      <td>0.0602727</td>\n",
       "      <td>0.826429</td>\n",
       "      <td>0.0498762</td>\n",
       "      <td>0.144267</td>\n",
       "      <td>0.329108</td>\n",
       "      <td>0.0237124</td>\n",
       "      <td>0.240148</td>\n",
       "      <td>0.0379328</td>\n",
       "      <td>...</td>\n",
       "      <td>0.463274</td>\n",
       "      <td>0.806008</td>\n",
       "      <td>0.424543</td>\n",
       "      <td>0.740591</td>\n",
       "      <td>0.414922</td>\n",
       "      <td>0.640904</td>\n",
       "      <td>0.830134</td>\n",
       "      <td>0.670395</td>\n",
       "      <td>0.793925</td>\n",
       "      <td>0.661031</td>\n",
       "    </tr>\n",
       "    <tr>\n",
       "      <th>early neoplasia vs cancer</th>\n",
       "      <td>0.413735</td>\n",
       "      <td>0.653429</td>\n",
       "      <td>0.0795556</td>\n",
       "      <td>0.287581</td>\n",
       "      <td>0.463292</td>\n",
       "      <td>0.00768133</td>\n",
       "      <td>0.481306</td>\n",
       "      <td>0.57883</td>\n",
       "      <td>0.00074024</td>\n",
       "      <td>0.712687</td>\n",
       "      <td>...</td>\n",
       "      <td>0.107366</td>\n",
       "      <td>0.458907</td>\n",
       "      <td>0.893433</td>\n",
       "      <td>0.467608</td>\n",
       "      <td>0.881584</td>\n",
       "      <td>0.659369</td>\n",
       "      <td>0.330617</td>\n",
       "      <td>0.542939</td>\n",
       "      <td>0.565753</td>\n",
       "      <td>0.63901</td>\n",
       "    </tr>\n",
       "  </tbody>\n",
       "</table>\n",
       "<p>2 rows × 15748 columns</p>\n",
       "</div>"
      ],
      "text/plain": [
       "                          LOC643837 LOC100130417     SAMD11     NOC2L  \\\n",
       "normal vs early neoplasia  0.690766  3.17853e-05  0.0602727  0.826429   \n",
       "early neoplasia vs cancer  0.413735     0.653429  0.0795556  0.287581   \n",
       "\n",
       "                              KLHL17     PLEKHN1  C1orf170       HES4  \\\n",
       "normal vs early neoplasia  0.0498762    0.144267  0.329108  0.0237124   \n",
       "early neoplasia vs cancer   0.463292  0.00768133  0.481306    0.57883   \n",
       "\n",
       "                                ISG15       AGRN  ...     CLIC2    RPS4Y1  \\\n",
       "normal vs early neoplasia    0.240148  0.0379328  ...  0.463274  0.806008   \n",
       "early neoplasia vs cancer  0.00074024   0.712687  ...  0.107366  0.458907   \n",
       "\n",
       "                                ZFY      PRKY     USP9Y     DDX3Y      CD24  \\\n",
       "normal vs early neoplasia  0.424543  0.740591  0.414922  0.640904  0.830134   \n",
       "early neoplasia vs cancer  0.893433  0.467608  0.881584  0.659369  0.330617   \n",
       "\n",
       "                           CYorf15B     KDM5D    EIF1AY  \n",
       "normal vs early neoplasia  0.670395  0.793925  0.661031  \n",
       "early neoplasia vs cancer  0.542939  0.565753   0.63901  \n",
       "\n",
       "[2 rows x 15748 columns]"
      ]
     },
     "execution_count": 8,
     "metadata": {},
     "output_type": "execute_result"
    }
   ],
   "source": [
    "ttest_p.head()"
   ]
  },
  {
   "cell_type": "markdown",
   "id": "constitutional-sheriff",
   "metadata": {},
   "source": [
    "**3.** Посчитаем количество статистически значимых отличий:"
   ]
  },
  {
   "cell_type": "code",
   "execution_count": 9,
   "id": "delayed-saskatchewan",
   "metadata": {},
   "outputs": [
    {
     "name": "stdout",
     "output_type": "stream",
     "text": [
      "Cтатистически значимых отличий средних значений степени активности генов:\n",
      "1. В группе normal (control) и early neoplasia (treatment): 1575\n",
      "2. В группе early neoplasia (control) и cancer (treatment): 3490\n",
      "3. Всего: 5065\n"
     ]
    }
   ],
   "source": [
    "n_stat_1_group = np.sum(ttest_p.loc['normal vs early neoplasia', :] < 0.05)\n",
    "n_stat_2_group = np.sum(ttest_p.loc['early neoplasia vs cancer', :] < 0.05)\n",
    "n_stat_all = n_stat_1_group + n_stat_2_group\n",
    "print(f'Cтатистически значимых отличий средних значений степени активности генов:\\n'\\\n",
    "     f'1. В группе normal (control) и early neoplasia (treatment): {n_stat_1_group}\\n'\\\n",
    "     f'2. В группе early neoplasia (control) и cancer (treatment): {n_stat_2_group}\\n'\n",
    "     f'3. Всего: {n_stat_all}')"
   ]
  },
  {
   "cell_type": "markdown",
   "id": "auburn-clause",
   "metadata": {},
   "source": [
    "### Часть 2: поправка методом Холма\n",
    "В этой части задания нужно будет применить поправку Холма для получившихся двух наборов достигаемых уровней значимости из предыдущей части. Обратите внимание, что поскольку вы будете делать поправку для каждого из двух наборов p-value отдельно, то проблема, связанная с множественной проверкой останется.\n",
    "\n",
    "Для того, чтобы ее устранить, достаточно воспользоваться поправкой Бонферрони, то есть использовать уровень значимости 0.05 / 2 вместо 0.05 для дальнейшего уточнения значений p-value c помощью метода Холма.\n",
    "\n",
    "В качестве ответа к этому заданию требуется ввести количество значимых отличий в каждой группе после того, как произведена коррекция Холма-Бонферрони. Причем это число нужно ввести с учетом практической значимости: посчитайте для каждого значимого изменения fold change и выпишите в ответ число таких значимых изменений, абсолютное значение fold change которых больше, чем 1.5.\n",
    "\n",
    "Обратите внимание, что\n",
    "\n",
    "* применять поправку на множественную проверку  нужно  ко всем  значениям достигаемых уровней значимости, а не только для тех, которые меньше значения уровня доверия.  \n",
    "* при использовании поправки на уровне значимости 0.025 меняются значения достигаемого уровня значимости, но не меняется значение уровня доверия (то есть для отбора значимых изменений скорректированные значения уровня значимости нужно сравнивать с порогом 0.025, а не 0.05)!"
   ]
  },
  {
   "cell_type": "markdown",
   "id": "rough-breakdown",
   "metadata": {},
   "source": [
    "**1.** Сформируем Data Frame со скоректированными значениями уровня значимости:"
   ]
  },
  {
   "cell_type": "code",
   "execution_count": 10,
   "id": "coupled-spanish",
   "metadata": {},
   "outputs": [],
   "source": [
    "ttest_p_corr_holm = ttest_p.copy()"
   ]
  },
  {
   "cell_type": "code",
   "execution_count": 11,
   "id": "certified-projector",
   "metadata": {
    "scrolled": true
   },
   "outputs": [
    {
     "data": {
      "text/html": [
       "<div>\n",
       "<style scoped>\n",
       "    .dataframe tbody tr th:only-of-type {\n",
       "        vertical-align: middle;\n",
       "    }\n",
       "\n",
       "    .dataframe tbody tr th {\n",
       "        vertical-align: top;\n",
       "    }\n",
       "\n",
       "    .dataframe thead th {\n",
       "        text-align: right;\n",
       "    }\n",
       "</style>\n",
       "<table border=\"1\" class=\"dataframe\">\n",
       "  <thead>\n",
       "    <tr style=\"text-align: right;\">\n",
       "      <th></th>\n",
       "      <th>LOC643837</th>\n",
       "      <th>LOC100130417</th>\n",
       "      <th>SAMD11</th>\n",
       "      <th>NOC2L</th>\n",
       "      <th>KLHL17</th>\n",
       "      <th>PLEKHN1</th>\n",
       "      <th>C1orf170</th>\n",
       "      <th>HES4</th>\n",
       "      <th>ISG15</th>\n",
       "      <th>AGRN</th>\n",
       "      <th>...</th>\n",
       "      <th>CLIC2</th>\n",
       "      <th>RPS4Y1</th>\n",
       "      <th>ZFY</th>\n",
       "      <th>PRKY</th>\n",
       "      <th>USP9Y</th>\n",
       "      <th>DDX3Y</th>\n",
       "      <th>CD24</th>\n",
       "      <th>CYorf15B</th>\n",
       "      <th>KDM5D</th>\n",
       "      <th>EIF1AY</th>\n",
       "    </tr>\n",
       "  </thead>\n",
       "  <tbody>\n",
       "    <tr>\n",
       "      <th>normal vs early neoplasia</th>\n",
       "      <td>1</td>\n",
       "      <td>0.500174</td>\n",
       "      <td>1</td>\n",
       "      <td>1</td>\n",
       "      <td>1</td>\n",
       "      <td>1</td>\n",
       "      <td>1</td>\n",
       "      <td>1</td>\n",
       "      <td>1</td>\n",
       "      <td>1</td>\n",
       "      <td>...</td>\n",
       "      <td>1</td>\n",
       "      <td>1</td>\n",
       "      <td>1</td>\n",
       "      <td>1</td>\n",
       "      <td>1</td>\n",
       "      <td>1</td>\n",
       "      <td>1</td>\n",
       "      <td>1</td>\n",
       "      <td>1</td>\n",
       "      <td>1</td>\n",
       "    </tr>\n",
       "    <tr>\n",
       "      <th>early neoplasia vs cancer</th>\n",
       "      <td>1</td>\n",
       "      <td>1</td>\n",
       "      <td>1</td>\n",
       "      <td>1</td>\n",
       "      <td>1</td>\n",
       "      <td>1</td>\n",
       "      <td>1</td>\n",
       "      <td>1</td>\n",
       "      <td>1</td>\n",
       "      <td>1</td>\n",
       "      <td>...</td>\n",
       "      <td>1</td>\n",
       "      <td>1</td>\n",
       "      <td>1</td>\n",
       "      <td>1</td>\n",
       "      <td>1</td>\n",
       "      <td>1</td>\n",
       "      <td>1</td>\n",
       "      <td>1</td>\n",
       "      <td>1</td>\n",
       "      <td>1</td>\n",
       "    </tr>\n",
       "  </tbody>\n",
       "</table>\n",
       "<p>2 rows × 15748 columns</p>\n",
       "</div>"
      ],
      "text/plain": [
       "                          LOC643837 LOC100130417 SAMD11 NOC2L KLHL17 PLEKHN1  \\\n",
       "normal vs early neoplasia         1     0.500174      1     1      1       1   \n",
       "early neoplasia vs cancer         1            1      1     1      1       1   \n",
       "\n",
       "                          C1orf170 HES4 ISG15 AGRN  ... CLIC2 RPS4Y1 ZFY PRKY  \\\n",
       "normal vs early neoplasia        1    1     1    1  ...     1      1   1    1   \n",
       "early neoplasia vs cancer        1    1     1    1  ...     1      1   1    1   \n",
       "\n",
       "                          USP9Y DDX3Y CD24 CYorf15B KDM5D EIF1AY  \n",
       "normal vs early neoplasia     1     1    1        1     1      1  \n",
       "early neoplasia vs cancer     1     1    1        1     1      1  \n",
       "\n",
       "[2 rows x 15748 columns]"
      ]
     },
     "execution_count": 11,
     "metadata": {},
     "output_type": "execute_result"
    }
   ],
   "source": [
    "ttest_p_corr_holm.loc['normal vs early neoplasia', :] = smm.multipletests(\n",
    "    ttest_p.loc['normal vs early neoplasia', :],\n",
    "    alpha = 0.025,\n",
    "    method = 'holm')[1]\n",
    "ttest_p_corr_holm.loc['early neoplasia vs cancer', :] = smm.multipletests(\n",
    "    ttest_p.loc['early neoplasia vs cancer', :],\n",
    "    alpha = 0.025,\n",
    "    method = 'holm')[1]\n",
    "ttest_p_corr_holm.head()"
   ]
  },
  {
   "cell_type": "markdown",
   "id": "integrated-whale",
   "metadata": {},
   "source": [
    "**2.** Посмотрим сколько статистически значимых отличий осталось после поправки методом Холма:"
   ]
  },
  {
   "cell_type": "code",
   "execution_count": 12,
   "id": "fancy-placement",
   "metadata": {},
   "outputs": [
    {
     "name": "stdout",
     "output_type": "stream",
     "text": [
      "Cтатистически значимых отличий средних значений степени активности генов после поправки методом Холма:\n",
      "1. В группе normal (control) и early neoplasia (treatment): 2\n",
      "2. В группе early neoplasia (control) и cancer (treatment): 79\n",
      "3. Всего: 81\n"
     ]
    }
   ],
   "source": [
    "n_stat_1_group_corr_holm = np.sum(ttest_p_corr_holm.loc['normal vs early neoplasia', :] < 0.025)\n",
    "n_stat_2_group_corr_holm = np.sum(ttest_p_corr_holm.loc['early neoplasia vs cancer', :] < 0.025)\n",
    "n_stat_all_corr_holm = n_stat_1_group_corr_holm + n_stat_2_group_corr_holm\n",
    "print(f'Cтатистически значимых отличий средних значений степени активности генов после поправки методом Холма:\\n'\\\n",
    "     f'1. В группе normal (control) и early neoplasia (treatment): {n_stat_1_group_corr_holm}\\n'\\\n",
    "     f'2. В группе early neoplasia (control) и cancer (treatment): {n_stat_2_group_corr_holm}\\n'\n",
    "     f'3. Всего: {n_stat_all_corr_holm}')                                         "
   ]
  },
  {
   "cell_type": "markdown",
   "id": "blind-reference",
   "metadata": {},
   "source": [
    "**3.** Отберём для каждой группы гены отличия средних значений в которых значимо, посчитаем для каждого значимого изменения fold change, а также число таких значимых изменений, абсолютное значение fold change которых больше, чем 1.5."
   ]
  },
  {
   "cell_type": "code",
   "execution_count": 13,
   "id": "suspended-meditation",
   "metadata": {},
   "outputs": [],
   "source": [
    "name_stat_1 = ttest_p_corr_holm.loc['normal vs early neoplasia', \n",
    "                                    ttest_p_corr_holm.loc['normal vs early neoplasia', :] < 0.025].index\n",
    "name_stat_2 = ttest_p_corr_holm.loc['early neoplasia vs cancer', \n",
    "                                    ttest_p_corr_holm.loc['early neoplasia vs cancer', :] < 0.025].index\n",
    "F = lambda c, t: t/c if t>=c else -c/t\n",
    "f_stat_1 = []\n",
    "for gen in name_stat_1:\n",
    "    f_stat_1.append(F(normal[gen].mean(), early_neoplasia[gen].mean()))\n",
    "\n",
    "f_stat_2 = []\n",
    "for gen in name_stat_2:\n",
    "    f_stat_2.append(F(early_neoplasia[gen].mean(), cancer[gen].mean()))"
   ]
  },
  {
   "cell_type": "code",
   "execution_count": 14,
   "id": "statistical-chassis",
   "metadata": {
    "scrolled": false
   },
   "outputs": [
    {
     "name": "stdout",
     "output_type": "stream",
     "text": [
      "Число значимых изменений, абсолютное значение fold change которых больше, чем 1.5:\n",
      "1. В группе normal (control) и early neoplasia (treatment): 2\n",
      "2. В группе early neoplasia (control) и cancer (treatment): 77\n",
      "\n"
     ]
    }
   ],
   "source": [
    "print(f'Число значимых изменений, абсолютное значение fold change которых больше, чем 1.5:\\n'\\\n",
    "      f'1. В группе normal (control) и early neoplasia (treatment): {len([x for x in f_stat_1 if abs(x) > 1.5])}\\n'\\\n",
    "      f'2. В группе early neoplasia (control) и cancer (treatment): {len([x for x in f_stat_2 if abs(x) > 1.5])}\\n')"
   ]
  },
  {
   "cell_type": "markdown",
   "id": "imposed-composite",
   "metadata": {},
   "source": [
    "### Часть 3: поправка методом Бенджамини-Хохберга\n",
    "Данная часть задания аналогична второй части за исключением того, что нужно будет использовать метод Бенджамини-Хохберга.\n",
    "\n",
    "Обратите внимание, что методы коррекции, которые контролируют FDR, допускает больше ошибок первого рода и имеют большую мощность, чем методы, контролирующие FWER. Большая мощность означает, что эти методы будут совершать меньше ошибок второго рода (то есть будут лучше улавливать отклонения от $H_0$, когда они есть, и будут чаще отклонять $H_0$, когда отличий нет).\n",
    "\n",
    "В качестве ответа к этому заданию требуется  ввести количество значимых отличий в каждой группе после того, как произведена коррекция Бенджамини-Хохберга, причем так же, как и во второй части, считать только такие отличия, у которых abs(fold change) > 1.5. "
   ]
  },
  {
   "cell_type": "markdown",
   "id": "daily-glance",
   "metadata": {},
   "source": [
    "**1.** Сформируем Data Frame со скоректированными значениями уровня значимости:"
   ]
  },
  {
   "cell_type": "code",
   "execution_count": 15,
   "id": "spread-crystal",
   "metadata": {},
   "outputs": [],
   "source": [
    "ttest_p_corr_fdr_bh = ttest_p.copy()"
   ]
  },
  {
   "cell_type": "code",
   "execution_count": 16,
   "id": "liquid-jerusalem",
   "metadata": {
    "scrolled": true
   },
   "outputs": [
    {
     "data": {
      "text/html": [
       "<div>\n",
       "<style scoped>\n",
       "    .dataframe tbody tr th:only-of-type {\n",
       "        vertical-align: middle;\n",
       "    }\n",
       "\n",
       "    .dataframe tbody tr th {\n",
       "        vertical-align: top;\n",
       "    }\n",
       "\n",
       "    .dataframe thead th {\n",
       "        text-align: right;\n",
       "    }\n",
       "</style>\n",
       "<table border=\"1\" class=\"dataframe\">\n",
       "  <thead>\n",
       "    <tr style=\"text-align: right;\">\n",
       "      <th></th>\n",
       "      <th>LOC643837</th>\n",
       "      <th>LOC100130417</th>\n",
       "      <th>SAMD11</th>\n",
       "      <th>NOC2L</th>\n",
       "      <th>KLHL17</th>\n",
       "      <th>PLEKHN1</th>\n",
       "      <th>C1orf170</th>\n",
       "      <th>HES4</th>\n",
       "      <th>ISG15</th>\n",
       "      <th>AGRN</th>\n",
       "      <th>...</th>\n",
       "      <th>CLIC2</th>\n",
       "      <th>RPS4Y1</th>\n",
       "      <th>ZFY</th>\n",
       "      <th>PRKY</th>\n",
       "      <th>USP9Y</th>\n",
       "      <th>DDX3Y</th>\n",
       "      <th>CD24</th>\n",
       "      <th>CYorf15B</th>\n",
       "      <th>KDM5D</th>\n",
       "      <th>EIF1AY</th>\n",
       "    </tr>\n",
       "  </thead>\n",
       "  <tbody>\n",
       "    <tr>\n",
       "      <th>normal vs early neoplasia</th>\n",
       "      <td>1</td>\n",
       "      <td>0.500174</td>\n",
       "      <td>1</td>\n",
       "      <td>1</td>\n",
       "      <td>1</td>\n",
       "      <td>1</td>\n",
       "      <td>1</td>\n",
       "      <td>1</td>\n",
       "      <td>1</td>\n",
       "      <td>1</td>\n",
       "      <td>...</td>\n",
       "      <td>1</td>\n",
       "      <td>1</td>\n",
       "      <td>1</td>\n",
       "      <td>1</td>\n",
       "      <td>1</td>\n",
       "      <td>1</td>\n",
       "      <td>1</td>\n",
       "      <td>1</td>\n",
       "      <td>1</td>\n",
       "      <td>1</td>\n",
       "    </tr>\n",
       "    <tr>\n",
       "      <th>early neoplasia vs cancer</th>\n",
       "      <td>1</td>\n",
       "      <td>1</td>\n",
       "      <td>1</td>\n",
       "      <td>1</td>\n",
       "      <td>1</td>\n",
       "      <td>1</td>\n",
       "      <td>1</td>\n",
       "      <td>1</td>\n",
       "      <td>1</td>\n",
       "      <td>1</td>\n",
       "      <td>...</td>\n",
       "      <td>1</td>\n",
       "      <td>1</td>\n",
       "      <td>1</td>\n",
       "      <td>1</td>\n",
       "      <td>1</td>\n",
       "      <td>1</td>\n",
       "      <td>1</td>\n",
       "      <td>1</td>\n",
       "      <td>1</td>\n",
       "      <td>1</td>\n",
       "    </tr>\n",
       "  </tbody>\n",
       "</table>\n",
       "<p>2 rows × 15748 columns</p>\n",
       "</div>"
      ],
      "text/plain": [
       "                          LOC643837 LOC100130417 SAMD11 NOC2L KLHL17 PLEKHN1  \\\n",
       "normal vs early neoplasia         1     0.500174      1     1      1       1   \n",
       "early neoplasia vs cancer         1            1      1     1      1       1   \n",
       "\n",
       "                          C1orf170 HES4 ISG15 AGRN  ... CLIC2 RPS4Y1 ZFY PRKY  \\\n",
       "normal vs early neoplasia        1    1     1    1  ...     1      1   1    1   \n",
       "early neoplasia vs cancer        1    1     1    1  ...     1      1   1    1   \n",
       "\n",
       "                          USP9Y DDX3Y CD24 CYorf15B KDM5D EIF1AY  \n",
       "normal vs early neoplasia     1     1    1        1     1      1  \n",
       "early neoplasia vs cancer     1     1    1        1     1      1  \n",
       "\n",
       "[2 rows x 15748 columns]"
      ]
     },
     "execution_count": 16,
     "metadata": {},
     "output_type": "execute_result"
    }
   ],
   "source": [
    "ttest_p_corr_fdr_bh.loc['normal vs early neoplasia', :] = smm.multipletests(\n",
    "    ttest_p.loc['normal vs early neoplasia', :],\n",
    "    alpha = 0.025,\n",
    "    method = 'fdr_bh')[1]\n",
    "ttest_p_corr_fdr_bh.loc['early neoplasia vs cancer', :] = smm.multipletests(\n",
    "    ttest_p.loc['early neoplasia vs cancer', :],\n",
    "    alpha = 0.025,\n",
    "    method = 'fdr_bh')[1]\n",
    "ttest_p_corr_holm.head()"
   ]
  },
  {
   "cell_type": "markdown",
   "id": "actual-color",
   "metadata": {},
   "source": [
    "**2.** Посмотрим сколько статистически значимых отличий осталось после поправки методом Бенджамини-Хохберга:"
   ]
  },
  {
   "cell_type": "code",
   "execution_count": 17,
   "id": "changing-olympus",
   "metadata": {},
   "outputs": [
    {
     "name": "stdout",
     "output_type": "stream",
     "text": [
      "Cтатистически значимых отличий средних значений степени активности генов после поправки методом Бенджамини-Хохберга:\n",
      "1. В группе normal (control) и early neoplasia (treatment): 4\n",
      "2. В группе early neoplasia (control) и cancer (treatment): 832\n",
      "3. Всего: 836\n"
     ]
    }
   ],
   "source": [
    "n_stat_1_group_corr_fdr_bh = np.sum(ttest_p_corr_fdr_bh.loc['normal vs early neoplasia', :] < 0.025)\n",
    "n_stat_2_group_corr_fdr_bh = np.sum(ttest_p_corr_fdr_bh.loc['early neoplasia vs cancer', :] < 0.025)\n",
    "n_stat_all_corr_holm_fdr_bh = n_stat_1_group_corr_fdr_bh + n_stat_2_group_corr_fdr_bh\n",
    "print(f'Cтатистически значимых отличий средних значений степени активности генов после поправки методом Бенджамини-Хохберга:\\n'\\\n",
    "     f'1. В группе normal (control) и early neoplasia (treatment): {n_stat_1_group_corr_fdr_bh}\\n'\\\n",
    "     f'2. В группе early neoplasia (control) и cancer (treatment): {n_stat_2_group_corr_fdr_bh}\\n'\n",
    "     f'3. Всего: {n_stat_all_corr_holm_fdr_bh}')                                         "
   ]
  },
  {
   "cell_type": "markdown",
   "id": "fallen-plate",
   "metadata": {},
   "source": [
    "**3.** Отберём для каждой группы гены отличия средних значений в которых значимо, посчитаем для каждого значимого изменения fold change, а также число таких значимых изменений, абсолютное значение fold change которых больше, чем 1.5."
   ]
  },
  {
   "cell_type": "code",
   "execution_count": 18,
   "id": "younger-picking",
   "metadata": {},
   "outputs": [],
   "source": [
    "name_stat_1 = ttest_p_corr_fdr_bh.loc['normal vs early neoplasia', \n",
    "                                    ttest_p_corr_fdr_bh.loc['normal vs early neoplasia', :] < 0.025].index\n",
    "name_stat_2 = ttest_p_corr_fdr_bh.loc['early neoplasia vs cancer', \n",
    "                                    ttest_p_corr_fdr_bh.loc['early neoplasia vs cancer', :] < 0.025].index\n",
    "\n",
    "f_stat_1 = []\n",
    "for gen in name_stat_1:\n",
    "    f_stat_1.append(F(normal[gen].mean(), early_neoplasia[gen].mean()))\n",
    "\n",
    "f_stat_2 = []\n",
    "for gen in name_stat_2:\n",
    "    f_stat_2.append(F(early_neoplasia[gen].mean(), cancer[gen].mean()))"
   ]
  },
  {
   "cell_type": "code",
   "execution_count": 19,
   "id": "frozen-lesson",
   "metadata": {
    "scrolled": false
   },
   "outputs": [
    {
     "name": "stdout",
     "output_type": "stream",
     "text": [
      "Число значимых изменений, абсолютное значение fold change которых больше, чем 1.5:\n",
      "1. В группе normal (control) и early neoplasia (treatment): 4\n",
      "2. В группе early neoplasia (control) и cancer (treatment): 524\n",
      "\n"
     ]
    }
   ],
   "source": [
    "print(f'Число значимых изменений, абсолютное значение fold change которых больше, чем 1.5:\\n'\\\n",
    "      f'1. В группе normal (control) и early neoplasia (treatment): {len([x for x in f_stat_1 if abs(x) > 1.5])}\\n'\\\n",
    "      f'2. В группе early neoplasia (control) и cancer (treatment): {len([x for x in f_stat_2 if abs(x) > 1.5])}\\n')"
   ]
  }
 ],
 "metadata": {
  "kernelspec": {
   "display_name": "Python 3",
   "language": "python",
   "name": "python3"
  },
  "language_info": {
   "codemirror_mode": {
    "name": "ipython",
    "version": 3
   },
   "file_extension": ".py",
   "mimetype": "text/x-python",
   "name": "python",
   "nbconvert_exporter": "python",
   "pygments_lexer": "ipython3",
   "version": "3.9.0"
  }
 },
 "nbformat": 4,
 "nbformat_minor": 5
}
