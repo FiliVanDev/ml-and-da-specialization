{
 "cells": [
  {
   "cell_type": "markdown",
   "id": "devoted-dairy",
   "metadata": {},
   "source": [
    "## Анализ данных в задаче кредитного скоринга"
   ]
  },
  {
   "cell_type": "markdown",
   "id": "ongoing-magnet",
   "metadata": {},
   "source": [
    "Для выполнения этого задания вам понадобятся данные о кредитных историях клиентов одного из банков. Поля в предоставляемых данных имеют следующий смысл:\n",
    "* LIMIT_BAL:  размер кредитного лимита (в том числе и на семью клиента)\n",
    "* SEX: пол клиента (1 = мужской, 2 = женский )\n",
    "* EDUCATION: образование (0 = доктор, 1 = магистр; 2 = бакалавр; 3 = выпускник школы; 4 = начальное образование; 5= прочее; 6 = нет данных ).\n",
    "* MARRIAGE: (0 = отказываюсь отвечать; 1 = замужем/женат; 2 = холост; 3 = нет данных). \n",
    "* AGE: возраст в годах\n",
    "* PAY_0 - PAY_6 : История прошлых платежей по кредиту. PAY_6 - платеж в апреле, ... Pay_0 - платеж в сентябре. Платеж = (0 = исправный платеж, 1=задержка в один месяц, 2=задержка в 2 месяца ...)\n",
    "* BILL_AMT1 - BILL_AMT6:  задолженность,  BILL_AMT6 - на апрель, BILL_AMT1 - на сентябрь \n",
    "* PAY_AMT1 - PAY_AMT6: сумма уплаченная в PAY_AMT6 - апреле, ..., PAY_AMT1 - сентябре \n",
    "* default - индикатор невозврата денежных средств"
   ]
  },
  {
   "cell_type": "code",
   "execution_count": 1,
   "id": "charitable-opposition",
   "metadata": {},
   "outputs": [],
   "source": [
    "import warnings\n",
    "warnings.filterwarnings('ignore')"
   ]
  },
  {
   "cell_type": "code",
   "execution_count": 2,
   "id": "shared-origin",
   "metadata": {},
   "outputs": [],
   "source": [
    "import scipy \n",
    "import numpy as np\n",
    "import pandas as pd\n",
    "from statsmodels.stats.weightstats import *\n",
    "from statsmodels.stats.proportion import proportion_confint\n",
    "import statsmodels.stats.multitest as smm\n",
    "import matplotlib.pyplot as plt"
   ]
  },
  {
   "cell_type": "code",
   "execution_count": 3,
   "id": "provincial-wildlife",
   "metadata": {},
   "outputs": [
    {
     "name": "stdout",
     "output_type": "stream",
     "text": [
      "Populating the interactive namespace from numpy and matplotlib\n"
     ]
    }
   ],
   "source": [
    "%pylab inline"
   ]
  },
  {
   "cell_type": "code",
   "execution_count": 4,
   "id": "judicial-husband",
   "metadata": {},
   "outputs": [
    {
     "data": {
      "text/html": [
       "<div>\n",
       "<style scoped>\n",
       "    .dataframe tbody tr th:only-of-type {\n",
       "        vertical-align: middle;\n",
       "    }\n",
       "\n",
       "    .dataframe tbody tr th {\n",
       "        vertical-align: top;\n",
       "    }\n",
       "\n",
       "    .dataframe thead th {\n",
       "        text-align: right;\n",
       "    }\n",
       "</style>\n",
       "<table border=\"1\" class=\"dataframe\">\n",
       "  <thead>\n",
       "    <tr style=\"text-align: right;\">\n",
       "      <th></th>\n",
       "      <th>ID</th>\n",
       "      <th>LIMIT_BAL</th>\n",
       "      <th>SEX</th>\n",
       "      <th>EDUCATION</th>\n",
       "      <th>MARRIAGE</th>\n",
       "      <th>AGE</th>\n",
       "      <th>PAY_0</th>\n",
       "      <th>PAY_2</th>\n",
       "      <th>PAY_3</th>\n",
       "      <th>PAY_4</th>\n",
       "      <th>...</th>\n",
       "      <th>BILL_AMT4</th>\n",
       "      <th>BILL_AMT5</th>\n",
       "      <th>BILL_AMT6</th>\n",
       "      <th>PAY_AMT1</th>\n",
       "      <th>PAY_AMT2</th>\n",
       "      <th>PAY_AMT3</th>\n",
       "      <th>PAY_AMT4</th>\n",
       "      <th>PAY_AMT5</th>\n",
       "      <th>PAY_AMT6</th>\n",
       "      <th>default</th>\n",
       "    </tr>\n",
       "  </thead>\n",
       "  <tbody>\n",
       "    <tr>\n",
       "      <th>0</th>\n",
       "      <td>1</td>\n",
       "      <td>20000</td>\n",
       "      <td>2</td>\n",
       "      <td>2</td>\n",
       "      <td>1</td>\n",
       "      <td>24</td>\n",
       "      <td>2</td>\n",
       "      <td>2</td>\n",
       "      <td>0</td>\n",
       "      <td>0</td>\n",
       "      <td>...</td>\n",
       "      <td>0</td>\n",
       "      <td>0</td>\n",
       "      <td>0</td>\n",
       "      <td>0</td>\n",
       "      <td>689</td>\n",
       "      <td>0</td>\n",
       "      <td>0</td>\n",
       "      <td>0</td>\n",
       "      <td>0</td>\n",
       "      <td>1</td>\n",
       "    </tr>\n",
       "    <tr>\n",
       "      <th>1</th>\n",
       "      <td>2</td>\n",
       "      <td>120000</td>\n",
       "      <td>2</td>\n",
       "      <td>2</td>\n",
       "      <td>2</td>\n",
       "      <td>26</td>\n",
       "      <td>0</td>\n",
       "      <td>2</td>\n",
       "      <td>0</td>\n",
       "      <td>0</td>\n",
       "      <td>...</td>\n",
       "      <td>3272</td>\n",
       "      <td>3455</td>\n",
       "      <td>3261</td>\n",
       "      <td>0</td>\n",
       "      <td>1000</td>\n",
       "      <td>1000</td>\n",
       "      <td>1000</td>\n",
       "      <td>0</td>\n",
       "      <td>2000</td>\n",
       "      <td>1</td>\n",
       "    </tr>\n",
       "    <tr>\n",
       "      <th>2</th>\n",
       "      <td>3</td>\n",
       "      <td>90000</td>\n",
       "      <td>2</td>\n",
       "      <td>2</td>\n",
       "      <td>2</td>\n",
       "      <td>34</td>\n",
       "      <td>0</td>\n",
       "      <td>0</td>\n",
       "      <td>0</td>\n",
       "      <td>0</td>\n",
       "      <td>...</td>\n",
       "      <td>14331</td>\n",
       "      <td>14948</td>\n",
       "      <td>15549</td>\n",
       "      <td>1518</td>\n",
       "      <td>1500</td>\n",
       "      <td>1000</td>\n",
       "      <td>1000</td>\n",
       "      <td>1000</td>\n",
       "      <td>5000</td>\n",
       "      <td>0</td>\n",
       "    </tr>\n",
       "    <tr>\n",
       "      <th>3</th>\n",
       "      <td>4</td>\n",
       "      <td>50000</td>\n",
       "      <td>2</td>\n",
       "      <td>2</td>\n",
       "      <td>1</td>\n",
       "      <td>37</td>\n",
       "      <td>0</td>\n",
       "      <td>0</td>\n",
       "      <td>0</td>\n",
       "      <td>0</td>\n",
       "      <td>...</td>\n",
       "      <td>28314</td>\n",
       "      <td>28959</td>\n",
       "      <td>29547</td>\n",
       "      <td>2000</td>\n",
       "      <td>2019</td>\n",
       "      <td>1200</td>\n",
       "      <td>1100</td>\n",
       "      <td>1069</td>\n",
       "      <td>1000</td>\n",
       "      <td>0</td>\n",
       "    </tr>\n",
       "    <tr>\n",
       "      <th>4</th>\n",
       "      <td>5</td>\n",
       "      <td>50000</td>\n",
       "      <td>1</td>\n",
       "      <td>2</td>\n",
       "      <td>1</td>\n",
       "      <td>57</td>\n",
       "      <td>0</td>\n",
       "      <td>0</td>\n",
       "      <td>0</td>\n",
       "      <td>0</td>\n",
       "      <td>...</td>\n",
       "      <td>20940</td>\n",
       "      <td>19146</td>\n",
       "      <td>19131</td>\n",
       "      <td>2000</td>\n",
       "      <td>36681</td>\n",
       "      <td>10000</td>\n",
       "      <td>9000</td>\n",
       "      <td>689</td>\n",
       "      <td>679</td>\n",
       "      <td>0</td>\n",
       "    </tr>\n",
       "  </tbody>\n",
       "</table>\n",
       "<p>5 rows × 25 columns</p>\n",
       "</div>"
      ],
      "text/plain": [
       "   ID  LIMIT_BAL  SEX  EDUCATION  MARRIAGE  AGE  PAY_0  PAY_2  PAY_3  PAY_4  \\\n",
       "0   1      20000    2          2         1   24      2      2      0      0   \n",
       "1   2     120000    2          2         2   26      0      2      0      0   \n",
       "2   3      90000    2          2         2   34      0      0      0      0   \n",
       "3   4      50000    2          2         1   37      0      0      0      0   \n",
       "4   5      50000    1          2         1   57      0      0      0      0   \n",
       "\n",
       "   ...  BILL_AMT4  BILL_AMT5  BILL_AMT6  PAY_AMT1  PAY_AMT2  PAY_AMT3  \\\n",
       "0  ...          0          0          0         0       689         0   \n",
       "1  ...       3272       3455       3261         0      1000      1000   \n",
       "2  ...      14331      14948      15549      1518      1500      1000   \n",
       "3  ...      28314      28959      29547      2000      2019      1200   \n",
       "4  ...      20940      19146      19131      2000     36681     10000   \n",
       "\n",
       "   PAY_AMT4  PAY_AMT5  PAY_AMT6  default  \n",
       "0         0         0         0        1  \n",
       "1      1000         0      2000        1  \n",
       "2      1000      1000      5000        0  \n",
       "3      1100      1069      1000        0  \n",
       "4      9000       689       679        0  \n",
       "\n",
       "[5 rows x 25 columns]"
      ]
     },
     "execution_count": 4,
     "metadata": {},
     "output_type": "execute_result"
    }
   ],
   "source": [
    "data = pd.read_csv('data\\credit_card_default_analysis.csv', header=0)\n",
    "data.head()"
   ]
  },
  {
   "cell_type": "code",
   "execution_count": 5,
   "id": "buried-afghanistan",
   "metadata": {},
   "outputs": [
    {
     "data": {
      "text/plain": [
       "True"
      ]
     },
     "execution_count": 5,
     "metadata": {},
     "output_type": "execute_result"
    }
   ],
   "source": [
    "data.shape == data.dropna().shape # пропусков в данных нет"
   ]
  },
  {
   "cell_type": "markdown",
   "id": "challenging-study",
   "metadata": {},
   "source": [
    "### Задание 1 Размер кредитного лимита (LIMIT_BAL)\n",
    "В двух группах, тех людей, кто вернул кредит (default = 0) и тех, кто его не вернул (default = 1) проверьте гипотезы:   \n",
    "a)  о равенстве медианных значений кредитного лимита с помощью подходящей интервальной оценки  \n",
    "b) о равенстве распределений с помощью одного из подходящих непараметрических критериев проверки равенства средних.  Значимы ли полученные результаты с практической точки зрения?"
   ]
  },
  {
   "cell_type": "markdown",
   "id": "large-basics",
   "metadata": {},
   "source": [
    "**1.** Выделим две группы вернувших (return_group) и не вернувших (default_group) людей для которых будем проверять гипотезы, построим распределения значений кредитного лимита для этих групп:"
   ]
  },
  {
   "cell_type": "code",
   "execution_count": 6,
   "id": "tracked-choir",
   "metadata": {},
   "outputs": [],
   "source": [
    "default_group = data[data.loc[:, 'default'] == 1]\n",
    "return_group = data[data.loc[:, 'default'] == 0]"
   ]
  },
  {
   "cell_type": "code",
   "execution_count": 7,
   "id": "rural-simple",
   "metadata": {
    "scrolled": false
   },
   "outputs": [
    {
     "data": {
      "text/plain": [
       "<AxesSubplot:title={'center':'LIMIT_BAL'}, xlabel='default'>"
      ]
     },
     "execution_count": 7,
     "metadata": {},
     "output_type": "execute_result"
    },
    {
     "data": {
      "image/png": "[encoded data removed]",
      "text/plain": [
       "<Figure size 864x576 with 1 Axes>"
      ]
     },
     "metadata": {
      "needs_background": "light"
     },
     "output_type": "display_data"
    },
    {
     "data": {
      "image/png": "[encoded data removed]",
      "text/plain": [
       "<Figure size 864x576 with 1 Axes>"
      ]
     },
     "metadata": {
      "needs_background": "light"
     },
     "output_type": "display_data"
    }
   ],
   "source": [
    "plt.figure(figsize=(12, 8))\n",
    "return_group['LIMIT_BAL'].plot(kind='hist',\n",
    "        label='return', \n",
    "        alpha=0.7,\n",
    "        bins=12,\n",
    "        rot=45,\n",
    "        grid=True,\n",
    "        fontsize=15, \n",
    "        color=['#A0E8AF'])\n",
    "default_group['LIMIT_BAL'].plot(kind='hist',\n",
    "        label='default', \n",
    "        alpha=0.7,\n",
    "        bins=12,\n",
    "        rot=45,\n",
    "        grid=True,\n",
    "        fontsize=15, \n",
    "        color=['#E8A0B5'])\n",
    "plt.title('Histogram of Credit Limit')\n",
    "plt.legend()\n",
    "plt.xlabel('LIMIT_BAL')\n",
    "plt.ylabel('Count')\n",
    "plt.legend(['return', 'default'])\n",
    "\n",
    "data.boxplot(column=\"LIMIT_BAL\", by=\"default\", figsize=(12, 8))"
   ]
  },
  {
   "cell_type": "markdown",
   "id": "twenty-graph",
   "metadata": {},
   "source": [
    "**Вывод:** По графику видно, что распределения схожи, но медианное значение кредитного лимита для людей, не вернувших кредит смещено в меньшую сторону."
   ]
  },
  {
   "cell_type": "markdown",
   "id": "julian-number",
   "metadata": {},
   "source": [
    "**2.** Проверим гипотезу о равенстве медианных значений кредитного лимита методом bootstrap:\n",
    "\n",
    "$H_0\\colon$ медианы кредитного лимита для вернувших и не вернувших кредит совпадает\n",
    "\n",
    "$H_1\\colon$ медианы кредитного лимита отличаются"
   ]
  },
  {
   "cell_type": "code",
   "execution_count": 8,
   "id": "subject-testing",
   "metadata": {},
   "outputs": [],
   "source": [
    "def get_bootstrap_samples(data, n_samples):\n",
    "    indices = np.random.randint(0, len(data), (n_samples, len(data)))\n",
    "    samples = data[indices]\n",
    "    return samples\n",
    "\n",
    "def stat_intervals(stat, alpha):\n",
    "    boundaries = np.percentile(stat, [100 * alpha / 2., 100 * (1 - alpha / 2.)])\n",
    "    return boundaries"
   ]
  },
  {
   "cell_type": "code",
   "execution_count": 9,
   "id": "composed-demographic",
   "metadata": {},
   "outputs": [
    {
     "name": "stdout",
     "output_type": "stream",
     "text": [
      "95% Доверительный интервал медианного значения кредитного лимита для выплтивших кредит: [150000. 150000.]\n",
      "95% Доверительный интервал медианного значения кредитного лимита для не выплтивших кредит: [80000. 90000.]\n",
      "95% Доверительный интервал для разностей медианного значения кредитного лимита: [60000. 70000.]\n"
     ]
    }
   ],
   "source": [
    "np.random.seed(0)\n",
    "\n",
    "default_median_scores = np.array(list(map(np.median, get_bootstrap_samples(default_group['LIMIT_BAL'].values, 1000))))\n",
    "return_median_scores = np.array(list(map(np.median, get_bootstrap_samples(return_group['LIMIT_BAL'].values, 1000))))\n",
    "\n",
    "print(\"95% Доверительный интервал медианного значения кредитного лимита для выплтивших кредит:\",  stat_intervals(return_median_scores, 0.05))\n",
    "print(\"95% Доверительный интервал медианного значения кредитного лимита для не выплтивших кредит:\",  stat_intervals(default_median_scores, 0.05))\n",
    "print(\"95% Доверительный интервал для разностей медианного значения кредитного лимита:\",  stat_intervals(return_median_scores - default_median_scores, 0.05))"
   ]
  },
  {
   "cell_type": "markdown",
   "id": "physical-ecology",
   "metadata": {},
   "source": [
    "**Вывод:** Доверительный интервал для разностей медианного значения кредитного лимита для двух групп далеко отстоит от нуля, можно с уверенностью говорить, что кредитный лимит для людей, выплативших кредит выше."
   ]
  },
  {
   "cell_type": "markdown",
   "id": "reduced-singer",
   "metadata": {},
   "source": [
    "**3.** Проверим гипотезу о равенстве распределений кредитного лимита для людей, вернувших и не вернувших кредит. \n",
    "\n",
    "Очевидно, что выборки независимы, для проверки гипотезы о равенстве распределений из изученных критериев для этой задачи нам подходят критерий Уилкоксона — Манна — Уитни и двухвыборочный перестановочный критерий для независимых выборок. С учётом ограничений применимости критерия Уилкоксона — Манна — Уитни, а именно: \n",
    "1. *В каждой из выборок должно быть не менее 3 значений признака. Допускается, чтобы в одной выборке было два значения, но во второй тогда не менее пяти.* В данном случае различных значений признака больше 3х, это ограничение не актуально.\n",
    "1. *В выборочных данных не должно быть совпадающих значений (все числа — разные) или таких совпадений должно быть очень мало (до 10).* В выборках много совпадающих значений, по этой причине применение этого критерия не целесообразно."
   ]
  },
  {
   "cell_type": "markdown",
   "id": "civil-australian",
   "metadata": {},
   "source": [
    "Проверим следующие гипотезу:\n",
    "\n",
    "$H_0\\colon F_{X_1}(x) = F_{X_2}(x)$ распределения кредитного лимита для вернувших и не вернувших кредит совпадают  \n",
    "против  \n",
    "$H_1\\colon F_{X_1}(x) = F_{X_2}(x + \\Delta), \\Delta\\neq 0$ распределения кредитного лимита для вернувших и невернувших кредит не совпадают\n",
    "\n",
    "С помощью перестановочного критерия для независимых выборок:"
   ]
  },
  {
   "cell_type": "code",
   "execution_count": 10,
   "id": "simple-leave",
   "metadata": {},
   "outputs": [],
   "source": [
    "def permutation_t_stat_ind(sample1, sample2):\n",
    "    return np.mean(sample1) - np.mean(sample2)\n",
    "def get_random_combinations(n1, n2, max_combinations):\n",
    "    index = list(range(n1 + n2))\n",
    "    indices = set([tuple(index)])\n",
    "    for i in range(max_combinations - 1):\n",
    "        np.random.shuffle(index)\n",
    "        indices.add(tuple(index))\n",
    "    return [(index[:n1], index[n1:]) for index in indices]\n",
    "def permutation_zero_dist_ind(sample1, sample2, max_combinations = None):\n",
    "    joined_sample = np.hstack((sample1, sample2))\n",
    "    n1 = len(sample1)\n",
    "    n = len(joined_sample)\n",
    "    \n",
    "    if max_combinations:\n",
    "        indices = get_random_combinations(n1, len(sample2), max_combinations)\n",
    "    else:\n",
    "        indices = [(list(index), filter(lambda i: i not in index, range(n))) \\\n",
    "                    for index in itertools.combinations(range(n), n1)]\n",
    "    \n",
    "    distr = [joined_sample[list(i[0])].mean() - joined_sample[list(i[1])].mean() \\\n",
    "             for i in indices]\n",
    "    return distr\n",
    "def permutation_test(sample, mean, max_permutations = None, alternative = 'two-sided'):\n",
    "    if alternative not in ('two-sided', 'less', 'greater'):\n",
    "        raise ValueError(\"alternative not recognized\\n\"\n",
    "                         \"should be 'two-sided', 'less' or 'greater'\")\n",
    "    \n",
    "    t_stat = permutation_t_stat_ind(sample, mean)\n",
    "    \n",
    "    zero_distr = permutation_zero_dist_ind(sample, mean, max_permutations)\n",
    "    \n",
    "    if alternative == 'two-sided':\n",
    "        return sum([1. if abs(x) >= abs(t_stat) else 0. for x in zero_distr]) / len(zero_distr)\n",
    "    \n",
    "    if alternative == 'less':\n",
    "        return sum([1. if x <= t_stat else 0. for x in zero_distr]) / len(zero_distr)\n",
    "\n",
    "    if alternative == 'greater':\n",
    "        return sum([1. if x >= t_stat else 0. for x in zero_distr]) / len(zero_distr)"
   ]
  },
  {
   "cell_type": "code",
   "execution_count": 11,
   "id": "opened-intake",
   "metadata": {},
   "outputs": [
    {
     "name": "stdout",
     "output_type": "stream",
     "text": [
      "p-value: 0.0001\n"
     ]
    }
   ],
   "source": [
    "p_value_credit = permutation_test(default_group['LIMIT_BAL'], return_group['LIMIT_BAL'], max_permutations=10000)\n",
    "print(f'p-value: {round(p_value_credit, 4)}')"
   ]
  },
  {
   "cell_type": "markdown",
   "id": "boolean-replacement",
   "metadata": {},
   "source": [
    "**Вывод:** Уровень значимости значительно меньше 0.05, нулевая гипотеза о равенстве средних отвергается в пользу альтернативы это доказывает, что банк предоставляет большие кредитные лимиты для людей, вернувших кредит.  "
   ]
  },
  {
   "cell_type": "markdown",
   "id": "tired-inspection",
   "metadata": {},
   "source": [
    "### Задание 2 Пол (SEX)\n",
    "Проверьте гипотезу о том,  что гендерный состав  группы людей, вернувших и не вернувших кредит отличается.  Хорошо, если вы предоставите несколько различных решений  этой задачи (с помощью доверительного интервала и подходящего статистического критерия)"
   ]
  },
  {
   "cell_type": "markdown",
   "id": "patent-point",
   "metadata": {},
   "source": [
    "**1.** Посмотрим на гендерный состав в группах, выплативших и не выплативших кредит:"
   ]
  },
  {
   "cell_type": "code",
   "execution_count": 12,
   "id": "second-semester",
   "metadata": {
    "scrolled": false
   },
   "outputs": [
    {
     "data": {
      "text/plain": [
       "<matplotlib.legend.Legend at 0x215f19ce1c0>"
      ]
     },
     "execution_count": 12,
     "metadata": {},
     "output_type": "execute_result"
    },
    {
     "data": {
      "image/png": "[encoded data removed]",
      "text/plain": [
       "<Figure size 864x576 with 1 Axes>"
      ]
     },
     "metadata": {
      "needs_background": "light"
     },
     "output_type": "display_data"
    }
   ],
   "source": [
    "data.groupby(['default','SEX', ]).size().unstack().plot(\n",
    "    kind='bar', \n",
    "    alpha=0.7,\n",
    "    rot=45,\n",
    "    grid=True,\n",
    "    fontsize=15,\n",
    "    figsize=(12, 8),\n",
    "    color=['#00429d', '#cf3759'])\n",
    "plt.legend(['Man', 'Woman'])"
   ]
  },
  {
   "cell_type": "markdown",
   "id": "iraqi-planning",
   "metadata": {},
   "source": [
    "**Вывод:** По графику видно, что число женщин в обоих группах превосходит мужчин, но соотношение мужчин и женщин в двух группах несколько отличается, эту гипотезу необходимо проверить."
   ]
  },
  {
   "cell_type": "markdown",
   "id": "sublime-planning",
   "metadata": {},
   "source": [
    "**2.** Для начала посмотрим на доверительные интервалы для доли мужчин ($SEX=1$) в двух группах:"
   ]
  },
  {
   "cell_type": "code",
   "execution_count": 13,
   "id": "hidden-testing",
   "metadata": {},
   "outputs": [],
   "source": [
    "conf_interval_default_m = proportion_confint(sum(default_group.loc[:, 'SEX'] == 1), \n",
    "                                            default_group.shape[0],\n",
    "                                            method = 'wilson')\n",
    "conf_interval_default_w = proportion_confint(sum(return_group.loc[:, 'SEX'] == 1), \n",
    "                                            return_group.shape[0],\n",
    "                                            method = 'wilson')"
   ]
  },
  {
   "cell_type": "code",
   "execution_count": 14,
   "id": "desirable-movie",
   "metadata": {
    "scrolled": true
   },
   "outputs": [
    {
     "name": "stdout",
     "output_type": "stream",
     "text": [
      "95% Доверительный интервал мужчин в группе не вернувших кредит: [0.4211 0.4449]\n",
      "95% Доверительный интервал мужчин в группе вернувших кредит: [0.3796 0.3921]\n"
     ]
    }
   ],
   "source": [
    "print(\"95% Доверительный интервал мужчин в группе не вернувших кредит:\",  \n",
    "      np.round(conf_interval_default_m, 4))\n",
    "print(\"95% Доверительный интервал мужчин в группе вернувших кредит:\",  \n",
    "      np.round(conf_interval_default_w, 4))"
   ]
  },
  {
   "cell_type": "markdown",
   "id": "superior-canon",
   "metadata": {},
   "source": [
    "**Вывод:** Интервалы положительные и не пересекаются, уже можно заключить, гендерный состав для двух групп не одинаков."
   ]
  },
  {
   "cell_type": "markdown",
   "id": "dynamic-potter",
   "metadata": {},
   "source": [
    "**3.** Посмотрим на доверительный интервал для разности долей мужчин группах вернувших и не вернувших кредит:"
   ]
  },
  {
   "cell_type": "code",
   "execution_count": 15,
   "id": "confident-deputy",
   "metadata": {},
   "outputs": [],
   "source": [
    "def proportions_diff_confint_ind(sample1, sample2, alpha = 0.05):    \n",
    "    z = scipy.stats.norm.ppf(1 - alpha / 2.)\n",
    "    \n",
    "    p1 = np.sum(sample1 == 1)/len(sample1)\n",
    "    p2 = np.sum(sample2 == 1)/len(sample2)\n",
    "    \n",
    "    left_boundary = (p1 - p2) - z * np.sqrt(p1 * (1 - p1)/ len(sample1) + p2 * (1 - p2)/ len(sample2))\n",
    "    right_boundary = (p1 - p2) + z * np.sqrt(p1 * (1 - p1)/ len(sample1) + p2 * (1 - p2)/ len(sample2))\n",
    "    \n",
    "    return (left_boundary, right_boundary)"
   ]
  },
  {
   "cell_type": "code",
   "execution_count": 16,
   "id": "worldwide-grill",
   "metadata": {
    "scrolled": true
   },
   "outputs": [
    {
     "name": "stdout",
     "output_type": "stream",
     "text": [
      "95% Доверительный интервал для разности долей мужчин в группах вернувших и не вернувших кредит: [0.0336 0.0605]\n"
     ]
    }
   ],
   "source": [
    "print(\"95% Доверительный интервал для разности долей мужчин в группах вернувших и не вернувших кредит:\",  \n",
    "      np.round(\n",
    "          proportions_diff_confint_ind(\n",
    "              default_group['SEX'],\n",
    "              return_group['SEX']),\n",
    "          4))"
   ]
  },
  {
   "cell_type": "markdown",
   "id": "eligible-legislation",
   "metadata": {},
   "source": [
    "**Вывод:** Интервал не содержит нуля и положительный, что подтверждает нашу гипотезу о различном гендерном составе двух групп."
   ]
  },
  {
   "cell_type": "markdown",
   "id": "regular-oregon",
   "metadata": {},
   "source": [
    "**4.** Посчитаем достигаемый уровень значимости и проверим гипотезу:\n",
    "\n",
    "$H_0\\colon$ гендерный состав одинаков для двух групп  \n",
    "против альтернативы  \n",
    "$H_1\\colon$ гендерный состав различается"
   ]
  },
  {
   "cell_type": "code",
   "execution_count": 17,
   "id": "legislative-centre",
   "metadata": {},
   "outputs": [],
   "source": [
    "def proportions_diff_z_stat_ind(sample1, sample2):\n",
    "    n1 = len(sample1)\n",
    "    n2 = len(sample2)\n",
    "    \n",
    "    p1 = np.sum(sample1) / n1\n",
    "    p2 = np.sum(sample2) / n2 \n",
    "    P = float(p1*n1 + p2*n2) / (n1 + n2)\n",
    "    \n",
    "    return (p1 - p2) / np.sqrt(P * (1 - P) * (1. / n1 + 1. / n2))\n",
    "\n",
    "def proportions_diff_z_test(sample1, sample2, alternative = 'two-sided'):\n",
    "    z_stat = proportions_diff_z_stat_ind(sample1, sample2)\n",
    "    if alternative not in ('two-sided', 'less', 'greater'):\n",
    "        raise ValueError(\"alternative not recognized\\n\"\n",
    "                         \"should be 'two-sided', 'less' or 'greater'\")\n",
    "    \n",
    "    if alternative == 'two-sided':\n",
    "        return 2 * (1 - scipy.stats.norm.cdf(np.abs(z_stat)))\n",
    "    \n",
    "    if alternative == 'less':\n",
    "        return scipy.stats.norm.cdf(z_stat)\n",
    "\n",
    "    if alternative == 'greater':\n",
    "        return 1 - scipy.stats.norm.cdf(z_stat)"
   ]
  },
  {
   "cell_type": "code",
   "execution_count": 18,
   "id": "average-forge",
   "metadata": {},
   "outputs": [
    {
     "name": "stdout",
     "output_type": "stream",
     "text": [
      "Достигаемый уровень значимости: 4.472866521609831e-12\n"
     ]
    }
   ],
   "source": [
    "print(\"Достигаемый уровень значимости:\",  \n",
    "      proportions_diff_z_test(\n",
    "          default_group['SEX'] == 1,\n",
    "          return_group['SEX'] == 1)\n",
    "          )"
   ]
  },
  {
   "cell_type": "markdown",
   "id": "chief-validity",
   "metadata": {},
   "source": [
    "**Вывод:** Достигаемый уровень значимости ≪ 0.05 гипотеза о равенстве гендерного состава отвергается."
   ]
  },
  {
   "cell_type": "markdown",
   "id": "tested-excellence",
   "metadata": {},
   "source": [
    "### Задание 3 Образование (EDUCATION)\n",
    "Проверьте гипотезу о том, что образование не влияет на то, вернет ли человек долг.  Предложите способ наглядного представления разницы в ожидаемых и наблюдаемых значениях количества человек, вернувших и не вернувших долг.\n",
    "\n",
    "Например, составьте таблицу сопряженности \"образование\" на \"возврат долга\", где значением ячейки была бы  разность между наблюдаемым и ожидаемым количеством человек.  \n",
    "\n",
    "Как бы вы предложили модифицировать таблицу так, чтобы привести значения ячеек к одному масштабу, не потеряв в интерпретируемости?\n",
    "\n",
    "Наличие какого образования является наилучшим индикатором того, что человек  отдаст долг? наоборт, не отдаст долг ?"
   ]
  },
  {
   "cell_type": "markdown",
   "id": "bottom-drilling",
   "metadata": {},
   "source": [
    "**1.** Первым делом посмотрим как распределены люди вернувшие и не вернувшие кредит в зависимости от их образования и так как количество людей в разных группах сильно отличается нормируем их к общему число людей с соответствующим образованием:"
   ]
  },
  {
   "cell_type": "code",
   "execution_count": 19,
   "id": "ranking-solomon",
   "metadata": {},
   "outputs": [
    {
     "data": {
      "text/html": [
       "<div>\n",
       "<style scoped>\n",
       "    .dataframe tbody tr th:only-of-type {\n",
       "        vertical-align: middle;\n",
       "    }\n",
       "\n",
       "    .dataframe tbody tr th {\n",
       "        vertical-align: top;\n",
       "    }\n",
       "\n",
       "    .dataframe thead th {\n",
       "        text-align: right;\n",
       "    }\n",
       "</style>\n",
       "<table border=\"1\" class=\"dataframe\">\n",
       "  <thead>\n",
       "    <tr style=\"text-align: right;\">\n",
       "      <th>default</th>\n",
       "      <th>0</th>\n",
       "      <th>1</th>\n",
       "    </tr>\n",
       "    <tr>\n",
       "      <th>EDUCATION</th>\n",
       "      <th></th>\n",
       "      <th></th>\n",
       "    </tr>\n",
       "  </thead>\n",
       "  <tbody>\n",
       "    <tr>\n",
       "      <th>0</th>\n",
       "      <td>14.0</td>\n",
       "      <td>0.0</td>\n",
       "    </tr>\n",
       "    <tr>\n",
       "      <th>1</th>\n",
       "      <td>8549.0</td>\n",
       "      <td>2036.0</td>\n",
       "    </tr>\n",
       "    <tr>\n",
       "      <th>2</th>\n",
       "      <td>10700.0</td>\n",
       "      <td>3330.0</td>\n",
       "    </tr>\n",
       "    <tr>\n",
       "      <th>3</th>\n",
       "      <td>3680.0</td>\n",
       "      <td>1237.0</td>\n",
       "    </tr>\n",
       "    <tr>\n",
       "      <th>4</th>\n",
       "      <td>116.0</td>\n",
       "      <td>7.0</td>\n",
       "    </tr>\n",
       "    <tr>\n",
       "      <th>5</th>\n",
       "      <td>262.0</td>\n",
       "      <td>18.0</td>\n",
       "    </tr>\n",
       "    <tr>\n",
       "      <th>6</th>\n",
       "      <td>43.0</td>\n",
       "      <td>8.0</td>\n",
       "    </tr>\n",
       "  </tbody>\n",
       "</table>\n",
       "</div>"
      ],
      "text/plain": [
       "default          0       1\n",
       "EDUCATION                 \n",
       "0             14.0     0.0\n",
       "1           8549.0  2036.0\n",
       "2          10700.0  3330.0\n",
       "3           3680.0  1237.0\n",
       "4            116.0     7.0\n",
       "5            262.0    18.0\n",
       "6             43.0     8.0"
      ]
     },
     "execution_count": 19,
     "metadata": {},
     "output_type": "execute_result"
    }
   ],
   "source": [
    "education_default_table = data.groupby(\n",
    "    ['EDUCATION', 'default']).count().unstack()['ID'].fillna(0)\n",
    "education_default_table"
   ]
  },
  {
   "cell_type": "code",
   "execution_count": 20,
   "id": "closed-blood",
   "metadata": {},
   "outputs": [
    {
     "data": {
      "image/png": "[encoded data removed]",
      "text/plain": [
       "<Figure size 864x576 with 1 Axes>"
      ]
     },
     "metadata": {
      "needs_background": "light"
     },
     "output_type": "display_data"
    }
   ],
   "source": [
    "ax = education_default_table.apply(lambda x: x/sum(x), axis=1).plot(\n",
    "    kind='bar',\n",
    "    alpha=0.7,\n",
    "    rot=45,\n",
    "    grid=True,\n",
    "    fontsize=15,\n",
    "    figsize=(12, 8),\n",
    "    color=['#A0E8AF','#E8A0B5'])\n",
    "ax.legend(['return', 'default'])\n",
    "ax.set_xticklabels(['doctor','master','bachelor','scholar','basic','other','n/a']);"
   ]
  },
  {
   "cell_type": "markdown",
   "id": "fitted-ridge",
   "metadata": {},
   "source": [
    "**2.** Так как данные категориальные, для того чтобы понять, есть ли между ними взаимосвязь для полученной таблице сопряжённости (education_default_table) можно посчитать коэффициент V-Крамера и найти значение критерия $\\chi^2$. Тем самым проверить гипотезу:\n",
    "\n",
    "$H_0\\colon$ образование не влияет на то, вернет ли человек долг  \n",
    "против альтернативы  \n",
    "$H_1\\colon$ образование влияет на то, вернет ли человек долг  \n",
    "\n",
    "Однако, сначала необходимо проверить выполняются ли условия применения критерия $\\chi^2$ для полученной таблицы сопряженности, a именно:  \n",
    "1. Выборки должны быть достаточно большими: n ≥ 40;\n",
    "1. Ожидаемое количество элементов в каждой ячейке таблицы было меньше 5, не более, чем в 20% ячеек"
   ]
  },
  {
   "cell_type": "code",
   "execution_count": 21,
   "id": "quick-network",
   "metadata": {
    "scrolled": true
   },
   "outputs": [
    {
     "name": "stdout",
     "output_type": "stream",
     "text": [
      "Общее количество элементов: 30000.0 > 40\n",
      "% ячейек таблицы с количеством элементов меньше 5: 7.142857142857143% < 20 \n"
     ]
    }
   ],
   "source": [
    "print(f'Общее количество элементов: {np.sum(education_default_table.values)} > 40')\n",
    "count_cell_less_5_per = lambda x: np.sum(x < 5) * 100 / x.size\n",
    "print(f'% ячейек таблицы с количеством элементов меньше 5: {count_cell_less_5_per(education_default_table.values)}% < 20 ')"
   ]
  },
  {
   "cell_type": "code",
   "execution_count": 22,
   "id": "gorgeous-continent",
   "metadata": {},
   "outputs": [
    {
     "name": "stdout",
     "output_type": "stream",
     "text": [
      "Коэффициент V-Крамера:  0.07376009713252163\n",
      "Значение хи-квадрат:  1.2332626245415605e-32\n"
     ]
    }
   ],
   "source": [
    "def v_Cramer_correlation(table):\n",
    "    chi_stat = stats.chi2_contingency(table)[0]\n",
    "    k_min = np.min(table.shape)\n",
    "    n = np.sum(table)\n",
    "    return np.sqrt(chi_stat/(n*(k_min-1)))\n",
    "\n",
    "print('Коэффициент V-Крамера: ',\n",
    "      v_Cramer_correlation(education_default_table.values))\n",
    "print('Значение хи-квадрат: ',\n",
    "      stats.chi2_contingency(education_default_table.values)[1])"
   ]
  },
  {
   "cell_type": "markdown",
   "id": "monthly-iraqi",
   "metadata": {},
   "source": [
    "**Вывод:** Коэффициент V-Крамера отличен от нуля, критерий $\\chi^2$ подтверждает, что это отличие статистически значимо. Небольшое значение говорит о том, что влияние образования на возврат или не возрат кредита есть, но оно слабое. По графику видно, что наличие докторской степени является индикатором того, что человек отдаст кредит, а самый большой процент невозврата наблюдается у людей со средним образованием.    "
   ]
  },
  {
   "cell_type": "markdown",
   "id": "entertaining-destruction",
   "metadata": {},
   "source": [
    "### Задание 4 Семейное положение (MARRIAGE)\n",
    "Проверьте, как связан семейный статус с индикатором дефолта: нужно предложить меру, по которой можно измерить возможную связь этих переменных и посчитать ее значение."
   ]
  },
  {
   "cell_type": "markdown",
   "id": "appropriate-morning",
   "metadata": {},
   "source": [
    "**1.** По аналогии с предыдущим заданием посмотрим как распределены люди вернувшие и не вернувшие кредит в зависимости от их семейного положения и так как количество людей в разных группах сильно отличается нормируем их к общему число людей с соответствующим образованием:"
   ]
  },
  {
   "cell_type": "code",
   "execution_count": 23,
   "id": "disciplinary-artist",
   "metadata": {
    "scrolled": true
   },
   "outputs": [
    {
     "data": {
      "text/html": [
       "<div>\n",
       "<style scoped>\n",
       "    .dataframe tbody tr th:only-of-type {\n",
       "        vertical-align: middle;\n",
       "    }\n",
       "\n",
       "    .dataframe tbody tr th {\n",
       "        vertical-align: top;\n",
       "    }\n",
       "\n",
       "    .dataframe thead th {\n",
       "        text-align: right;\n",
       "    }\n",
       "</style>\n",
       "<table border=\"1\" class=\"dataframe\">\n",
       "  <thead>\n",
       "    <tr style=\"text-align: right;\">\n",
       "      <th>default</th>\n",
       "      <th>0</th>\n",
       "      <th>1</th>\n",
       "    </tr>\n",
       "    <tr>\n",
       "      <th>MARRIAGE</th>\n",
       "      <th></th>\n",
       "      <th></th>\n",
       "    </tr>\n",
       "  </thead>\n",
       "  <tbody>\n",
       "    <tr>\n",
       "      <th>0</th>\n",
       "      <td>49</td>\n",
       "      <td>5</td>\n",
       "    </tr>\n",
       "    <tr>\n",
       "      <th>1</th>\n",
       "      <td>10453</td>\n",
       "      <td>3206</td>\n",
       "    </tr>\n",
       "    <tr>\n",
       "      <th>2</th>\n",
       "      <td>12623</td>\n",
       "      <td>3341</td>\n",
       "    </tr>\n",
       "    <tr>\n",
       "      <th>3</th>\n",
       "      <td>239</td>\n",
       "      <td>84</td>\n",
       "    </tr>\n",
       "  </tbody>\n",
       "</table>\n",
       "</div>"
      ],
      "text/plain": [
       "default       0     1\n",
       "MARRIAGE             \n",
       "0            49     5\n",
       "1         10453  3206\n",
       "2         12623  3341\n",
       "3           239    84"
      ]
     },
     "execution_count": 23,
     "metadata": {},
     "output_type": "execute_result"
    }
   ],
   "source": [
    "marriage_default_table = data.groupby(\n",
    "    ['MARRIAGE', 'default']).count().unstack()['ID'].fillna(0)\n",
    "marriage_default_table"
   ]
  },
  {
   "cell_type": "code",
   "execution_count": 24,
   "id": "searching-beauty",
   "metadata": {},
   "outputs": [
    {
     "data": {
      "image/png": "[encoded data removed]",
      "text/plain": [
       "<Figure size 864x576 with 1 Axes>"
      ]
     },
     "metadata": {
      "needs_background": "light"
     },
     "output_type": "display_data"
    }
   ],
   "source": [
    "ax = marriage_default_table.apply(lambda x: x/sum(x), axis=1).plot(\n",
    "    kind='bar',\n",
    "    alpha=0.7,\n",
    "    rot=45,\n",
    "    grid=True,\n",
    "    fontsize=15,\n",
    "    figsize=(12, 8),\n",
    "    color=['#A0E8AF','#E8A0B5'])\n",
    "ax.legend(['return', 'default'])\n",
    "ax.set_xticklabels(['refused to answer','married','single','Nan']);"
   ]
  },
  {
   "cell_type": "markdown",
   "id": "satisfied-elements",
   "metadata": {},
   "source": [
    "**2.** Так как данные категориальные, для того чтобы понять, есть ли между ними взаимосвязь для полученной таблице сопряжённости (marriage_default_table) можно посчитать коэффициент V-Крамера и найти значение критерия $\\chi^2$. Тем самым проверить гипотезу:\n",
    "\n",
    "$H_0\\colon$ семейное положение не влияет на то, вернет ли человек долг  \n",
    "против альтернативы  \n",
    "$H_1\\colon$ семейное положение влияет на то, вернет ли человек долг  \n",
    "\n",
    "Однако, сначала необходимо проверить выполняются ли условия применения критерия $\\chi^2$ для полученной таблицы сопряженности, a именно:  \n",
    "1. Выборки должны быть достаточно большими: n ≥ 40;\n",
    "1. Ожидаемое количество элементов в каждой ячейке таблицы было меньше 5, не более, чем в 20% ячеек"
   ]
  },
  {
   "cell_type": "code",
   "execution_count": 25,
   "id": "right-activation",
   "metadata": {
    "scrolled": true
   },
   "outputs": [
    {
     "name": "stdout",
     "output_type": "stream",
     "text": [
      "Общее количество элементов: 30000 > 40\n",
      "% ячейек таблицы с количеством элементов меньше 5: 0.0% < 20 \n"
     ]
    }
   ],
   "source": [
    "print(f'Общее количество элементов: {np.sum(marriage_default_table.values)} > 40')\n",
    "count_cell_less_5_per = lambda x: np.sum(x < 5) * 100 / x.size\n",
    "print(f'% ячейек таблицы с количеством элементов меньше 5: {count_cell_less_5_per(marriage_default_table.values)}% < 20 ')"
   ]
  },
  {
   "cell_type": "code",
   "execution_count": 26,
   "id": "answering-canada",
   "metadata": {
    "scrolled": true
   },
   "outputs": [
    {
     "name": "stdout",
     "output_type": "stream",
     "text": [
      "Коэффициент V-Крамера:  0.034478203662766466\n",
      "Значение хи-квадрат:  8.825862457577375e-08\n"
     ]
    }
   ],
   "source": [
    "def v_Cramer_correlation(table):\n",
    "    chi_stat = stats.chi2_contingency(table)[0]\n",
    "    k_min = np.min(table.shape)\n",
    "    n = np.sum(table)\n",
    "    return np.sqrt(chi_stat/(n*(k_min-1)))\n",
    "\n",
    "print('Коэффициент V-Крамера: ',\n",
    "      v_Cramer_correlation(marriage_default_table.values))\n",
    "print('Значение хи-квадрат: ',\n",
    "      stats.chi2_contingency(marriage_default_table.values)[1])"
   ]
  },
  {
   "cell_type": "markdown",
   "id": "synthetic-broad",
   "metadata": {},
   "source": [
    "**Вывод:** Коэффициент V-Крамера отличен от нуля, критерий $\\chi^2$ подтверждает, что это отличие статистически значимо. Небольшое значение говорит о том, что семейного положения на возврат или не возврат кредита есть, но оно крайне слабое."
   ]
  },
  {
   "cell_type": "markdown",
   "id": "civic-heather",
   "metadata": {},
   "source": [
    "### Задание 5 Возраст (AGE)\n",
    "Относительно двух групп людей  вернувших и не вернувших, кредит проверьте следующие гипотезы:\n",
    "\n",
    "a) о равенстве медианных значений возрастов людей\n",
    "\n",
    "b) о равенстве распределений  с помощью одного из подходящих непараметрических критериев проверки равенства средних.  Значимы ли полученные результаты с практической точки зрения ?"
   ]
  },
  {
   "cell_type": "code",
   "execution_count": 27,
   "id": "integrated-clarity",
   "metadata": {
    "scrolled": false
   },
   "outputs": [
    {
     "data": {
      "text/plain": [
       "<AxesSubplot:title={'center':'AGE'}, xlabel='default'>"
      ]
     },
     "execution_count": 27,
     "metadata": {},
     "output_type": "execute_result"
    },
    {
     "data": {
      "image/png": "[encoded data removed]",
      "text/plain": [
       "<Figure size 864x576 with 1 Axes>"
      ]
     },
     "metadata": {
      "needs_background": "light"
     },
     "output_type": "display_data"
    },
    {
     "data": {
      "image/png": "[encoded data removed]",
      "text/plain": [
       "<Figure size 864x576 with 1 Axes>"
      ]
     },
     "metadata": {
      "needs_background": "light"
     },
     "output_type": "display_data"
    }
   ],
   "source": [
    "plt.figure(figsize=(12, 8))\n",
    "return_group['AGE'].plot(kind='hist',\n",
    "        label='return', \n",
    "        alpha=0.7,\n",
    "        bins=12,\n",
    "        rot=45,\n",
    "        grid=True,\n",
    "        fontsize=15, \n",
    "        color=['#A0E8AF'])\n",
    "default_group['AGE'].plot(kind='hist',\n",
    "        label='default', \n",
    "        alpha=0.7,\n",
    "        bins=12,\n",
    "        rot=45,\n",
    "        grid=True,\n",
    "        fontsize=15, \n",
    "        color=['#E8A0B5'])\n",
    "plt.title('Histogram of Age')\n",
    "plt.legend()\n",
    "plt.xlabel('Age')\n",
    "plt.ylabel('Count')\n",
    "plt.legend(['return', 'default'])\n",
    "\n",
    "\n",
    "data.boxplot(column=\"AGE\", by=\"default\", figsize=(12, 8))"
   ]
  },
  {
   "cell_type": "markdown",
   "id": "operational-booth",
   "metadata": {},
   "source": [
    "**Вывод:** По графику видно, что распределения схожи и медианные значения возраста в двух группах практически одинаково."
   ]
  },
  {
   "cell_type": "markdown",
   "id": "thermal-corpus",
   "metadata": {},
   "source": [
    "**2.** Проверим гипотезу о равенстве медианных значений возраста методом bootstrap:\n",
    "\n",
    "$H_0\\colon$ медианы возраста для вернувших и не вернувших кредит совпадает\n",
    "\n",
    "$H_1\\colon$ медианы возраста отличаются"
   ]
  },
  {
   "cell_type": "code",
   "execution_count": 28,
   "id": "intensive-racing",
   "metadata": {},
   "outputs": [
    {
     "name": "stdout",
     "output_type": "stream",
     "text": [
      "95% Доверительный интервал медианного значения возраста для выплативших  кредит: [34. 34.]\n",
      "95% Доверительный интервал медианного значения возраста для не выплативших  кредит: [34. 35.]\n",
      "95% Доверительный интервал для разностей медианного значения возраста: [-1.  0.]\n"
     ]
    }
   ],
   "source": [
    "np.random.seed(0)\n",
    "\n",
    "default_median_age_scores = np.array(list(map(np.median, get_bootstrap_samples(default_group['AGE'].values, 1000))))\n",
    "return_median_age_scores = np.array(list(map(np.median, get_bootstrap_samples(return_group['AGE'].values, 1000))))\n",
    "\n",
    "print(\"95% Доверительный интервал медианного значения возраста для выплативших  кредит:\",  stat_intervals(return_median_age_scores, 0.05))\n",
    "print(\"95% Доверительный интервал медианного значения возраста для не выплативших  кредит:\",  stat_intervals(default_median_age_scores, 0.05))\n",
    "print(\"95% Доверительный интервал для разностей медианного значения возраста:\",  stat_intervals(return_median_age_scores - default_median_age_scores, 0.05))"
   ]
  },
  {
   "cell_type": "markdown",
   "id": "first-karen",
   "metadata": {},
   "source": [
    "**Вывод:** Доверительный интервал для разностей медианного возраста содержит ноль, гипотеза о том, что медианы возраста для вернувших и не вернувших кредит совпадает не отвергается."
   ]
  },
  {
   "cell_type": "markdown",
   "id": "eleven-buffer",
   "metadata": {},
   "source": [
    "**3.** Проверим следующие гипотезы :\n",
    "\n",
    "$H_0\\colon F_{X_1}(x) = F_{X_2}(x)$ распределения возраста для вернувших и не вернувших кредит совпадает\n",
    "\n",
    "$H_1\\colon F_{X_1}(x) = F_{X_2}(x + \\Delta), \\Delta\\neq 0$ распределения возраста для вернувших и не вернувших кредит не совпадает\n",
    "\n",
    "С помощью перестановочного критерия для независимых выборок:"
   ]
  },
  {
   "cell_type": "code",
   "execution_count": 29,
   "id": "stuck-creek",
   "metadata": {
    "scrolled": true
   },
   "outputs": [
    {
     "name": "stdout",
     "output_type": "stream",
     "text": [
      "p-value: 0.024\n"
     ]
    }
   ],
   "source": [
    "p_value_age = permutation_test(\n",
    "    default_group['AGE'].fillna(0).values,\n",
    "    return_group['AGE'].fillna(0).values,\n",
    "    max_permutations=1000)\n",
    "print(f'p-value: {round(p_value_age, 4)}')"
   ]
  },
  {
   "cell_type": "markdown",
   "id": "working-target",
   "metadata": {},
   "source": [
    "**Вывод:** Уровень значимости несколько меньше 0.05, нулевая гипотеза о равенстве распределений отвергается в пользу альтернативы это доказывает, что возраст человека влияет на то вернёт он кредит или нет. По графику можно заметить, что молодыек люди < 30 лет склонны чаще не возращать кредит.  "
   ]
  },
  {
   "cell_type": "markdown",
   "id": "imported-house",
   "metadata": {},
   "source": [
    "### Заключение:\n",
    "Проанализировав данные, полученные из кредитных историй клиентов одного из банков, были получены следующие выводы:\n",
    "1. Размер кредитного лимита, для людей выплативших кредит значимо выше;\n",
    "1. Гендерный состав группы, людей вернувших и не вернувших кредит статистически значимо отличается;\n",
    "1. Образование статистически значимо влияет на вероятность дефолта, хоть и не очень сильно;\n",
    "1. Семейное положение очень слабо, но статистически значимо влияет на вероятность возврата кредита;\n",
    "1. Возрастной состав в группах, вернувших и не вернувших кредит статистически значимо отличается.\n",
    "\n",
    "Рассмотренные признаки стоит учитывать при выдаче кредитов, но всё же главными признаками являются не рассмотренные в этом исследовании, доход и стабильное трудоустройство клиента."
   ]
  }
 ],
 "metadata": {
  "kernelspec": {
   "display_name": "Python 3",
   "language": "python",
   "name": "python3"
  },
  "language_info": {
   "codemirror_mode": {
    "name": "ipython",
    "version": 3
   },
   "file_extension": ".py",
   "mimetype": "text/x-python",
   "name": "python",
   "nbconvert_exporter": "python",
   "pygments_lexer": "ipython3",
   "version": "3.9.0"
  }
 },
 "nbformat": 4,
 "nbformat_minor": 5
}
