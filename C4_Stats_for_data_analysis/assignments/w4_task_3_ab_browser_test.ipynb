{
 "cells": [
  {
   "cell_type": "markdown",
   "id": "accessible-replica",
   "metadata": {},
   "source": [
    "## Анализ результатов АБ-теста"
   ]
  },
  {
   "cell_type": "markdown",
   "id": "sacred-increase",
   "metadata": {},
   "source": [
    "В данном задании вам нужно будет\n",
    "\n",
    "* проанализировать АБ  тест,  проведенный на реальных пользователях Яндекса\n",
    "* подтвердить или опровергнуть наличие изменений в пользовательском поведении между контрольной (control)  и тестовой (exp)  группами\n",
    "* определить характер этих изменений и практическую значимость вводимого изменения\n",
    "* понять, какая из пользовательских групп более всего проигрывает / выигрывает   от тестируемого изменения (локализовать изменение)"
   ]
  },
  {
   "cell_type": "markdown",
   "id": "textile-norway",
   "metadata": {},
   "source": [
    "**Описание  данных:**\n",
    "* userID:  уникальный идентификатор пользователя\n",
    "* browser:  браузер, который использовал userID\n",
    "* slot: в каком статусе пользователь участвовал в исследовании (exp = видел измененную страницу, control  = видел неизменную страницу)\n",
    "* n_clicks: количество кликов, которые пользоваль совершил за n_queries\n",
    "* n_queries: количество запросов, который совершил userID, пользуясь браузером browser\n",
    "* n_nonclk_queries: количество запросов пользователя, в которых  им не было совершено ни одного клика  \n",
    "\n",
    "Обращаем ваше внимание, что не все люди используют только один браузер, поэтому в столбце userID есть повторяющиеся идентификаторы. В предлагаемых данных  уникальным является сочетание userID и browser."
   ]
  },
  {
   "cell_type": "code",
   "execution_count": 1,
   "id": "enclosed-andorra",
   "metadata": {},
   "outputs": [],
   "source": [
    "import warnings\n",
    "warnings.filterwarnings('ignore')"
   ]
  },
  {
   "cell_type": "code",
   "execution_count": 2,
   "id": "progressive-button",
   "metadata": {},
   "outputs": [],
   "source": [
    "import scipy \n",
    "import numpy as np\n",
    "import pandas as pd\n",
    "from statsmodels.stats.weightstats import *\n",
    "from statsmodels.stats.proportion import proportion_confint\n",
    "import statsmodels.stats.multitest as smm\n",
    "import matplotlib.pyplot as plt\n",
    "from statsmodels.sandbox.stats.multicomp import multipletests "
   ]
  },
  {
   "cell_type": "code",
   "execution_count": 3,
   "id": "mobile-adult",
   "metadata": {},
   "outputs": [
    {
     "data": {
      "text/html": [
       "<div>\n",
       "<style scoped>\n",
       "    .dataframe tbody tr th:only-of-type {\n",
       "        vertical-align: middle;\n",
       "    }\n",
       "\n",
       "    .dataframe tbody tr th {\n",
       "        vertical-align: top;\n",
       "    }\n",
       "\n",
       "    .dataframe thead th {\n",
       "        text-align: right;\n",
       "    }\n",
       "</style>\n",
       "<table border=\"1\" class=\"dataframe\">\n",
       "  <thead>\n",
       "    <tr style=\"text-align: right;\">\n",
       "      <th></th>\n",
       "      <th>userID</th>\n",
       "      <th>browser</th>\n",
       "      <th>slot</th>\n",
       "      <th>n_clicks</th>\n",
       "      <th>n_queries</th>\n",
       "      <th>n_nonclk_queries</th>\n",
       "    </tr>\n",
       "  </thead>\n",
       "  <tbody>\n",
       "    <tr>\n",
       "      <th>0</th>\n",
       "      <td>1</td>\n",
       "      <td>Browser #2</td>\n",
       "      <td>exp</td>\n",
       "      <td>23</td>\n",
       "      <td>32</td>\n",
       "      <td>19</td>\n",
       "    </tr>\n",
       "    <tr>\n",
       "      <th>1</th>\n",
       "      <td>3</td>\n",
       "      <td>Browser #4</td>\n",
       "      <td>exp</td>\n",
       "      <td>3</td>\n",
       "      <td>4</td>\n",
       "      <td>2</td>\n",
       "    </tr>\n",
       "    <tr>\n",
       "      <th>2</th>\n",
       "      <td>5</td>\n",
       "      <td>Browser #4</td>\n",
       "      <td>exp</td>\n",
       "      <td>29</td>\n",
       "      <td>35</td>\n",
       "      <td>16</td>\n",
       "    </tr>\n",
       "    <tr>\n",
       "      <th>3</th>\n",
       "      <td>6</td>\n",
       "      <td>Browser #4</td>\n",
       "      <td>control</td>\n",
       "      <td>12</td>\n",
       "      <td>6</td>\n",
       "      <td>0</td>\n",
       "    </tr>\n",
       "    <tr>\n",
       "      <th>4</th>\n",
       "      <td>7</td>\n",
       "      <td>Browser #4</td>\n",
       "      <td>exp</td>\n",
       "      <td>54</td>\n",
       "      <td>68</td>\n",
       "      <td>30</td>\n",
       "    </tr>\n",
       "  </tbody>\n",
       "</table>\n",
       "</div>"
      ],
      "text/plain": [
       "   userID     browser     slot  n_clicks  n_queries  n_nonclk_queries\n",
       "0       1  Browser #2      exp        23         32                19\n",
       "1       3  Browser #4      exp         3          4                 2\n",
       "2       5  Browser #4      exp        29         35                16\n",
       "3       6  Browser #4  control        12          6                 0\n",
       "4       7  Browser #4      exp        54         68                30"
      ]
     },
     "execution_count": 3,
     "metadata": {},
     "output_type": "execute_result"
    }
   ],
   "source": [
    "data = pd.read_csv('data/ab_browser_test.csv', header=0)\n",
    "data.head()"
   ]
  },
  {
   "cell_type": "code",
   "execution_count": 4,
   "id": "compliant-colleague",
   "metadata": {
    "scrolled": true
   },
   "outputs": [
    {
     "name": "stdout",
     "output_type": "stream",
     "text": [
      "<class 'pandas.core.frame.DataFrame'>\n",
      "RangeIndex: 566134 entries, 0 to 566133\n",
      "Data columns (total 6 columns):\n",
      " #   Column            Non-Null Count   Dtype \n",
      "---  ------            --------------   ----- \n",
      " 0   userID            566134 non-null  int64 \n",
      " 1   browser           566134 non-null  object\n",
      " 2   slot              566134 non-null  object\n",
      " 3   n_clicks          566134 non-null  int64 \n",
      " 4   n_queries         566134 non-null  int64 \n",
      " 5   n_nonclk_queries  566134 non-null  int64 \n",
      "dtypes: int64(4), object(2)\n",
      "memory usage: 25.9+ MB\n"
     ]
    }
   ],
   "source": [
    "data.info()"
   ]
  },
  {
   "cell_type": "code",
   "execution_count": 5,
   "id": "confused-drama",
   "metadata": {},
   "outputs": [
    {
     "data": {
      "text/plain": [
       "0"
      ]
     },
     "execution_count": 5,
     "metadata": {},
     "output_type": "execute_result"
    }
   ],
   "source": [
    "np.sum(data[data.loc[:, 'slot']=='exp']['userID'].isin(\n",
    "data[data.loc[:, 'slot']=='control']['userID'].unique()))"
   ]
  },
  {
   "cell_type": "code",
   "execution_count": 6,
   "id": "posted-president",
   "metadata": {},
   "outputs": [],
   "source": [
    "exp_group = data[data.loc[:, 'slot']=='exp']\n",
    "control_group = data[data.loc[:, 'slot']=='control']"
   ]
  },
  {
   "cell_type": "markdown",
   "id": "alternative-combine",
   "metadata": {},
   "source": [
    "**1.** Основная метрика, на которой мы сосредоточимся в этой работе, — это количество пользовательских кликов на web-странице в зависимости от тестируемого изменения этой страницы. \n",
    "\n",
    "Посчитайте, насколько в группе exp больше пользовательских кликов по сравнению с группой control в процентах от числа кликов в контрольной группе.\n",
    "\n",
    "Полученный процент округлите  до третьего знака после точки. "
   ]
  },
  {
   "cell_type": "code",
   "execution_count": 7,
   "id": "compressed-workshop",
   "metadata": {},
   "outputs": [
    {
     "name": "stdout",
     "output_type": "stream",
     "text": [
      "Разность между количеством кликовв процентах от числа кликов в контрольной группе: 1.614%\n"
     ]
    }
   ],
   "source": [
    "clicks_diff = (exp_group['n_clicks'].sum()\\\n",
    "               - control_group['n_clicks'].sum()) *100\\\n",
    "                / control_group['n_clicks'].sum()\n",
    "print(f'Разность между количеством кликов\\\n",
    "в процентах от числа кликов в контрольной группе: \\\n",
    "{round(clicks_diff, 3)}%')"
   ]
  },
  {
   "cell_type": "markdown",
   "id": "elect-austin",
   "metadata": {},
   "source": [
    "**2.** Давайте попробуем посмотреть более внимательно на разницу между двумя группами (control и exp) относительно количества пользовательских кликов.\n",
    "\n",
    "Для этого постройте с помощью бутстрепа 95% доверительный интервал для средних значений и медиан количества кликов в каждой из двух групп. Отметьте все верные утверждения. "
   ]
  },
  {
   "cell_type": "code",
   "execution_count": 8,
   "id": "collected-bankruptcy",
   "metadata": {},
   "outputs": [],
   "source": [
    "def get_bootstrap_samples(data, n_samples):\n",
    "    indices = np.random.randint(0, len(data), (n_samples, len(data)))\n",
    "    samples = data[indices]\n",
    "    return samples\n",
    "\n",
    "def stat_intervals(stat, alpha):\n",
    "    boundaries = np.percentile(stat, [100 * alpha / 2., 100 * (1 - alpha / 2.)])\n",
    "    return boundaries"
   ]
  },
  {
   "cell_type": "code",
   "execution_count": 9,
   "id": "dental-neighbor",
   "metadata": {},
   "outputs": [
    {
     "name": "stdout",
     "output_type": "stream",
     "text": [
      "95% Доверительный интервал медианного значения кликов в экспериментальной группе: [5. 5.]\n",
      "95% Доверительный интервал медианного значения кликов в контрольной группе: [4. 4.]\n",
      "95% Доверительный интервал для разностей медианного значения: [1. 1.]\n",
      "95% Доверительный интервал среднего значения кликов в экспериментальной группе: [11.50674915 11.65758017]\n",
      "95% Доверительный интервал среднего значения кликов в контрольной группе: [11.21242374 11.35449133]\n",
      "95% Доверительный интервал для разностей среднего значения: [0.19866114 0.40975645]\n"
     ]
    }
   ],
   "source": [
    "np.random.seed(0)\n",
    "\n",
    "exp_median_scores = np.array(list(map(np.median, get_bootstrap_samples(exp_group['n_clicks'].values, 1000))))\n",
    "control_median_scores = np.array(list(map(np.median, get_bootstrap_samples(control_group['n_clicks'].values, 1000))))\n",
    "\n",
    "exp_mean_scores = np.array(list(map(np.mean, get_bootstrap_samples(exp_group['n_clicks'].values, 1000))))\n",
    "control_mean_scores = np.array(list(map(np.mean, get_bootstrap_samples(control_group['n_clicks'].values, 1000))))\n",
    "\n",
    "print(\"95% Доверительный интервал медианного значения кликов в экспериментальной группе:\",\n",
    "      stat_intervals(exp_median_scores, 0.05))\n",
    "print(\"95% Доверительный интервал медианного значения кликов в контрольной группе:\",\n",
    "      stat_intervals(control_median_scores, 0.05))\n",
    "print(\"95% Доверительный интервал для разностей медианного значения:\",\n",
    "      stat_intervals(exp_median_scores - control_median_scores, 0.05))\n",
    "print(\"95% Доверительный интервал среднего значения кликов в экспериментальной группе:\",\n",
    "      stat_intervals(exp_mean_scores, 0.05))\n",
    "print(\"95% Доверительный интервал среднего значения кликов в контрольной группе:\",\n",
    "      stat_intervals(control_mean_scores, 0.05))\n",
    "print(\"95% Доверительный интервал для разностей среднего значения:\",\n",
    "      stat_intervals(exp_mean_scores - control_mean_scores, 0.05))"
   ]
  },
  {
   "cell_type": "markdown",
   "id": "diagnostic-consent",
   "metadata": {},
   "source": [
    "**Вывод:**\n",
    "1. 95% доверительный интервал для разности медиан не  содержит ноль, похоже, медианы отличаются статистически значимо\n",
    "1. 95% доверительный интервал для разности средних не  содержит ноль, похоже, средние отличаются статистически значимо"
   ]
  },
  {
   "cell_type": "markdown",
   "id": "judicial-rabbit",
   "metadata": {},
   "source": [
    "**3.** Поскольку данных достаточно много (порядка полумиллиона уникальных пользователей), отличие в несколько процентов может быть не только практически значимым, но и  значимым статистически. Последнее утверждение нуждается в дополнительной проверке. \n",
    "\n",
    "Посмотрите на выданные вам данные и выберите все верные варианты ответа относительно проверки гипотезы о равенстве среднего количества кликов в группах. "
   ]
  },
  {
   "cell_type": "code",
   "execution_count": 10,
   "id": "classical-cocktail",
   "metadata": {},
   "outputs": [
    {
     "data": {
      "text/plain": [
       "<AxesSubplot:title={'center':'n_clicks'}, xlabel='slot'>"
      ]
     },
     "execution_count": 10,
     "metadata": {},
     "output_type": "execute_result"
    },
    {
     "data": {
      "image/png": "[encoded data removed]",
      "text/plain": [
       "<Figure size 864x576 with 1 Axes>"
      ]
     },
     "metadata": {
      "needs_background": "light"
     },
     "output_type": "display_data"
    },
    {
     "data": {
      "image/png": "[encoded data removed]",
      "text/plain": [
       "<Figure size 864x576 with 1 Axes>"
      ]
     },
     "metadata": {
      "needs_background": "light"
     },
     "output_type": "display_data"
    }
   ],
   "source": [
    "plt.figure(figsize=(12, 8))\n",
    "control_group['n_clicks'].plot(kind='hist',\n",
    "        alpha=0.7,\n",
    "        bins=50,\n",
    "        rot=45,\n",
    "        grid=True,\n",
    "        fontsize=15, \n",
    "        color=['#A0E8AF'])\n",
    "exp_group['n_clicks'].plot(kind='hist',\n",
    "        alpha=0.7,\n",
    "        bins=50,\n",
    "        rot=45,\n",
    "        grid=True,\n",
    "        fontsize=15, \n",
    "        color=['#E8A0B5'])\n",
    "plt.title('Histogram of Clicks')\n",
    "plt.legend()\n",
    "plt.xlabel('Clicks')\n",
    "plt.ylabel('Count')\n",
    "plt.legend(['control','exp'])\n",
    "\n",
    "data.boxplot(column='n_clicks', by='slot', figsize=(12, 8))"
   ]
  },
  {
   "cell_type": "markdown",
   "id": "effective-universal",
   "metadata": {},
   "source": [
    "**4.** t-критерий Стьюдента имеет множество достоинств, и потому его достаточно часто применяют в A/B экспериментах. Иногда его применение может быть необоснованно из-за сильной скошенности распределения данных. \n",
    "\n",
    "Давайте постараемся понять, когда t-критерий можно применять и как это проверить на реальных данных. \n",
    "\n",
    "Для простоты рассмотрим одновыборочный t-критерий.  Его статистика имеет вид   $\\frac{\\bar{X} - \\mu}{ \\sqrt {S^2 / n}}$, то есть чтобы действительно предположения t-критерия выполнялись необходимо, чтобы:\n",
    "\n",
    "* $\\bar{X}$  —  среднее значение в выборке — было распределено нормально $N(μ,σ2n)$  \n",
    "* $\\frac{n}{\\sigma^2}S^2$  — несмещенная оценка дисперсии c масштабирующим коэффициентом —  была распределена по хи-квадрат  c $n−1$ степенями свободы  $\\chi^2(n−1)$\n",
    "\n",
    "Простое доказательство необходимости и достаточности этого требования  можно посмотреть в самом последнем абзаце этого вопроса. Усвоение этого доказательства не обязательно для выполнения задания.\n",
    "\n",
    "Оба этих предположения можно проверить с помощью бутстрепа. Ограничимся сейчас только контрольной группой, в которой распределение кликов будем называть данными  в рамках данного вопроса. \n",
    "\n",
    "Поскольку мы не знаем истинного распределения генеральной совокупности, мы можем применить бутстреп, чтобы понять, как распределены среднее значение и выборочная дисперсия. Для этого:\n",
    "\n",
    "1. Получите из данных n_boot_samples  псевдовыборок. \n",
    "1. По каждой из этих выборок посчитайте среднее и сумму квадратов отклонения от выборочного среднего (control_boot_chi_squared) \n",
    "1. Для получившегося вектора средних значений из n_boot_samples постройте q-q plot с помощью scipy.stats.probplot для нормального распределения\n",
    "1. Для получившегося вектора  сумм квадратов отклонения от выборочного среднего постройте  qq-plot с помощью scipy.stats.probplot  для хи-квадрат распределения с помощью команды "
   ]
  },
  {
   "cell_type": "code",
   "execution_count": 11,
   "id": "swedish-jaguar",
   "metadata": {},
   "outputs": [],
   "source": [
    "np.random.seed(0)\n",
    "n_boot_samples = 500\n",
    "\n",
    "control_mean = np.array(\n",
    "    list(map(np.mean,\n",
    "    get_bootstrap_samples(control_group['n_clicks'].values,\n",
    "    n_boot_samples))))\n",
    "control_boot_chi_squared = np.array(\n",
    "    list(map(np.std,\n",
    "    get_bootstrap_samples(control_group['n_clicks'].values,\n",
    "    n_boot_samples))))"
   ]
  },
  {
   "cell_type": "code",
   "execution_count": 12,
   "id": "adapted-access",
   "metadata": {},
   "outputs": [
    {
     "data": {
      "text/plain": [
       "Text(501, 11.18, '$R^2=$0.998')"
      ]
     },
     "execution_count": 12,
     "metadata": {},
     "output_type": "execute_result"
    },
    {
     "data": {
      "image/png": "[encoded data removed]",
      "text/plain": [
       "<Figure size 432x288 with 1 Axes>"
      ]
     },
     "metadata": {
      "needs_background": "light"
     },
     "output_type": "display_data"
    }
   ],
   "source": [
    "n = control_mean.shape[0]\n",
    "mean_plot = scipy.stats.probplot(control_mean, \n",
    "                                 sparams=(n-1),\n",
    "                                 plot=plt)\n",
    "plt.text(501, 11.18, f'$R^2=${round(mean_plot[1][2], 4)}')"
   ]
  },
  {
   "cell_type": "code",
   "execution_count": 13,
   "id": "selected-rugby",
   "metadata": {},
   "outputs": [
    {
     "data": {
      "text/plain": [
       "Text(565, 19.85, '$R^2=$0.9984')"
      ]
     },
     "execution_count": 13,
     "metadata": {},
     "output_type": "execute_result"
    },
    {
     "data": {
      "image/png": "[encoded data removed]",
      "text/plain": [
       "<Figure size 432x288 with 1 Axes>"
      ]
     },
     "metadata": {
      "needs_background": "light"
     },
     "output_type": "display_data"
    }
   ],
   "source": [
    "boot_chi_squared_plot = scipy.stats.probplot(\n",
    "    control_boot_chi_squared,\n",
    "    dist=\"chi2\", \n",
    "    sparams=(n-1), plot=plt)\n",
    "plt.text(565, 19.85, f'$R^2=${round(boot_chi_squared_plot[1][2], 4)}')"
   ]
  },
  {
   "cell_type": "markdown",
   "id": "equipped-enforcement",
   "metadata": {},
   "source": [
    "В качестве ответа отметьте верные утвердения о  значениях  $R^2$, которые генерирует scipy.stats.probplot при отображении qq-графиков:  одно c графика для среднего  и одно с графика для выборочной суммы квадратов отклонения от выборочной суммы."
   ]
  },
  {
   "cell_type": "markdown",
   "id": "light-kelly",
   "metadata": {},
   "source": [
    "**Вывод:**\n",
    "1. $R^2$ для выборочного среднего получился больше, чем  0.99;\n",
    "1. $R^2$ для выборочной суммы квадратов отклонения от выборочной суммы получился больше, чем 0.99."
   ]
  },
  {
   "cell_type": "markdown",
   "id": "golden-survey",
   "metadata": {},
   "source": [
    "**5.** Одним из возможных аналогов t-критерия, которым можно воспрользоваться, является тест Манна-Уитни. На достаточно обширном классе распределений он является асимптотически более эффективным, чем t-критерий, и при этом не требует параметрических предположений о характере распределения.\n",
    "\n",
    "1. Разделите выборку на две части, соответствующие control  и exp группам.\n",
    "1. Преобразуйте данные к виду, чтобы каждому пользователю  соответствовало суммарное значение его кликов. \n",
    "1. С помощью критерия Манна-Уитни проверьте гипотезу о равенстве средних. \n",
    "\n",
    "Что можно сказать о получившемся значении достигаемого уровня значимости? Выберите все правильные ответы"
   ]
  },
  {
   "cell_type": "code",
   "execution_count": 14,
   "id": "present-confusion",
   "metadata": {},
   "outputs": [],
   "source": [
    "control_group_clicks = control_group.groupby('userID').agg('sum')['n_clicks']\n",
    "exp_group_clicks = exp_group.groupby('userID').agg('sum')['n_clicks']"
   ]
  },
  {
   "cell_type": "code",
   "execution_count": 15,
   "id": "labeled-termination",
   "metadata": {},
   "outputs": [],
   "source": [
    "p_value_clicks = stats.mannwhitneyu(\n",
    "    control_group_clicks,\n",
    "    exp_group_clicks).pvalue"
   ]
  },
  {
   "cell_type": "code",
   "execution_count": 16,
   "id": "organized-monaco",
   "metadata": {},
   "outputs": [
    {
     "name": "stdout",
     "output_type": "stream",
     "text": [
      "Достигаемый уровень значимости гипотезы о равенстве средних значений кликов в двух группах: 4.3471471887604393e-75\n"
     ]
    }
   ],
   "source": [
    "print(f'Достигаемый уровень значимости гипотезы \\\n",
    "о равенстве средних значений кликов в двух группах: \\\n",
    "{p_value_clicks}')"
   ]
  },
  {
   "cell_type": "markdown",
   "id": "racial-roulette",
   "metadata": {},
   "source": [
    "**Вывод:** Получившееся значение достигаемого уровня значимости свидетельствует о статистической значимости отличий между  двумя выборками"
   ]
  },
  {
   "cell_type": "markdown",
   "id": "acknowledged-sigma",
   "metadata": {},
   "source": [
    "**6.** Проверьте, для какого из браузеров наиболее сильно выражено отличие между количеством кликов в контрольной и экспериментальной группах.\n",
    "\n",
    "Для этого примените для каждого из срезов (по каждому из уникальных значений столбца browser) критерий Манна-Уитни между control и exp группами и сделайте поправку Холма-Бонферрони на множественную проверку с $\\alpha=0.05$.\n",
    "\n",
    "Какое заключение можно сделать исходя из полученных результатов?\n",
    "\n",
    "В качестве ответа введите количество незначимых изменений с точки зрения результатов, полученных после введения коррекции."
   ]
  },
  {
   "cell_type": "code",
   "execution_count": 17,
   "id": "driving-mason",
   "metadata": {},
   "outputs": [],
   "source": [
    "browsers_data = []\n",
    "for column in data['browser'].unique():\n",
    "    p = stats.mannwhitneyu(\n",
    "        control_group[control_group.loc[:, 'browser'] == column]['n_clicks'],\n",
    "        exp_group[exp_group.loc[:, 'browser'] == column]['n_clicks']).pvalue\n",
    "    browsers_data.append([column, p])"
   ]
  },
  {
   "cell_type": "code",
   "execution_count": 18,
   "id": "surprised-crime",
   "metadata": {},
   "outputs": [],
   "source": [
    "browsers_p = pd.DataFrame.from_records(browsers_data)\n",
    "browsers_p.columns = ['browsers', 'p']"
   ]
  },
  {
   "cell_type": "code",
   "execution_count": 19,
   "id": "private-madness",
   "metadata": {},
   "outputs": [
    {
     "data": {
      "text/html": [
       "<div>\n",
       "<style scoped>\n",
       "    .dataframe tbody tr th:only-of-type {\n",
       "        vertical-align: middle;\n",
       "    }\n",
       "\n",
       "    .dataframe tbody tr th {\n",
       "        vertical-align: top;\n",
       "    }\n",
       "\n",
       "    .dataframe thead th {\n",
       "        text-align: right;\n",
       "    }\n",
       "</style>\n",
       "<table border=\"1\" class=\"dataframe\">\n",
       "  <thead>\n",
       "    <tr style=\"text-align: right;\">\n",
       "      <th></th>\n",
       "      <th>browsers</th>\n",
       "      <th>p</th>\n",
       "      <th>p_corrected</th>\n",
       "      <th>reject</th>\n",
       "    </tr>\n",
       "  </thead>\n",
       "  <tbody>\n",
       "    <tr>\n",
       "      <th>0</th>\n",
       "      <td>Browser #2</td>\n",
       "      <td>0.027244</td>\n",
       "      <td>0.136219</td>\n",
       "      <td>False</td>\n",
       "    </tr>\n",
       "    <tr>\n",
       "      <th>1</th>\n",
       "      <td>Browser #4</td>\n",
       "      <td>0.407606</td>\n",
       "      <td>0.815212</td>\n",
       "      <td>False</td>\n",
       "    </tr>\n",
       "    <tr>\n",
       "      <th>2</th>\n",
       "      <td>Browser #14</td>\n",
       "      <td>0.000000</td>\n",
       "      <td>0.000000</td>\n",
       "      <td>True</td>\n",
       "    </tr>\n",
       "    <tr>\n",
       "      <th>3</th>\n",
       "      <td>Browser #17</td>\n",
       "      <td>0.037401</td>\n",
       "      <td>0.149602</td>\n",
       "      <td>False</td>\n",
       "    </tr>\n",
       "    <tr>\n",
       "      <th>4</th>\n",
       "      <td>Browser #20</td>\n",
       "      <td>0.453667</td>\n",
       "      <td>0.815212</td>\n",
       "      <td>False</td>\n",
       "    </tr>\n",
       "    <tr>\n",
       "      <th>5</th>\n",
       "      <td>Browser #22</td>\n",
       "      <td>0.257406</td>\n",
       "      <td>0.772217</td>\n",
       "      <td>False</td>\n",
       "    </tr>\n",
       "  </tbody>\n",
       "</table>\n",
       "</div>"
      ],
      "text/plain": [
       "      browsers         p  p_corrected  reject\n",
       "0   Browser #2  0.027244     0.136219   False\n",
       "1   Browser #4  0.407606     0.815212   False\n",
       "2  Browser #14  0.000000     0.000000    True\n",
       "3  Browser #17  0.037401     0.149602   False\n",
       "4  Browser #20  0.453667     0.815212   False\n",
       "5  Browser #22  0.257406     0.772217   False"
      ]
     },
     "execution_count": 19,
     "metadata": {},
     "output_type": "execute_result"
    }
   ],
   "source": [
    "reject, p_corrected, a1, a2 = multipletests(browsers_p.p, \n",
    "                                            alpha = 0.05, \n",
    "                                            method = 'holm')\n",
    "browsers_p['p_corrected'] = p_corrected\n",
    "browsers_p['reject'] = reject\n",
    "browsers_p"
   ]
  },
  {
   "cell_type": "markdown",
   "id": "several-photograph",
   "metadata": {},
   "source": [
    "**7.** Для каждого браузера в каждой из двух групп (control  и exp) посчитайте долю запросов, в которых пользователь не кликнул ни разу. Это можно сделать, поделив сумму значений  n_nonclk_queries  на сумму значений  n_queries. Умножив это значение на 100, получим процент некликнутых запросов, который можно легче  проинтерпретировать.\n",
    "\n",
    "Сходятся ли результаты проведенного Вами анализа с показателем процента некликнутых запросов? Отметьте все верные утверждения. "
   ]
  },
  {
   "cell_type": "code",
   "execution_count": 20,
   "id": "sublime-genome",
   "metadata": {},
   "outputs": [],
   "source": [
    "nonclk_data = []\n",
    "for column in data['browser'].unique():\n",
    "    cont = control_group[control_group.loc[:, 'browser'] == column]\n",
    "    exp = exp_group[exp_group.loc[:, 'browser'] == column]\n",
    "    nonclk_control_ratio = cont['n_nonclk_queries'].sum() * 100 / cont['n_queries'].sum()\n",
    "    nonclk_exp_ratio = exp['n_nonclk_queries'].sum() * 100 / exp['n_queries'].sum()\n",
    "    nonclk_data.append([column, nonclk_control_ratio, nonclk_exp_ratio])"
   ]
  },
  {
   "cell_type": "code",
   "execution_count": 21,
   "id": "objective-courage",
   "metadata": {},
   "outputs": [
    {
     "data": {
      "text/html": [
       "<div>\n",
       "<style scoped>\n",
       "    .dataframe tbody tr th:only-of-type {\n",
       "        vertical-align: middle;\n",
       "    }\n",
       "\n",
       "    .dataframe tbody tr th {\n",
       "        vertical-align: top;\n",
       "    }\n",
       "\n",
       "    .dataframe thead th {\n",
       "        text-align: right;\n",
       "    }\n",
       "</style>\n",
       "<table border=\"1\" class=\"dataframe\">\n",
       "  <thead>\n",
       "    <tr style=\"text-align: right;\">\n",
       "      <th></th>\n",
       "      <th>browsers</th>\n",
       "      <th>control</th>\n",
       "      <th>exp</th>\n",
       "    </tr>\n",
       "  </thead>\n",
       "  <tbody>\n",
       "    <tr>\n",
       "      <th>0</th>\n",
       "      <td>Browser #2</td>\n",
       "      <td>45.962747</td>\n",
       "      <td>44.982747</td>\n",
       "    </tr>\n",
       "    <tr>\n",
       "      <th>1</th>\n",
       "      <td>Browser #4</td>\n",
       "      <td>46.970930</td>\n",
       "      <td>45.142942</td>\n",
       "    </tr>\n",
       "    <tr>\n",
       "      <th>2</th>\n",
       "      <td>Browser #14</td>\n",
       "      <td>57.590411</td>\n",
       "      <td>43.755617</td>\n",
       "    </tr>\n",
       "    <tr>\n",
       "      <th>3</th>\n",
       "      <td>Browser #17</td>\n",
       "      <td>36.299367</td>\n",
       "      <td>36.937413</td>\n",
       "    </tr>\n",
       "    <tr>\n",
       "      <th>4</th>\n",
       "      <td>Browser #20</td>\n",
       "      <td>40.540485</td>\n",
       "      <td>38.977376</td>\n",
       "    </tr>\n",
       "    <tr>\n",
       "      <th>5</th>\n",
       "      <td>Browser #22</td>\n",
       "      <td>40.593977</td>\n",
       "      <td>39.853947</td>\n",
       "    </tr>\n",
       "  </tbody>\n",
       "</table>\n",
       "</div>"
      ],
      "text/plain": [
       "      browsers    control        exp\n",
       "0   Browser #2  45.962747  44.982747\n",
       "1   Browser #4  46.970930  45.142942\n",
       "2  Browser #14  57.590411  43.755617\n",
       "3  Browser #17  36.299367  36.937413\n",
       "4  Browser #20  40.540485  38.977376\n",
       "5  Browser #22  40.593977  39.853947"
      ]
     },
     "execution_count": 21,
     "metadata": {},
     "output_type": "execute_result"
    }
   ],
   "source": [
    "nonclk_ratio = pd.DataFrame.from_records(nonclk_data)\n",
    "nonclk_ratio.columns = ['browsers', 'control', 'exp']\n",
    "nonclk_ratio"
   ]
  },
  {
   "cell_type": "markdown",
   "id": "surgical-equality",
   "metadata": {},
   "source": [
    "**Вывод:** \n",
    "Тестируемое изменение можно предложить к внедрению только на тот сегмент пользователей, где локализуется изменение, то есть для того браузера, для которого  доля некликнутых запросов уменьшилась больше всего. Для прочих браузеров мы не обладаем никакой информацией относительно влияния тестируемого изменения на поведение пользователей. "
   ]
  }
 ],
 "metadata": {
  "kernelspec": {
   "display_name": "Python 3",
   "language": "python",
   "name": "python3"
  },
  "language_info": {
   "codemirror_mode": {
    "name": "ipython",
    "version": 3
   },
   "file_extension": ".py",
   "mimetype": "text/x-python",
   "name": "python",
   "nbconvert_exporter": "python",
   "pygments_lexer": "ipython3",
   "version": "3.9.0"
  }
 },
 "nbformat": 4,
 "nbformat_minor": 5
}
