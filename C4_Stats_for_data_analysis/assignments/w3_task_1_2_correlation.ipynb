{
 "cells": [
  {
   "cell_type": "markdown",
   "id": "comprehensive-senator",
   "metadata": {},
   "source": [
    "## Коэффициенты корреляции"
   ]
  },
  {
   "cell_type": "markdown",
   "id": "solid-playback",
   "metadata": {},
   "source": [
    "**1.** Есть ли связь между неграмотностью и рождаемостью? Для 94 стран, уровень неграмотности женщин в которых больше 5%, известны доля неграмотных среди женщин старше 15 (на 2003 год) и средняя рождаемость на одну женщину (на 2005 год).\n",
    "\n",
    "Чему равен выборочный коэффициент корреляции Пирсона между этими двумя признаками? Округлите до четырёх знаков после десятичной точки. "
   ]
  },
  {
   "cell_type": "code",
   "execution_count": 1,
   "id": "proprietary-learning",
   "metadata": {},
   "outputs": [],
   "source": [
    "import pandas as pd\n",
    "import numpy as np\n",
    "from scipy import stats"
   ]
  },
  {
   "cell_type": "code",
   "execution_count": 2,
   "id": "supreme-growing",
   "metadata": {
    "scrolled": true
   },
   "outputs": [
    {
     "data": {
      "text/html": [
       "<div>\n",
       "<style scoped>\n",
       "    .dataframe tbody tr th:only-of-type {\n",
       "        vertical-align: middle;\n",
       "    }\n",
       "\n",
       "    .dataframe tbody tr th {\n",
       "        vertical-align: top;\n",
       "    }\n",
       "\n",
       "    .dataframe thead th {\n",
       "        text-align: right;\n",
       "    }\n",
       "</style>\n",
       "<table border=\"1\" class=\"dataframe\">\n",
       "  <thead>\n",
       "    <tr style=\"text-align: right;\">\n",
       "      <th></th>\n",
       "      <th>Country</th>\n",
       "      <th>Illit</th>\n",
       "      <th>Births</th>\n",
       "    </tr>\n",
       "  </thead>\n",
       "  <tbody>\n",
       "    <tr>\n",
       "      <th>0</th>\n",
       "      <td>Albania</td>\n",
       "      <td>20.5</td>\n",
       "      <td>1.78</td>\n",
       "    </tr>\n",
       "    <tr>\n",
       "      <th>1</th>\n",
       "      <td>Algeria</td>\n",
       "      <td>39.1</td>\n",
       "      <td>2.44</td>\n",
       "    </tr>\n",
       "    <tr>\n",
       "      <th>2</th>\n",
       "      <td>Bahrain</td>\n",
       "      <td>15.0</td>\n",
       "      <td>2.34</td>\n",
       "    </tr>\n",
       "    <tr>\n",
       "      <th>3</th>\n",
       "      <td>Belize</td>\n",
       "      <td>5.9</td>\n",
       "      <td>2.97</td>\n",
       "    </tr>\n",
       "    <tr>\n",
       "      <th>4</th>\n",
       "      <td>Benin</td>\n",
       "      <td>73.5</td>\n",
       "      <td>5.60</td>\n",
       "    </tr>\n",
       "  </tbody>\n",
       "</table>\n",
       "</div>"
      ],
      "text/plain": [
       "   Country  Illit  Births\n",
       "0  Albania   20.5    1.78\n",
       "1  Algeria   39.1    2.44\n",
       "2  Bahrain   15.0    2.34\n",
       "3   Belize    5.9    2.97\n",
       "4    Benin   73.5    5.60"
      ]
     },
     "execution_count": 2,
     "metadata": {},
     "output_type": "execute_result"
    }
   ],
   "source": [
    "data = pd.read_csv(\"data/illiteracy.txt\", sep=\"\\t\", header=0)\n",
    "data.head()"
   ]
  },
  {
   "cell_type": "code",
   "execution_count": 3,
   "id": "amazing-nomination",
   "metadata": {},
   "outputs": [],
   "source": [
    "pirs_coef = np.sum(\n",
    "    (data[\"Illit\"] - data[\"Illit\"].mean()) * (data[\"Births\"] - data[\"Births\"].mean()))/ \\\n",
    "    np.sqrt(np.sum((data[\"Illit\"] - data[\"Illit\"].mean())** 2)  * np.sum((data[\"Births\"] - data[\"Births\"].mean())** 2) )"
   ]
  },
  {
   "cell_type": "code",
   "execution_count": 4,
   "id": "desperate-lounge",
   "metadata": {
    "scrolled": true
   },
   "outputs": [
    {
     "name": "stdout",
     "output_type": "stream",
     "text": [
      "0.7687\n"
     ]
    }
   ],
   "source": [
    "assert round(pirs_coef, 4) == round(np.corrcoef(data[\"Illit\"], data[\"Births\"])[0][1], 4)\n",
    "print(round(pirs_coef, 4))"
   ]
  },
  {
   "cell_type": "markdown",
   "id": "intended-patient",
   "metadata": {},
   "source": [
    "**2.** Чему равен выборочный коэффициент корреляции Спирмена признаков из предыдущего вопроса? Округлите до четырёх знаков после десятичной точки."
   ]
  },
  {
   "cell_type": "code",
   "execution_count": 5,
   "id": "inappropriate-heaven",
   "metadata": {},
   "outputs": [
    {
     "data": {
      "text/plain": [
       "0.753"
      ]
     },
     "execution_count": 5,
     "metadata": {},
     "output_type": "execute_result"
    }
   ],
   "source": [
    "round(stats.spearmanr(data[\"Illit\"], data[\"Births\"])[0], 4)"
   ]
  },
  {
   "cell_type": "markdown",
   "id": "roman-mixture",
   "metadata": {},
   "source": [
    "## Корреляционный анализ"
   ]
  },
  {
   "cell_type": "markdown",
   "id": "encouraging-heaven",
   "metadata": {},
   "source": [
    "**1.** Для 61 большого города в Англии и Уэльсе известны средняя годовая смертность на 100000 населения (по данным 1958–1964) и концентрация кальция в питьевой воде (в частях на маллион). Чем выше концентрация кальция, тем жёстче вода. Города дополнительно поделены на северные и южные.\n",
    "\n",
    "Есть ли связь между жёсткостью воды и средней годовой смертностью? Посчитайте значение коэффициента корреляции Пирсона между этими признаками, округлите его до четырёх знаков после десятичной точки."
   ]
  },
  {
   "cell_type": "code",
   "execution_count": 6,
   "id": "hearing-chile",
   "metadata": {},
   "outputs": [
    {
     "data": {
      "text/html": [
       "<div>\n",
       "<style scoped>\n",
       "    .dataframe tbody tr th:only-of-type {\n",
       "        vertical-align: middle;\n",
       "    }\n",
       "\n",
       "    .dataframe tbody tr th {\n",
       "        vertical-align: top;\n",
       "    }\n",
       "\n",
       "    .dataframe thead th {\n",
       "        text-align: right;\n",
       "    }\n",
       "</style>\n",
       "<table border=\"1\" class=\"dataframe\">\n",
       "  <thead>\n",
       "    <tr style=\"text-align: right;\">\n",
       "      <th></th>\n",
       "      <th>location</th>\n",
       "      <th>town</th>\n",
       "      <th>mortality</th>\n",
       "      <th>hardness</th>\n",
       "    </tr>\n",
       "  </thead>\n",
       "  <tbody>\n",
       "    <tr>\n",
       "      <th>0</th>\n",
       "      <td>South</td>\n",
       "      <td>Bath</td>\n",
       "      <td>1247</td>\n",
       "      <td>105</td>\n",
       "    </tr>\n",
       "    <tr>\n",
       "      <th>1</th>\n",
       "      <td>North</td>\n",
       "      <td>Birkenhead</td>\n",
       "      <td>1668</td>\n",
       "      <td>17</td>\n",
       "    </tr>\n",
       "    <tr>\n",
       "      <th>2</th>\n",
       "      <td>South</td>\n",
       "      <td>Birmingham</td>\n",
       "      <td>1466</td>\n",
       "      <td>5</td>\n",
       "    </tr>\n",
       "    <tr>\n",
       "      <th>3</th>\n",
       "      <td>North</td>\n",
       "      <td>Blackburn</td>\n",
       "      <td>1800</td>\n",
       "      <td>14</td>\n",
       "    </tr>\n",
       "    <tr>\n",
       "      <th>4</th>\n",
       "      <td>North</td>\n",
       "      <td>Blackpool</td>\n",
       "      <td>1609</td>\n",
       "      <td>18</td>\n",
       "    </tr>\n",
       "  </tbody>\n",
       "</table>\n",
       "</div>"
      ],
      "text/plain": [
       "  location        town  mortality  hardness\n",
       "0    South        Bath       1247       105\n",
       "1    North  Birkenhead       1668        17\n",
       "2    South  Birmingham       1466         5\n",
       "3    North   Blackburn       1800        14\n",
       "4    North   Blackpool       1609        18"
      ]
     },
     "execution_count": 6,
     "metadata": {},
     "output_type": "execute_result"
    }
   ],
   "source": [
    "water_data = pd.read_csv(\"data/water.txt\", sep=\"\\t\", header=0)\n",
    "water_data.head()"
   ]
  },
  {
   "cell_type": "code",
   "execution_count": 7,
   "id": "governmental-rouge",
   "metadata": {
    "scrolled": true
   },
   "outputs": [
    {
     "data": {
      "text/plain": [
       "-0.6548"
      ]
     },
     "execution_count": 7,
     "metadata": {},
     "output_type": "execute_result"
    }
   ],
   "source": [
    "round(np.corrcoef(water_data[\"hardness\"], water_data[\"mortality\"])[0][1], 4)"
   ]
  },
  {
   "cell_type": "markdown",
   "id": "frozen-consumer",
   "metadata": {},
   "source": [
    "**2.** В предыдущей задаче посчитайте значение коэффициента корреляции Спирмена между средней годовой смертностью и жёсткостью воды. Округлите до четырёх знаков после десятичной точки. "
   ]
  },
  {
   "cell_type": "code",
   "execution_count": 8,
   "id": "dedicated-shirt",
   "metadata": {
    "scrolled": true
   },
   "outputs": [
    {
     "data": {
      "text/plain": [
       "-0.6317"
      ]
     },
     "execution_count": 8,
     "metadata": {},
     "output_type": "execute_result"
    }
   ],
   "source": [
    "round(stats.spearmanr(water_data[\"hardness\"], water_data[\"mortality\"])[0], 4)"
   ]
  },
  {
   "cell_type": "markdown",
   "id": "outer-final",
   "metadata": {},
   "source": [
    "**3.** Сохраняется ли связь между признаками, если разбить выборку на северные и южные города? Посчитайте значения корреляции Пирсона между средней годовой смертностью и жёсткостью воды в каждой из двух подвыборок, введите наименьшее по модулю из двух значений, округлив его до четырёх знаков после десятичной точки."
   ]
  },
  {
   "cell_type": "code",
   "execution_count": 9,
   "id": "searching-print",
   "metadata": {},
   "outputs": [
    {
     "data": {
      "text/plain": [
       "-0.6022"
      ]
     },
     "execution_count": 9,
     "metadata": {},
     "output_type": "execute_result"
    }
   ],
   "source": [
    "round(\n",
    "    np.corrcoef(water_data[water_data.loc[:, 'location'].values =='South'][\"hardness\"],\n",
    "                water_data[water_data.loc[:, 'location'].values =='South'][\"mortality\"])[0][1], 4)"
   ]
  },
  {
   "cell_type": "code",
   "execution_count": 10,
   "id": "portable-jersey",
   "metadata": {},
   "outputs": [
    {
     "data": {
      "text/plain": [
       "-0.3686"
      ]
     },
     "execution_count": 10,
     "metadata": {},
     "output_type": "execute_result"
    }
   ],
   "source": [
    "round(\n",
    "    np.corrcoef(water_data[water_data.loc[:, 'location'].values =='North'][\"hardness\"],\n",
    "                water_data[water_data.loc[:, 'location'].values =='North'][\"mortality\"])[0][1], 4)"
   ]
  },
  {
   "cell_type": "markdown",
   "id": "bored-person",
   "metadata": {},
   "source": [
    "**4.** Среди респондентов General Social Survey 2014 года хотя бы раз в месяц проводят вечер в баре 203 женщины и 239 мужчин; реже, чем раз в месяц, это делают 718 женщин и 515 мужчин.  \n",
    "\n",
    "Посчитайте значение коэффициента корреляции Мэтьюса между полом и частотой похода в бары. Округлите значение до трёх знаков после десятичной точки."
   ]
  },
  {
   "cell_type": "code",
   "execution_count": 11,
   "id": "skilled-opportunity",
   "metadata": {},
   "outputs": [
    {
     "name": "stdout",
     "output_type": "stream",
     "text": [
      "Matthews correlation is: 0.109\n"
     ]
    }
   ],
   "source": [
    "def Matthews_correlation(a, b, c, d):\n",
    "    return (a*d-b*c)/np.sqrt((a+b)*(a+c)*(b+d)*(c+d))\n",
    "\n",
    "men_visit_monthly = 239\n",
    "women_visit_monthly = 203\n",
    "men_visit_rarely = 515\n",
    "women_visit_rarely = 718\n",
    "print(f'Matthews correlation is: {np.round(Matthews_correlation(men_visit_monthly, men_visit_rarely, women_visit_monthly, women_visit_rarely), 3)}')"
   ]
  },
  {
   "cell_type": "markdown",
   "id": "simple-dining",
   "metadata": {},
   "source": [
    "**5.** В предыдущей задаче проверьте, значимо ли коэффициент корреляции Мэтьюса отличается от нуля. Посчитайте достигаемый уровень значимости; используйте функцию scipy.stats.chi2_contingency. Введите номер первой значащей цифры (например, если вы получили $5.5\\times10^{-8}$, нужно ввести 8)."
   ]
  },
  {
   "cell_type": "code",
   "execution_count": 12,
   "id": "tender-target",
   "metadata": {},
   "outputs": [
    {
     "name": "stdout",
     "output_type": "stream",
     "text": [
      "Chi2 p-value is: 0.000011\n"
     ]
    }
   ],
   "source": [
    "chi_stat = stats.chi2_contingency([[men_visit_monthly, men_visit_rarely], [women_visit_monthly, women_visit_rarely]])\n",
    "print(\"Chi2 p-value is: %f\" % chi_stat[1])"
   ]
  },
  {
   "cell_type": "markdown",
   "id": "finite-situation",
   "metadata": {},
   "source": [
    "**6.** В предыдущей задаче давайте попробуем ответить на немного другой вопрос: отличаются ли доля мужчин и доля женщин, относительно часто проводящих вечера в баре? Постройте 95% доверительный интервал для разности долей, вычитая долю женщин из доли мужчин. Чему равна его нижняя граница? Округлите до четырёх знаков после десятичной точки."
   ]
  },
  {
   "cell_type": "code",
   "execution_count": 13,
   "id": "internal-england",
   "metadata": {},
   "outputs": [
    {
     "name": "stdout",
     "output_type": "stream",
     "text": [
      "Interval for men and women bar visitors proportion diff: [0.0539, 0.1392]\n"
     ]
    }
   ],
   "source": [
    "def proportions_confint_diff_ind(p1, count1, p2, count2, alpha = 0.05):    \n",
    "    z = stats.norm.ppf(1 - alpha / 2.)\n",
    "    \n",
    "    left_boundary = (p1 - p2) - z * np.sqrt(p1 * (1. - p1)/ count1 + p2 * (1 - p2)/ count2)\n",
    "    right_boundary = (p1 - p2) + z * np.sqrt(p1 * (1. - p1)/ count1 + p2 * (1 - p2)/ count2)\n",
    "    \n",
    "    return (left_boundary, right_boundary)\n",
    "\n",
    "all_men = men_visit_monthly + men_visit_rarely\n",
    "all_women = women_visit_monthly + women_visit_rarely\n",
    "men_proportion = float(men_visit_monthly)/float(all_men)\n",
    "women_proportion = float(women_visit_monthly)/float(all_women)\n",
    "conf_interval_diff = proportions_confint_diff_ind(men_proportion, all_men, women_proportion, all_women)\n",
    "print(\"Interval for men and women bar visitors proportion diff: [%.4f, %.4f]\" % (np.round(conf_interval_diff[0],4),np.round(conf_interval_diff[1],4)))"
   ]
  },
  {
   "cell_type": "code",
   "execution_count": 14,
   "id": "later-climate",
   "metadata": {},
   "outputs": [
    {
     "name": "stdout",
     "output_type": "stream",
     "text": [
      "p-value for men-women proportion difference is: 8.153453089576601e-06\n"
     ]
    }
   ],
   "source": [
    "def proportions_diff_z_stat_ind(p1, count1, p2, count2, alpha = 0.05):\n",
    "    P = float(p1*count1 + p2*count2) / (count1 + count2)\n",
    "    \n",
    "    return (p1 - p2) / np.sqrt(P * (1 - P) * (1. / count1 + 1. / count2))\n",
    "\n",
    "def proportions_diff_z_test(z_stat, alternative = 'two-sided'):\n",
    "    if alternative not in ('two-sided', 'less', 'greater'):\n",
    "        raise ValueError(\"alternative not recognized\\n\"\n",
    "                         \"should be 'two-sided', 'less' or 'greater'\")\n",
    "    \n",
    "    if alternative == 'two-sided':\n",
    "        return 2 * (1 - stats.norm.cdf(np.abs(z_stat)))\n",
    "    \n",
    "    if alternative == 'less':\n",
    "        return stats.norm.cdf(z_stat)\n",
    "\n",
    "    if alternative == 'greater':\n",
    "        return 1 - stats.norm.cdf(z_stat)\n",
    "\n",
    "\n",
    "pvalue = proportions_diff_z_test(proportions_diff_z_stat_ind(men_proportion, all_men, women_proportion, all_women))\n",
    "print(f'p-value for men-women proportion difference is: {pvalue}')"
   ]
  },
  {
   "cell_type": "code",
   "execution_count": 15,
   "id": "efficient-copper",
   "metadata": {},
   "outputs": [
    {
     "name": "stdout",
     "output_type": "stream",
     "text": [
      "Chi2 statistic value is: 293.6831\n"
     ]
    }
   ],
   "source": [
    "contingency_table = np.array([[197, 111, 33], [382, 685, 331], [110, 342, 333]])\n",
    "chi_stat_happiness = stats.chi2_contingency(contingency_table)\n",
    "print(f'Chi2 statistic value is: {np.round(chi_stat_happiness[0], 4)}')"
   ]
  },
  {
   "cell_type": "code",
   "execution_count": 16,
   "id": "searching-belgium",
   "metadata": {},
   "outputs": [
    {
     "name": "stdout",
     "output_type": "stream",
     "text": [
      "Chi2 p-value is: 2.4964299580093467e-62\n"
     ]
    }
   ],
   "source": [
    "print(f\"Chi2 p-value is: {chi_stat_happiness[1]}\")"
   ]
  },
  {
   "cell_type": "code",
   "execution_count": 17,
   "id": "colonial-hawaiian",
   "metadata": {},
   "outputs": [
    {
     "name": "stdout",
     "output_type": "stream",
     "text": [
      "V-Cramer statistic is: 0.2412\n"
     ]
    }
   ],
   "source": [
    "def v_Cramer_correlation(table):\n",
    "    chi_stat = stats.chi2_contingency(table)[0]\n",
    "    k_min = np.min(table.shape)\n",
    "    n = np.sum(table)\n",
    "    return np.sqrt(chi_stat/(n*(k_min-1)))\n",
    "\n",
    "print(f'V-Cramer statistic is: {np.round(v_Cramer_correlation(contingency_table), 4)}')"
   ]
  }
 ],
 "metadata": {
  "kernelspec": {
   "display_name": "Python 3",
   "language": "python",
   "name": "python3"
  },
  "language_info": {
   "codemirror_mode": {
    "name": "ipython",
    "version": 3
   },
   "file_extension": ".py",
   "mimetype": "text/x-python",
   "name": "python",
   "nbconvert_exporter": "python",
   "pygments_lexer": "ipython3",
   "version": "3.9.0"
  }
 },
 "nbformat": 4,
 "nbformat_minor": 5
}
