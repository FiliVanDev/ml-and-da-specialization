{
 "metadata": {
  "language_info": {
   "codemirror_mode": {
    "name": "ipython",
    "version": 3
   },
   "file_extension": ".py",
   "mimetype": "text/x-python",
   "name": "python",
   "nbconvert_exporter": "python",
   "pygments_lexer": "ipython3",
   "version": "3.9.0-final"
  },
  "orig_nbformat": 2,
  "kernelspec": {
   "name": "python3",
   "display_name": "Python 3.9.0 64-bit",
   "metadata": {
    "interpreter": {
     "hash": "854f4b515b92a7a5c60444570a82f986451350542374fb6af1d9a6ca86983337"
    }
   }
  }
 },
 "nbformat": 4,
 "nbformat_minor": 2,
 "cells": [
  {
   "source": [
    "## Задание по программированию: Размещение баннеров"
   ],
   "cell_type": "markdown",
   "metadata": {}
  },
  {
   "source": [
    "Представим, что международное круизное агентство Carnival Cruise Line решило себя разрекламировать с помощью баннеров и обратилось для этого к вам. Чтобы протестировать, велика ли от таких баннеров польза, их будет размещено всего 20 штук по всему миру. Вам надо выбрать 20 таких локаций для размещения, чтобы польза была большой и агентство продолжило с вами сотрудничать.\n",
    "\n",
    "Агентство крупное, и у него есть несколько офисов по всему миру. Вблизи этих офисов оно и хочет разместить баннеры — легче договариваться и проверять результат. Также эти места должны быть популярны среди туристов.\n",
    "\n",
    "Для поиска оптимальных мест воспользуемся базой данных крупнейшей социальной сети, основанной на локациях — Foursquare.\n",
    "Часть открытых данных есть, например, на сайте archive.org:\n",
    "\n",
    "https://archive.org/details/201309_foursquare_dataset_umn\n",
    "\n",
    "Скачаем любым удобным образом архив fsq.zip с этой страницы.\n",
    "\n",
    "Нас будет интересовать файл checkins.dat.\n",
    "\n",
    "1. Для удобной работы с этим документом преобразуем его к формату csv, удалив строки, не содержащие координат — они неинформативны для нас.\n",
    "2. С помощью pandas построим DataFrame и убедимся, что все 396634 строки с координатами считаны успешно."
   ],
   "cell_type": "markdown",
   "metadata": {}
  },
  {
   "cell_type": "code",
   "execution_count": 7,
   "metadata": {},
   "outputs": [],
   "source": [
    "import numpy as np\n",
    "import pandas as pd\n",
    "from sklearn.cluster import MeanShift, estimate_bandwidth"
   ]
  },
  {
   "cell_type": "code",
   "execution_count": 8,
   "metadata": {},
   "outputs": [],
   "source": [
    "data = pd.read_csv(\"checkins.dat\", sep='|', header=None, skiprows=1,\n",
    "                   low_memory = False, skipinitialspace=True,\n",
    "                   names=['id','user_id','venue_id','latitude','longitude','created_at'])\n",
    "data.dropna(subset=['latitude', 'longitude'], inplace = True)\n",
    "data.reset_index(inplace=True, drop=True)"
   ]
  },
  {
   "cell_type": "code",
   "execution_count": 9,
   "metadata": {},
   "outputs": [
    {
     "output_type": "execute_result",
     "data": {
      "text/plain": [
       "        id    user_id  venue_id   latitude   longitude           created_at\n",
       "0  984222     15824.0    5222.0  38.895112  -77.036366  2012-04-21 17:43:47\n",
       "1  984234     44652.0    5222.0  33.800745  -84.410520  2012-04-21 17:43:43\n",
       "2  984291    105054.0    5222.0  45.523452 -122.676207  2012-04-21 17:39:22\n",
       "3  984318   2146539.0    5222.0  40.764462 -111.904565  2012-04-21 17:35:46\n",
       "4  984232     93870.0  380645.0  33.448377 -112.074037  2012-04-21 17:38:18"
      ],
      "text/html": "<div>\n<style scoped>\n    .dataframe tbody tr th:only-of-type {\n        vertical-align: middle;\n    }\n\n    .dataframe tbody tr th {\n        vertical-align: top;\n    }\n\n    .dataframe thead th {\n        text-align: right;\n    }\n</style>\n<table border=\"1\" class=\"dataframe\">\n  <thead>\n    <tr style=\"text-align: right;\">\n      <th></th>\n      <th>id</th>\n      <th>user_id</th>\n      <th>venue_id</th>\n      <th>latitude</th>\n      <th>longitude</th>\n      <th>created_at</th>\n    </tr>\n  </thead>\n  <tbody>\n    <tr>\n      <th>0</th>\n      <td>984222</td>\n      <td>15824.0</td>\n      <td>5222.0</td>\n      <td>38.895112</td>\n      <td>-77.036366</td>\n      <td>2012-04-21 17:43:47</td>\n    </tr>\n    <tr>\n      <th>1</th>\n      <td>984234</td>\n      <td>44652.0</td>\n      <td>5222.0</td>\n      <td>33.800745</td>\n      <td>-84.410520</td>\n      <td>2012-04-21 17:43:43</td>\n    </tr>\n    <tr>\n      <th>2</th>\n      <td>984291</td>\n      <td>105054.0</td>\n      <td>5222.0</td>\n      <td>45.523452</td>\n      <td>-122.676207</td>\n      <td>2012-04-21 17:39:22</td>\n    </tr>\n    <tr>\n      <th>3</th>\n      <td>984318</td>\n      <td>2146539.0</td>\n      <td>5222.0</td>\n      <td>40.764462</td>\n      <td>-111.904565</td>\n      <td>2012-04-21 17:35:46</td>\n    </tr>\n    <tr>\n      <th>4</th>\n      <td>984232</td>\n      <td>93870.0</td>\n      <td>380645.0</td>\n      <td>33.448377</td>\n      <td>-112.074037</td>\n      <td>2012-04-21 17:38:18</td>\n    </tr>\n  </tbody>\n</table>\n</div>"
     },
     "metadata": {},
     "execution_count": 9
    }
   ],
   "source": [
    "data.head()"
   ]
  },
  {
   "cell_type": "code",
   "execution_count": 10,
   "metadata": {},
   "outputs": [
    {
     "output_type": "stream",
     "name": "stdout",
     "text": [
      "<class 'pandas.core.frame.DataFrame'>\nRangeIndex: 396634 entries, 0 to 396633\nData columns (total 6 columns):\n #   Column      Non-Null Count   Dtype  \n---  ------      --------------   -----  \n 0   id          396634 non-null  object \n 1   user_id     396634 non-null  float64\n 2   venue_id    396634 non-null  float64\n 3   latitude    396634 non-null  float64\n 4   longitude   396634 non-null  float64\n 5   created_at  396634 non-null  object \ndtypes: float64(4), object(2)\nmemory usage: 18.2+ MB\n"
     ]
    }
   ],
   "source": [
    "data.info()"
   ]
  },
  {
   "source": [
    "4. Теперь необходимо кластеризовать данные координаты, чтобы выявить центры скоплений туристов. Поскольку баннеры имеют сравнительно небольшую площадь действия, нам нужен алгоритм, позволяющий ограничить размер кластера и не зависящий от количества кластеров.\n",
    "\n",
    "Эта задача — хороший повод познакомиться с алгоритмом MeanShift, который мы обошли стороной в основной части лекций. Его описание при желании можно посмотреть в sklearn user guide, а чуть позже появится дополнительное видео с обзором этого и некоторых других алгоритмов кластеризации. Используйте MeanShift, указав bandwidth=0.1, что в переводе из градусов в метры колеблется примерно от 5 до 10 км в средних широтах."
   ],
   "cell_type": "markdown",
   "metadata": {}
  },
  {
   "cell_type": "code",
   "execution_count": 22,
   "metadata": {},
   "outputs": [],
   "source": [
    "ms = MeanShift(bandwidth=0.1, n_jobs=-1)\n"
   ]
  },
  {
   "cell_type": "code",
   "execution_count": 23,
   "metadata": {},
   "outputs": [
    {
     "output_type": "stream",
     "name": "stdout",
     "text": [
      "Wall time: 1min 31s\n"
     ]
    },
    {
     "output_type": "execute_result",
     "data": {
      "text/plain": [
       "MeanShift(bandwidth=0.1, n_jobs=-1)"
      ]
     },
     "metadata": {},
     "execution_count": 23
    }
   ],
   "source": [
    "%%time\n",
    "ms.fit(data.loc[:100000, ['latitude','longitude']])"
   ]
  },
  {
   "cell_type": "code",
   "execution_count": 24,
   "metadata": {},
   "outputs": [],
   "source": [
    "labels = ms.labels_\n",
    "cluster_centers = ms.cluster_centers_"
   ]
  },
  {
   "source": [
    "5. Некоторые из получившихся кластеров содержат слишком мало точек — такие кластеры не интересны рекламодателям. Поэтому надо определить, какие из кластеров содержат, скажем, больше 15 элементов. Центры этих кластеров и являются оптимальными для размещения."
   ],
   "cell_type": "markdown",
   "metadata": {}
  },
  {
   "cell_type": "code",
   "execution_count": 25,
   "metadata": {},
   "outputs": [],
   "source": [
    "cluster_centers = pd.DataFrame(ms.cluster_centers_[pd.Series(labels).value_counts() > 15],\n",
    "    columns=['latitude','longitude'])"
   ]
  },
  {
   "cell_type": "code",
   "execution_count": 26,
   "metadata": {},
   "outputs": [
    {
     "output_type": "execute_result",
     "data": {
      "text/plain": [
       "      latitude   longitude\n",
       "0    40.717716  -73.991835\n",
       "1    33.449438 -112.002140\n",
       "2    33.446380 -111.901888\n",
       "3    41.878244  -87.629843\n",
       "4    37.688682 -122.409330\n",
       "..         ...         ...\n",
       "587  39.202993  -84.404975\n",
       "588  38.041182 -122.150053\n",
       "589  37.270702  -76.707457\n",
       "590  37.204643  -80.412689\n",
       "591  36.825228 -119.702919\n",
       "\n",
       "[592 rows x 2 columns]"
      ],
      "text/html": "<div>\n<style scoped>\n    .dataframe tbody tr th:only-of-type {\n        vertical-align: middle;\n    }\n\n    .dataframe tbody tr th {\n        vertical-align: top;\n    }\n\n    .dataframe thead th {\n        text-align: right;\n    }\n</style>\n<table border=\"1\" class=\"dataframe\">\n  <thead>\n    <tr style=\"text-align: right;\">\n      <th></th>\n      <th>latitude</th>\n      <th>longitude</th>\n    </tr>\n  </thead>\n  <tbody>\n    <tr>\n      <th>0</th>\n      <td>40.717716</td>\n      <td>-73.991835</td>\n    </tr>\n    <tr>\n      <th>1</th>\n      <td>33.449438</td>\n      <td>-112.002140</td>\n    </tr>\n    <tr>\n      <th>2</th>\n      <td>33.446380</td>\n      <td>-111.901888</td>\n    </tr>\n    <tr>\n      <th>3</th>\n      <td>41.878244</td>\n      <td>-87.629843</td>\n    </tr>\n    <tr>\n      <th>4</th>\n      <td>37.688682</td>\n      <td>-122.409330</td>\n    </tr>\n    <tr>\n      <th>...</th>\n      <td>...</td>\n      <td>...</td>\n    </tr>\n    <tr>\n      <th>587</th>\n      <td>39.202993</td>\n      <td>-84.404975</td>\n    </tr>\n    <tr>\n      <th>588</th>\n      <td>38.041182</td>\n      <td>-122.150053</td>\n    </tr>\n    <tr>\n      <th>589</th>\n      <td>37.270702</td>\n      <td>-76.707457</td>\n    </tr>\n    <tr>\n      <th>590</th>\n      <td>37.204643</td>\n      <td>-80.412689</td>\n    </tr>\n    <tr>\n      <th>591</th>\n      <td>36.825228</td>\n      <td>-119.702919</td>\n    </tr>\n  </tbody>\n</table>\n<p>592 rows × 2 columns</p>\n</div>"
     },
     "metadata": {},
     "execution_count": 26
    }
   ],
   "source": [
    "cluster_centers"
   ]
  },
  {
   "source": [
    "6. Как мы помним, 20 баннеров надо разместить близ офисов компании. Найдем на Google Maps по запросу Carnival Cruise Line адреса всех офисов:"
   ],
   "cell_type": "markdown",
   "metadata": {}
  },
  {
   "cell_type": "code",
   "execution_count": 27,
   "metadata": {},
   "outputs": [],
   "source": [
    "offices = pd.DataFrame(np.array([[33.751277, -118.188740],\\\n",
    "        [25.867736, -80.324116],\\\n",
    "        [51.503016, -0.075479],\\\n",
    "        [52.378894, 4.885084],\\\n",
    "        [39.366487, 117.036146],\\\n",
    "        [-33.868457, 151.205134]]),\n",
    "        columns=['latitude','longitude'])"
   ]
  },
  {
   "source": [
    "7. Осталось определить 20 ближайших к ним центров кластеров. Т.е. посчитать дистанцию до ближайшего офиса для каждой точки и выбрать 20 с наименьшим значением."
   ],
   "cell_type": "markdown",
   "metadata": {}
  },
  {
   "cell_type": "code",
   "execution_count": 28,
   "metadata": {},
   "outputs": [],
   "source": [
    "for i in range(offices.shape[0]):\n",
    "    cluster_centers[f\"dist_to_{i}\"] = np.linalg.norm(cluster_centers.loc[:, ['latitude','longitude']] - offices.values[i], axis=1).reshape(-1, 1)\n"
   ]
  },
  {
   "cell_type": "code",
   "execution_count": 29,
   "metadata": {},
   "outputs": [
    {
     "output_type": "execute_result",
     "data": {
      "text/plain": [
       "    latitude   longitude  dist_to_0  dist_to_1   dist_to_2   dist_to_3  \\\n",
       "0  40.717716  -73.991835  44.742571  16.143720   74.699066   79.734255   \n",
       "1  33.449438 -112.002140   6.193959  32.572679  113.373317  118.410081   \n",
       "2  33.446380 -111.901888   6.294241  32.474475  113.274833  118.311609   \n",
       "3  41.878244  -87.629843  31.621097  17.598580   88.081797   93.108944   \n",
       "4  37.688682 -122.409330   5.772048  43.713842  123.111360  128.139261   \n",
       "\n",
       "    dist_to_4   dist_to_5  \n",
       "0  191.032760  237.227259  \n",
       "1  229.114704  271.679532  \n",
       "2  229.014565  271.581649  \n",
       "3  204.681402  250.558794  \n",
       "4  239.451355  282.816724  "
      ],
      "text/html": "<div>\n<style scoped>\n    .dataframe tbody tr th:only-of-type {\n        vertical-align: middle;\n    }\n\n    .dataframe tbody tr th {\n        vertical-align: top;\n    }\n\n    .dataframe thead th {\n        text-align: right;\n    }\n</style>\n<table border=\"1\" class=\"dataframe\">\n  <thead>\n    <tr style=\"text-align: right;\">\n      <th></th>\n      <th>latitude</th>\n      <th>longitude</th>\n      <th>dist_to_0</th>\n      <th>dist_to_1</th>\n      <th>dist_to_2</th>\n      <th>dist_to_3</th>\n      <th>dist_to_4</th>\n      <th>dist_to_5</th>\n    </tr>\n  </thead>\n  <tbody>\n    <tr>\n      <th>0</th>\n      <td>40.717716</td>\n      <td>-73.991835</td>\n      <td>44.742571</td>\n      <td>16.143720</td>\n      <td>74.699066</td>\n      <td>79.734255</td>\n      <td>191.032760</td>\n      <td>237.227259</td>\n    </tr>\n    <tr>\n      <th>1</th>\n      <td>33.449438</td>\n      <td>-112.002140</td>\n      <td>6.193959</td>\n      <td>32.572679</td>\n      <td>113.373317</td>\n      <td>118.410081</td>\n      <td>229.114704</td>\n      <td>271.679532</td>\n    </tr>\n    <tr>\n      <th>2</th>\n      <td>33.446380</td>\n      <td>-111.901888</td>\n      <td>6.294241</td>\n      <td>32.474475</td>\n      <td>113.274833</td>\n      <td>118.311609</td>\n      <td>229.014565</td>\n      <td>271.581649</td>\n    </tr>\n    <tr>\n      <th>3</th>\n      <td>41.878244</td>\n      <td>-87.629843</td>\n      <td>31.621097</td>\n      <td>17.598580</td>\n      <td>88.081797</td>\n      <td>93.108944</td>\n      <td>204.681402</td>\n      <td>250.558794</td>\n    </tr>\n    <tr>\n      <th>4</th>\n      <td>37.688682</td>\n      <td>-122.409330</td>\n      <td>5.772048</td>\n      <td>43.713842</td>\n      <td>123.111360</td>\n      <td>128.139261</td>\n      <td>239.451355</td>\n      <td>282.816724</td>\n    </tr>\n  </tbody>\n</table>\n</div>"
     },
     "metadata": {},
     "execution_count": 29
    }
   ],
   "source": [
    "cluster_centers.head()"
   ]
  },
  {
   "cell_type": "code",
   "execution_count": 30,
   "metadata": {},
   "outputs": [],
   "source": [
    "cl_cen = cluster_centers.copy()"
   ]
  },
  {
   "cell_type": "code",
   "execution_count": 31,
   "metadata": {},
   "outputs": [],
   "source": [
    "ind_dist = []\n",
    "for j in range(20):\n",
    "    ind = []\n",
    "    for i in range(6):\n",
    "        min_ind = cl_cen[f\"dist_to_{i}\"].idxmin()\n",
    "        min_value = cl_cen[f\"dist_to_{i}\"].min()\n",
    "        ind_dist.append([min_ind, min_value])\n",
    "        ind.append(min_ind)\n",
    "    \n",
    "    cl_cen.drop(ind, inplace=True)"
   ]
  },
  {
   "cell_type": "code",
   "execution_count": 34,
   "metadata": {},
   "outputs": [
    {
     "output_type": "execute_result",
     "data": {
      "text/plain": [
       "[[420, 0.007834758163107856],\n",
       " [370, 0.009353316185992226],\n",
       " [419, 0.02267406615838222],\n",
       " [58, 0.05005829482278787],\n",
       " [51, 0.07084773242717578],\n",
       " [29, 0.13410903336184654],\n",
       " [167, 0.16740596425035667],\n",
       " [92, 0.18887596060185083],\n",
       " [87, 0.19577945647763628],\n",
       " [42, 0.21181053682436798],\n",
       " [291, 0.22223329073179776],\n",
       " [320, 0.27130075950667704],\n",
       " [119, 0.2949788868004569],\n",
       " [55, 0.3022701186924605],\n",
       " [27, 0.30473050307840693],\n",
       " [11, 0.3148837903362732],\n",
       " [32, 0.3388104702511318],\n",
       " [159, 0.3408456533220572],\n",
       " [17, 0.37868750125029754],\n",
       " [47, 0.3867062248427277]]"
      ]
     },
     "metadata": {},
     "execution_count": 34
    }
   ],
   "source": [
    "ind_dist_sort = sorted(ind_dist, key=lambda a_entry: a_entry[1])\n",
    "ind_dist_sort[0:20] # 20 ближайших к офисам центров кластеров "
   ]
  },
  {
   "cell_type": "code",
   "execution_count": 35,
   "metadata": {},
   "outputs": [],
   "source": [
    "with open('c3w1e1_submission.txt', 'w') as f:\n",
    "    f.write(' '.join(str(i) for i in cluster_centers.loc[ind_dist_sort[0][0], ['latitude', 'longitude']].values))"
   ]
  }
 ]
}